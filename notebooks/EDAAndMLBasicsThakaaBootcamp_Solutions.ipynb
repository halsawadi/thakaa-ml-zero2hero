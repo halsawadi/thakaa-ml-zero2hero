{
 "cells": [
  {
   "cell_type": "markdown",
   "id": "6606cdb4-6359-4817-bbd0-f347dfdf4c5b",
   "metadata": {},
   "source": [
    "<p>\n",
    "  <center><img src=\"../assets/thakaa_logo.png\" width=\"500\" height=\"300\"></center>\n",
    "</p>\n",
    "\n",
    "<p>\n",
    "<br>\n",
    "  <center><img src=\"../assets/artwork.png\" width=\"600\" height=\"300\"></center>\n",
    "</p>\n",
    "<br>\n",
    "<h1 style='text-align: center;'> سلسلة معسكرات ذكاء: المعسكر الثاني | استكشاف وتحليل البيانات وأساسيات تعلم الآلة </h1>\n",
    "<!-- <font size=\"+2\" style='text-align: center;'> تعلّم كيف تكتشف البيانات وتطوّر نماذج تعلّم الآلة </h2> -->\n",
    "<div style=\"text-align: center; font-family: Arial; font-size: 2em;\">تعلّم كيف تكتشف البيانات وتطوّر نماذج تعلّم الآلة</div>"
   ]
  },
  {
   "cell_type": "markdown",
   "id": "bdddfc34-2b53-45ce-b914-b17f415b3a7f",
   "metadata": {
    "tags": []
   },
   "source": [
    "<h2 style=\"text-align: left;\"> 📚 استيراد المكتبات</h2>"
   ]
  },
  {
   "cell_type": "markdown",
   "id": "b4edb2a4-fc4c-4976-968c-ae90418f9389",
   "metadata": {},
   "source": [
    "الشيء الأول اللي حنسويه هو إننا نجيب المكتبات اللي حنحتاجها في هذا النوتبوك \n",
    "\n",
    "هذه هي المكتبات اللي حنحتاجها في مرحلة اكتشاف البيانات\n",
    "\n",
    "* __numpy__: The number one library for scientific computing in python\n",
    "* __pandas__: Allows us to work with structured data effectively\n",
    "* __matplotlib__: 2D plotting library\n",
    "* __seaborn__: Statistical data visualization based on matplotlib"
   ]
  },
  {
   "cell_type": "code",
   "execution_count": 1,
   "id": "97a37313-9686-4d4e-8913-8d9251dd6b03",
   "metadata": {
    "tags": []
   },
   "outputs": [],
   "source": [
    "import sys\n",
    "\n",
    "sys.path.append('../')\n",
    "\n",
    "%load_ext autoreload\n",
    "%autoreload 2"
   ]
  },
  {
   "cell_type": "code",
   "execution_count": 2,
   "id": "d281a8fd-f6d4-4227-b36d-e2259f3d8bf5",
   "metadata": {
    "tags": []
   },
   "outputs": [],
   "source": [
    "import numpy as np\n",
    "import pandas as pd\n",
    "import matplotlib.pyplot as plt\n",
    "import seaborn as sns\n",
    "from utils import *\n",
    "from processing import *"
   ]
  },
  {
   "cell_type": "markdown",
   "id": "9a8676c7-dfac-42f2-9497-74c1c8df2298",
   "metadata": {
    "tags": []
   },
   "source": [
    "<h2 style=\"text-align: left;\">🚗 تحميل البيانات</h2>"
   ]
  },
  {
   "cell_type": "markdown",
   "id": "bebfde96-2d19-4421-975e-35bb2d0bcf2c",
   "metadata": {
    "tags": []
   },
   "source": [
    "Our dataset is stored in a comma separated file (CSV-file), and in order to work efficiently with the data we use the Pandas library we imported as pd above. Pandas is a data tool for Python, where data is represented by a DataFrame: a table of structured data similar to an Excel-sheet. You can think of a DataFrame as both a SQL table and a spreadsheet where you have columns with column names and rows with indexes.\n",
    "\n",
    "We will use Pandas a lot during this lab since it is a good and very popular tool for structured data. We have made an effort to explain every function/method or attribute you need, but you are still encouraged to use the documentation provided by Pandas if needed:\n",
    "\n",
    "https://pandas.pydata.org/pandas-docs/stable/index.html# (or ask us!)\n",
    "\n",
    "Another recommended resource for learning some Pandas is \"Kaggle Learn\" and their Pandas module (www.kaggle.com)"
   ]
  },
  {
   "cell_type": "code",
   "execution_count": 3,
   "id": "1d56e982-6825-4446-b06f-22ad01fa58b6",
   "metadata": {
    "tags": []
   },
   "outputs": [
    {
     "data": {
      "text/html": [
       "<div>\n",
       "<style scoped>\n",
       "    .dataframe tbody tr th:only-of-type {\n",
       "        vertical-align: middle;\n",
       "    }\n",
       "\n",
       "    .dataframe tbody tr th {\n",
       "        vertical-align: top;\n",
       "    }\n",
       "\n",
       "    .dataframe thead th {\n",
       "        text-align: right;\n",
       "    }\n",
       "</style>\n",
       "<table border=\"1\" class=\"dataframe\">\n",
       "  <thead>\n",
       "    <tr style=\"text-align: right;\">\n",
       "      <th></th>\n",
       "      <th>Make</th>\n",
       "      <th>Year</th>\n",
       "      <th>Color</th>\n",
       "      <th>Options</th>\n",
       "      <th>Fuel_Type</th>\n",
       "      <th>Mileage</th>\n",
       "      <th>Price</th>\n",
       "      <th>Type</th>\n",
       "    </tr>\n",
       "  </thead>\n",
       "  <tbody>\n",
       "    <tr>\n",
       "      <th>0</th>\n",
       "      <td>Chrysler</td>\n",
       "      <td>2018</td>\n",
       "      <td>Black</td>\n",
       "      <td>Full</td>\n",
       "      <td>Gas</td>\n",
       "      <td>103000</td>\n",
       "      <td>114000</td>\n",
       "      <td>C300</td>\n",
       "    </tr>\n",
       "    <tr>\n",
       "      <th>1</th>\n",
       "      <td>Nissan</td>\n",
       "      <td>2019</td>\n",
       "      <td>Silver</td>\n",
       "      <td>Standard</td>\n",
       "      <td>gas</td>\n",
       "      <td>72418</td>\n",
       "      <td>27500</td>\n",
       "      <td>Sunny</td>\n",
       "    </tr>\n",
       "    <tr>\n",
       "      <th>2</th>\n",
       "      <td>Hyundai</td>\n",
       "      <td>2019</td>\n",
       "      <td>Grey</td>\n",
       "      <td>Standard</td>\n",
       "      <td>gas</td>\n",
       "      <td>114154</td>\n",
       "      <td>43000</td>\n",
       "      <td>Elantra</td>\n",
       "    </tr>\n",
       "    <tr>\n",
       "      <th>3</th>\n",
       "      <td>Hyundai</td>\n",
       "      <td>2019</td>\n",
       "      <td>Silver</td>\n",
       "      <td>Semi Full</td>\n",
       "      <td>Gas</td>\n",
       "      <td>41912</td>\n",
       "      <td>59500</td>\n",
       "      <td>Elantra</td>\n",
       "    </tr>\n",
       "    <tr>\n",
       "      <th>4</th>\n",
       "      <td>Honda</td>\n",
       "      <td>2018</td>\n",
       "      <td>Navy</td>\n",
       "      <td>Full</td>\n",
       "      <td>Gas</td>\n",
       "      <td>39000</td>\n",
       "      <td>72000</td>\n",
       "      <td>Accord</td>\n",
       "    </tr>\n",
       "  </tbody>\n",
       "</table>\n",
       "</div>"
      ],
      "text/plain": [
       "       Make  Year   Color    Options Fuel_Type  Mileage   Price     Type\n",
       "0  Chrysler  2018   Black       Full       Gas   103000  114000     C300\n",
       "1    Nissan  2019  Silver   Standard       gas    72418   27500    Sunny\n",
       "2   Hyundai  2019    Grey   Standard       gas   114154   43000  Elantra\n",
       "3   Hyundai  2019  Silver  Semi Full       Gas    41912   59500  Elantra\n",
       "4     Honda  2018    Navy       Full       Gas    39000   72000   Accord"
      ]
     },
     "execution_count": 3,
     "metadata": {},
     "output_type": "execute_result"
    }
   ],
   "source": [
    "# Load the dataset from the CSV-file into a Pandas dataframe and assign it to a new variable called \"df\"\n",
    "df = read_saudi_arabia_used_cars_dataset()\n",
    "df.head()"
   ]
  },
  {
   "cell_type": "code",
   "execution_count": 4,
   "id": "ad6a9e14-e707-4930-96be-fc802d928f87",
   "metadata": {
    "tags": []
   },
   "outputs": [
    {
     "name": "stdout",
     "output_type": "stream",
     "text": [
      "<class 'pandas.core.frame.DataFrame'>\n",
      "RangeIndex: 5652 entries, 0 to 5651\n",
      "Data columns (total 8 columns):\n",
      " #   Column     Non-Null Count  Dtype \n",
      "---  ------     --------------  ----- \n",
      " 0   Make       5652 non-null   object\n",
      " 1   Year       5652 non-null   int64 \n",
      " 2   Color      5652 non-null   object\n",
      " 3   Options    5611 non-null   object\n",
      " 4   Fuel_Type  5652 non-null   object\n",
      " 5   Mileage    5652 non-null   int64 \n",
      " 6   Price      5652 non-null   int64 \n",
      " 7   Type       5652 non-null   object\n",
      "dtypes: int64(3), object(5)\n",
      "memory usage: 1.8 MB\n"
     ]
    }
   ],
   "source": [
    "df.info(memory_usage=\"deep\")"
   ]
  },
  {
   "cell_type": "markdown",
   "id": "5819c4e6-576f-45a9-9d4d-6635d619bcde",
   "metadata": {
    "tags": []
   },
   "source": [
    "<h2 style=\"text-align: left;\"> 👀 ألقِ نظرة أولى على البيانات</h2>"
   ]
  },
  {
   "cell_type": "code",
   "execution_count": 5,
   "id": "f4e5a61b-70fa-4fa4-abb7-ff6ad90025b4",
   "metadata": {
    "tags": []
   },
   "outputs": [
    {
     "data": {
      "text/html": [
       "<div>\n",
       "<style scoped>\n",
       "    .dataframe tbody tr th:only-of-type {\n",
       "        vertical-align: middle;\n",
       "    }\n",
       "\n",
       "    .dataframe tbody tr th {\n",
       "        vertical-align: top;\n",
       "    }\n",
       "\n",
       "    .dataframe thead th {\n",
       "        text-align: right;\n",
       "    }\n",
       "</style>\n",
       "<table border=\"1\" class=\"dataframe\">\n",
       "  <thead>\n",
       "    <tr style=\"text-align: right;\">\n",
       "      <th></th>\n",
       "      <th>Make</th>\n",
       "      <th>Year</th>\n",
       "      <th>Color</th>\n",
       "      <th>Options</th>\n",
       "      <th>Fuel_Type</th>\n",
       "      <th>Mileage</th>\n",
       "      <th>Price</th>\n",
       "      <th>Type</th>\n",
       "    </tr>\n",
       "  </thead>\n",
       "  <tbody>\n",
       "    <tr>\n",
       "      <th>0</th>\n",
       "      <td>Chrysler</td>\n",
       "      <td>2018</td>\n",
       "      <td>Black</td>\n",
       "      <td>Full</td>\n",
       "      <td>Gas</td>\n",
       "      <td>103000</td>\n",
       "      <td>114000</td>\n",
       "      <td>C300</td>\n",
       "    </tr>\n",
       "    <tr>\n",
       "      <th>1</th>\n",
       "      <td>Nissan</td>\n",
       "      <td>2019</td>\n",
       "      <td>Silver</td>\n",
       "      <td>Standard</td>\n",
       "      <td>gas</td>\n",
       "      <td>72418</td>\n",
       "      <td>27500</td>\n",
       "      <td>Sunny</td>\n",
       "    </tr>\n",
       "    <tr>\n",
       "      <th>2</th>\n",
       "      <td>Hyundai</td>\n",
       "      <td>2019</td>\n",
       "      <td>Grey</td>\n",
       "      <td>Standard</td>\n",
       "      <td>gas</td>\n",
       "      <td>114154</td>\n",
       "      <td>43000</td>\n",
       "      <td>Elantra</td>\n",
       "    </tr>\n",
       "    <tr>\n",
       "      <th>3</th>\n",
       "      <td>Hyundai</td>\n",
       "      <td>2019</td>\n",
       "      <td>Silver</td>\n",
       "      <td>Semi Full</td>\n",
       "      <td>Gas</td>\n",
       "      <td>41912</td>\n",
       "      <td>59500</td>\n",
       "      <td>Elantra</td>\n",
       "    </tr>\n",
       "    <tr>\n",
       "      <th>4</th>\n",
       "      <td>Honda</td>\n",
       "      <td>2018</td>\n",
       "      <td>Navy</td>\n",
       "      <td>Full</td>\n",
       "      <td>Gas</td>\n",
       "      <td>39000</td>\n",
       "      <td>72000</td>\n",
       "      <td>Accord</td>\n",
       "    </tr>\n",
       "    <tr>\n",
       "      <th>5</th>\n",
       "      <td>Toyota</td>\n",
       "      <td>2011</td>\n",
       "      <td>White</td>\n",
       "      <td>Semi Full</td>\n",
       "      <td>Gas</td>\n",
       "      <td>183000</td>\n",
       "      <td>92000</td>\n",
       "      <td>Land Cruiser</td>\n",
       "    </tr>\n",
       "    <tr>\n",
       "      <th>6</th>\n",
       "      <td>Chevrolet</td>\n",
       "      <td>2019</td>\n",
       "      <td>Black</td>\n",
       "      <td>Standard</td>\n",
       "      <td>Gas</td>\n",
       "      <td>70000</td>\n",
       "      <td>80000</td>\n",
       "      <td>Impala</td>\n",
       "    </tr>\n",
       "    <tr>\n",
       "      <th>7</th>\n",
       "      <td>Toyota</td>\n",
       "      <td>2018</td>\n",
       "      <td>White</td>\n",
       "      <td>Standard</td>\n",
       "      <td>Gas</td>\n",
       "      <td>131000</td>\n",
       "      <td>32000</td>\n",
       "      <td>Yaris</td>\n",
       "    </tr>\n",
       "    <tr>\n",
       "      <th>8</th>\n",
       "      <td>Toyota</td>\n",
       "      <td>2017</td>\n",
       "      <td>White</td>\n",
       "      <td>Standard</td>\n",
       "      <td>gas</td>\n",
       "      <td>107000</td>\n",
       "      <td>50000</td>\n",
       "      <td>Camry</td>\n",
       "    </tr>\n",
       "    <tr>\n",
       "      <th>9</th>\n",
       "      <td>Nissan</td>\n",
       "      <td>2014</td>\n",
       "      <td>White</td>\n",
       "      <td>Full</td>\n",
       "      <td>gas</td>\n",
       "      <td>106000</td>\n",
       "      <td>135000</td>\n",
       "      <td>Patrol</td>\n",
       "    </tr>\n",
       "  </tbody>\n",
       "</table>\n",
       "</div>"
      ],
      "text/plain": [
       "        Make  Year   Color    Options Fuel_Type  Mileage   Price          Type\n",
       "0   Chrysler  2018   Black       Full       Gas   103000  114000          C300\n",
       "1     Nissan  2019  Silver   Standard       gas    72418   27500         Sunny\n",
       "2    Hyundai  2019    Grey   Standard       gas   114154   43000       Elantra\n",
       "3    Hyundai  2019  Silver  Semi Full       Gas    41912   59500       Elantra\n",
       "4      Honda  2018    Navy       Full       Gas    39000   72000        Accord\n",
       "5     Toyota  2011   White  Semi Full       Gas   183000   92000  Land Cruiser\n",
       "6  Chevrolet  2019   Black   Standard       Gas    70000   80000        Impala\n",
       "7     Toyota  2018   White   Standard       Gas   131000   32000         Yaris\n",
       "8     Toyota  2017   White   Standard       gas   107000   50000         Camry\n",
       "9     Nissan  2014   White       Full       gas   106000  135000        Patrol"
      ]
     },
     "execution_count": 5,
     "metadata": {},
     "output_type": "execute_result"
    }
   ],
   "source": [
    "# Your code goes here\n",
    "df.head(10)"
   ]
  },
  {
   "cell_type": "markdown",
   "id": "8ff61894-c01f-423c-aaa2-f15e53560d2d",
   "metadata": {
    "tags": []
   },
   "source": [
    "You can also display the end of the `DataFrame` by using the method `tail`. \n",
    "​\n",
    "```python\n",
    "<name of dataframe>.tail(n=7)   \n",
    "```\n",
    "\n",
    "<h3 style=\"text-align: left;\"><b>تمرين:</b> اطبع آخر ثمانية صفوف من بيانات السيارات المستعملة 📝</h3>"
   ]
  },
  {
   "cell_type": "code",
   "execution_count": 6,
   "id": "24ebcfa6-41d3-4ae2-9065-f91acc482fc9",
   "metadata": {
    "tags": []
   },
   "outputs": [
    {
     "data": {
      "text/plain": [
       "Toyota        1287\n",
       "Hyundai        730\n",
       "Ford           525\n",
       "Chevrolet      441\n",
       "Nissan         364\n",
       "Kia            270\n",
       "Mercedes       268\n",
       "GMC            254\n",
       "Lexus          238\n",
       "Mazda          145\n",
       "Honda          142\n",
       "Mitsubishi      98\n",
       "BMW             93\n",
       "Dodge           88\n",
       "Land Rover      77\n",
       "Jeep            57\n",
       "Chrysler        48\n",
       "Genesis         46\n",
       "Cadillac        40\n",
       "Audi            39\n",
       "Name: Make, dtype: int64"
      ]
     },
     "execution_count": 6,
     "metadata": {},
     "output_type": "execute_result"
    }
   ],
   "source": [
    "df['Make'].value_counts().head(20)"
   ]
  },
  {
   "cell_type": "code",
   "execution_count": 7,
   "id": "9fbde174-e710-41de-abb8-8d5a7edec99b",
   "metadata": {
    "tags": []
   },
   "outputs": [
    {
     "data": {
      "text/html": [
       "<div>\n",
       "<style scoped>\n",
       "    .dataframe tbody tr th:only-of-type {\n",
       "        vertical-align: middle;\n",
       "    }\n",
       "\n",
       "    .dataframe tbody tr th {\n",
       "        vertical-align: top;\n",
       "    }\n",
       "\n",
       "    .dataframe thead th {\n",
       "        text-align: right;\n",
       "    }\n",
       "</style>\n",
       "<table border=\"1\" class=\"dataframe\">\n",
       "  <thead>\n",
       "    <tr style=\"text-align: right;\">\n",
       "      <th></th>\n",
       "      <th>Make</th>\n",
       "      <th>Year</th>\n",
       "      <th>Color</th>\n",
       "      <th>Options</th>\n",
       "      <th>Fuel_Type</th>\n",
       "      <th>Mileage</th>\n",
       "      <th>Price</th>\n",
       "      <th>Type</th>\n",
       "    </tr>\n",
       "  </thead>\n",
       "  <tbody>\n",
       "    <tr>\n",
       "      <th>5644</th>\n",
       "      <td>Mitsubishi</td>\n",
       "      <td>2009</td>\n",
       "      <td>Grey</td>\n",
       "      <td>Standard</td>\n",
       "      <td>Gas</td>\n",
       "      <td>222835</td>\n",
       "      <td>11500</td>\n",
       "      <td>Lancer</td>\n",
       "    </tr>\n",
       "    <tr>\n",
       "      <th>5645</th>\n",
       "      <td>Ford</td>\n",
       "      <td>2013</td>\n",
       "      <td>Black</td>\n",
       "      <td>Standard</td>\n",
       "      <td>Gas</td>\n",
       "      <td>277000</td>\n",
       "      <td>30000</td>\n",
       "      <td>Edge</td>\n",
       "    </tr>\n",
       "    <tr>\n",
       "      <th>5646</th>\n",
       "      <td>Kia</td>\n",
       "      <td>2012</td>\n",
       "      <td>Black</td>\n",
       "      <td>Standard</td>\n",
       "      <td>Gas</td>\n",
       "      <td>147000</td>\n",
       "      <td>25000</td>\n",
       "      <td>Cadenza</td>\n",
       "    </tr>\n",
       "    <tr>\n",
       "      <th>5647</th>\n",
       "      <td>Kia</td>\n",
       "      <td>2006</td>\n",
       "      <td>Navy</td>\n",
       "      <td>Full</td>\n",
       "      <td>Gas</td>\n",
       "      <td>257000</td>\n",
       "      <td>15000</td>\n",
       "      <td>Sorento</td>\n",
       "    </tr>\n",
       "    <tr>\n",
       "      <th>5648</th>\n",
       "      <td>Audi</td>\n",
       "      <td>2015</td>\n",
       "      <td>Silver</td>\n",
       "      <td>Full</td>\n",
       "      <td>Gas</td>\n",
       "      <td>77000</td>\n",
       "      <td>75000</td>\n",
       "      <td>A6</td>\n",
       "    </tr>\n",
       "    <tr>\n",
       "      <th>5649</th>\n",
       "      <td>Chevrolet</td>\n",
       "      <td>2010</td>\n",
       "      <td>Silver</td>\n",
       "      <td>Full</td>\n",
       "      <td>gas</td>\n",
       "      <td>150000</td>\n",
       "      <td>53000</td>\n",
       "      <td>Camaro</td>\n",
       "    </tr>\n",
       "    <tr>\n",
       "      <th>5650</th>\n",
       "      <td>Nissan</td>\n",
       "      <td>2011</td>\n",
       "      <td>Silver</td>\n",
       "      <td>Full</td>\n",
       "      <td>gas</td>\n",
       "      <td>18500</td>\n",
       "      <td>22000</td>\n",
       "      <td>Altima</td>\n",
       "    </tr>\n",
       "    <tr>\n",
       "      <th>5651</th>\n",
       "      <td>Cadillac</td>\n",
       "      <td>2013</td>\n",
       "      <td>White</td>\n",
       "      <td>Full</td>\n",
       "      <td>Gas</td>\n",
       "      <td>256000</td>\n",
       "      <td>40000</td>\n",
       "      <td>Other</td>\n",
       "    </tr>\n",
       "  </tbody>\n",
       "</table>\n",
       "</div>"
      ],
      "text/plain": [
       "            Make  Year   Color   Options Fuel_Type  Mileage  Price     Type\n",
       "5644  Mitsubishi  2009    Grey  Standard       Gas   222835  11500   Lancer\n",
       "5645        Ford  2013   Black  Standard       Gas   277000  30000     Edge\n",
       "5646         Kia  2012   Black  Standard       Gas   147000  25000  Cadenza\n",
       "5647         Kia  2006    Navy      Full       Gas   257000  15000  Sorento\n",
       "5648        Audi  2015  Silver      Full       Gas    77000  75000       A6\n",
       "5649   Chevrolet  2010  Silver      Full       gas   150000  53000   Camaro\n",
       "5650      Nissan  2011  Silver      Full       gas    18500  22000   Altima\n",
       "5651    Cadillac  2013   White      Full       Gas   256000  40000    Other"
      ]
     },
     "execution_count": 7,
     "metadata": {},
     "output_type": "execute_result"
    }
   ],
   "source": [
    "# Your code goes here\n",
    "df.tail(8)"
   ]
  },
  {
   "cell_type": "markdown",
   "id": "4837da88-4281-4a11-bb4a-b814c40ccc44",
   "metadata": {},
   "source": [
    "Now that you have looked at the dataset you probably have a good understanding of each feature/column.   \n",
    "But to make sure that we have a common understanding we list the columns and their measurement unit. \n",
    "\n",
    "* Make: الماركة\n",
    "* Type: النوع\n",
    "* Year: الموديل\n",
    "* Origin: الوارد\n",
    "* Color: اللون الخارجي\n",
    "* Options: Full or standard\n",
    "* Engine_Size: حجم المحرك باللتر\n",
    "* Fuel_type: نوع الوقود\n",
    "* Gear_Type: نوع القير\n",
    "* Mileage: الممشى بالكيلومتر\n",
    "* Region: المنطقة\n",
    "* Price: السعر بالريال السعودي\n",
    "* Negotiable: إذا كانت على السوم أو لا\n"
   ]
  },
  {
   "cell_type": "markdown",
   "id": "4380ca0b-f68e-4a64-8d49-e048f9561ee0",
   "metadata": {
    "tags": []
   },
   "source": [
    "<h3 style=\"text-align: left;\"> 🧮 اعرض بعض الإحصاءات والخصائص للبيانات</h3>"
   ]
  },
  {
   "cell_type": "code",
   "execution_count": 8,
   "id": "7d73db5b-5ce5-4cef-b53b-8b9afc65583a",
   "metadata": {
    "ExecuteTime": {
     "end_time": "2018-04-18T05:14:18.585008Z",
     "start_time": "2018-04-18T05:14:18.549946Z"
    },
    "collapsed": false,
    "hidden": true,
    "jupyter": {
     "outputs_hidden": false
    }
   },
   "outputs": [
    {
     "data": {
      "text/html": [
       "<div>\n",
       "<style scoped>\n",
       "    .dataframe tbody tr th:only-of-type {\n",
       "        vertical-align: middle;\n",
       "    }\n",
       "\n",
       "    .dataframe tbody tr th {\n",
       "        vertical-align: top;\n",
       "    }\n",
       "\n",
       "    .dataframe thead th {\n",
       "        text-align: right;\n",
       "    }\n",
       "</style>\n",
       "<table border=\"1\" class=\"dataframe\">\n",
       "  <thead>\n",
       "    <tr style=\"text-align: right;\">\n",
       "      <th></th>\n",
       "      <th>Year</th>\n",
       "      <th>Mileage</th>\n",
       "      <th>Price</th>\n",
       "    </tr>\n",
       "  </thead>\n",
       "  <tbody>\n",
       "    <tr>\n",
       "      <th>count</th>\n",
       "      <td>5652.00</td>\n",
       "      <td>5652.00</td>\n",
       "      <td>5652.00</td>\n",
       "    </tr>\n",
       "    <tr>\n",
       "      <th>mean</th>\n",
       "      <td>2014.79</td>\n",
       "      <td>140108.21</td>\n",
       "      <td>78536.59</td>\n",
       "    </tr>\n",
       "    <tr>\n",
       "      <th>std</th>\n",
       "      <td>5.22</td>\n",
       "      <td>334045.08</td>\n",
       "      <td>76073.74</td>\n",
       "    </tr>\n",
       "    <tr>\n",
       "      <th>min</th>\n",
       "      <td>1963.00</td>\n",
       "      <td>100.00</td>\n",
       "      <td>0.00</td>\n",
       "    </tr>\n",
       "    <tr>\n",
       "      <th>25%</th>\n",
       "      <td>2013.00</td>\n",
       "      <td>46484.50</td>\n",
       "      <td>35000.00</td>\n",
       "    </tr>\n",
       "    <tr>\n",
       "      <th>50%</th>\n",
       "      <td>2016.00</td>\n",
       "      <td>101000.00</td>\n",
       "      <td>58000.00</td>\n",
       "    </tr>\n",
       "    <tr>\n",
       "      <th>75%</th>\n",
       "      <td>2018.00</td>\n",
       "      <td>181000.00</td>\n",
       "      <td>95000.00</td>\n",
       "    </tr>\n",
       "    <tr>\n",
       "      <th>max</th>\n",
       "      <td>2021.00</td>\n",
       "      <td>20000000.00</td>\n",
       "      <td>1150000.00</td>\n",
       "    </tr>\n",
       "  </tbody>\n",
       "</table>\n",
       "</div>"
      ],
      "text/plain": [
       "          Year      Mileage       Price\n",
       "count  5652.00      5652.00     5652.00\n",
       "mean   2014.79    140108.21    78536.59\n",
       "std       5.22    334045.08    76073.74\n",
       "min    1963.00       100.00        0.00\n",
       "25%    2013.00     46484.50    35000.00\n",
       "50%    2016.00    101000.00    58000.00\n",
       "75%    2018.00    181000.00    95000.00\n",
       "max    2021.00  20000000.00  1150000.00"
      ]
     },
     "execution_count": 8,
     "metadata": {},
     "output_type": "execute_result"
    }
   ],
   "source": [
    "# round(2) decide how many decimals are printed. \n",
    "# Feel free to remove round(2)\n",
    "df.describe().round(2)"
   ]
  },
  {
   "cell_type": "markdown",
   "id": "85ff880f-5b38-4958-bf61-614b73ab1ea9",
   "metadata": {
    "tags": []
   },
   "source": [
    "<h3 style=\"text-align: left;\"><b>سؤال :</b> بناء على هذا الملخص الإحصائي أعلاه، هل تستطيع الإجابة على هذه الأسئلة ❓</h3>\n",
    "\n",
    "<div style=\"text-align: left;\">تقريبًا، كم عدد السيارات المُستعملة في البيانات موديلها هو سنة ٢٠١٨ أو أكثر؟  -</div>\n",
    "<div style=\"text-align: left;\">لو كان عندك ٦٠٠٠٠ ريال، كم عدد السيارات المناسبة لميزانيتك؟  -</div>\n",
    "<div style=\"text-align: left;\">تقريبًا كم عدد السيارات التي مشت أقل من ٥٠ ألف كيلومتر؟  -</div>"
   ]
  },
  {
   "cell_type": "markdown",
   "id": "0bae265f-7ec6-4dab-b15e-3ee608e7430a",
   "metadata": {},
   "source": [
    "<h3 style=\"text-align: left;\"><b>اكتب إجاباتك في هذه الخلية</b></h3>\n",
    "\n",
    "<div style=\"text-align: left;\">:إجابة السؤال الأول -</div>\n",
    "{اكتب هنا}\n",
    "<br>\n",
    "٢١٣٧ سيارة\n",
    "<div style=\"text-align: left;\">:إجابة السؤال الثاني -</div>\n",
    "{اكتب هنا}\n",
    "<br>\n",
    "٣٨٦٤ سيارة\n",
    "<div style=\"text-align: left;\">:إجابة السؤال الثالث -</div>\n",
    "{اكتب هنا}\n",
    "<br>\n",
    "٤٥٩١ سيارة\n",
    "<div style=\"text-align: left;\"></div>"
   ]
  },
  {
   "cell_type": "markdown",
   "id": "086d217c-df7c-41d2-b4a0-de7ebf0a6b0d",
   "metadata": {
    "tags": []
   },
   "source": [
    "<h2 style=\"text-align: left;\"> 🧹 تنظيف البيانات</h2>"
   ]
  },
  {
   "cell_type": "markdown",
   "id": "ad98ad25-e8cc-4787-afcd-ef332aef35e5",
   "metadata": {
    "ExecuteTime": {
     "end_time": "2018-04-06T10:33:36.680026Z",
     "start_time": "2018-04-06T10:33:36.664992Z"
    },
    "hidden": true
   },
   "source": [
    "When working with data it is important to know how each feature (column) is represented. \n",
    "To display the type of each feature we use the `DataFrame` attribute `dtypes`:\n",
    "\n",
    "```python\n",
    "<name of dataframe>.dtypes\n",
    "```\n",
    "\n",
    "<h3 style=\"text-align: left;\"><b>تمرين:</b> اطبع أنواع كل الأعمدة في البيانات 📝</h3>"
   ]
  },
  {
   "cell_type": "code",
   "execution_count": 9,
   "id": "a98ac598-640d-49bd-ad46-ae51af026987",
   "metadata": {
    "ExecuteTime": {
     "end_time": "2018-04-18T04:32:36.375961Z",
     "start_time": "2018-04-18T04:32:36.372981Z"
    },
    "collapsed": false,
    "hidden": true,
    "jupyter": {
     "outputs_hidden": false
    }
   },
   "outputs": [
    {
     "data": {
      "text/plain": [
       "Make         object\n",
       "Year          int64\n",
       "Color        object\n",
       "Options      object\n",
       "Fuel_Type    object\n",
       "Mileage       int64\n",
       "Price         int64\n",
       "Type         object\n",
       "dtype: object"
      ]
     },
     "execution_count": 9,
     "metadata": {},
     "output_type": "execute_result"
    }
   ],
   "source": [
    "### Your code goes here\n",
    "df.dtypes"
   ]
  },
  {
   "cell_type": "markdown",
   "id": "63253c0c-abfb-4545-9616-63d6c2afcf44",
   "metadata": {
    "hidden": true
   },
   "source": [
    "From this we see that all features except FuelType are numeric and represented by integers or floats.   \n",
    "We will start by looking at the feature FuelType.\n",
    "\n",
    "*PS: In the following we will use the variable name `dataframe` in the examples. Replace this with the name of your dataframe as in the above when you work with the exercises.*"
   ]
  },
  {
   "cell_type": "markdown",
   "id": "72944b8a-e953-449b-be23-0784cbce1172",
   "metadata": {
    "tags": []
   },
   "source": [
    "<h3 style=\"text-align: left;\"> ⛽ نظّف عمود نوع الوقود</h3>"
   ]
  },
  {
   "cell_type": "markdown",
   "id": "3c36d2b0-5de4-423a-8115-a5261b06b5b7",
   "metadata": {
    "hidden": true,
    "tags": []
   },
   "source": [
    "To access a column in the dataframe you simply use:\n",
    "\n",
    "```python\n",
    "dataframe['ColumnName']\n",
    "```\n",
    "or\n",
    "```python\n",
    "dataframe.ColumnName\n",
    "```\n",
    "\n",
    "This gives you a Pandas object called a `Series`, which is a datatype used for single-column `DataFrame`-types. You can index a `Series` like you would index a list or an array in Python:\n",
    "\n",
    "\n",
    "```python\n",
    "dataframe['ColumnName'][start:stop:step]\n",
    "```\n",
    "or\n",
    "```python\n",
    "dataframe.ColumnName[start:stop:step]\n",
    "```\n",
    "\n",
    "<h3 style=\"text-align: left;\"><b>تمرين:</b> اطبع عمود نوع الوقود، ثم حاول أن تحصل على أجزاء منه 📝</h3>"
   ]
  },
  {
   "cell_type": "code",
   "execution_count": 10,
   "id": "a4964313-b08f-477a-baf4-6aac08936088",
   "metadata": {
    "ExecuteTime": {
     "end_time": "2018-04-17T18:41:08.117163Z",
     "start_time": "2018-04-17T18:41:08.098113Z"
    },
    "collapsed": false,
    "hidden": true,
    "jupyter": {
     "outputs_hidden": false
    }
   },
   "outputs": [
    {
     "data": {
      "text/plain": [
       "0       Gas\n",
       "1       gas\n",
       "2       gas\n",
       "3       Gas\n",
       "4       Gas\n",
       "       ... \n",
       "5647    Gas\n",
       "5648    Gas\n",
       "5649    gas\n",
       "5650    gas\n",
       "5651    Gas\n",
       "Name: Fuel_Type, Length: 5652, dtype: object"
      ]
     },
     "execution_count": 10,
     "metadata": {},
     "output_type": "execute_result"
    }
   ],
   "source": [
    "### Your code goes here\n",
    "df['Fuel_Type']\n"
   ]
  },
  {
   "cell_type": "code",
   "execution_count": 11,
   "id": "f64181a5-6965-431b-a3f5-5756ddb2c3a7",
   "metadata": {
    "collapsed": false,
    "jupyter": {
     "outputs_hidden": false
    }
   },
   "outputs": [
    {
     "data": {
      "text/plain": [
       "5642    Gas\n",
       "5643    Gas\n",
       "5644    Gas\n",
       "5645    Gas\n",
       "5646    Gas\n",
       "5647    Gas\n",
       "5648    Gas\n",
       "5649    gas\n",
       "5650    gas\n",
       "Name: Fuel_Type, dtype: object"
      ]
     },
     "execution_count": 11,
     "metadata": {},
     "output_type": "execute_result"
    }
   ],
   "source": [
    "df.Fuel_Type[-10:-1:1]\n"
   ]
  },
  {
   "cell_type": "markdown",
   "id": "c20e1b0d-f136-4522-a13b-391b99172a85",
   "metadata": {
    "hidden": true,
    "tags": []
   },
   "source": [
    "You probably noticed that \"Gas\" was written with a capital \"G\" in some rows and a lowercase g in other rows. This gives reason to suspect that there are other inconsistencies in this column, and it would be nice to see all the distinct values used for `FuelType`.  \n",
    "\n",
    "To see all the unique values in a column we use the method `unique`:\n",
    "\n",
    "```python\n",
    "dataframe['column'].unique()\n",
    "#or\n",
    "dataframe.column.unique()\n",
    "```\n",
    "\n",
    "<h3 style=\"text-align: left;\"><b>تمرين:</b> اطبع كل القيم المتفردة في عمود نوع الوقود 📝</h3>"
   ]
  },
  {
   "cell_type": "code",
   "execution_count": 12,
   "id": "4f6e2987-ec21-4bac-96b3-197002484dc9",
   "metadata": {
    "ExecuteTime": {
     "end_time": "2018-04-18T04:34:48.793447Z",
     "start_time": "2018-04-18T04:34:48.788432Z"
    },
    "collapsed": false,
    "hidden": true,
    "jupyter": {
     "outputs_hidden": false
    }
   },
   "outputs": [
    {
     "data": {
      "text/plain": [
       "array(['Gas', 'gas', 'Diesel', 'Hybrid'], dtype=object)"
      ]
     },
     "execution_count": 12,
     "metadata": {},
     "output_type": "execute_result"
    }
   ],
   "source": [
    "### Your code goes here\n",
    "df['Fuel_Type'].unique()"
   ]
  },
  {
   "cell_type": "markdown",
   "id": "50cc4d72-8281-4c0e-9288-7eb30057f21f",
   "metadata": {
    "hidden": true
   },
   "source": [
    "There are only three distinct real types of fuel, but each fuel type is currently spelled or typed in several different ways.  \n",
    "Our algorithms and models will not be able to understand that \"gas\" and \"Gas\" is the same, so we need to make the data consistent. \n",
    "\n",
    "There are many ways to replace values in a column, but we would like you to be familiar with the `loc`-functionality in Pandas. This attribute makes it possible to access the entire `DataFrame` through indexes:\n",
    "\n",
    "\n",
    "\n",
    "```python\n",
    "#One value\n",
    "dataframe.loc[index, column]\n",
    "\n",
    "#One row\n",
    "dataframe.loc[index, :]\n",
    "\n",
    "#Selection of rows and columns\n",
    "dataframe.loc[start:stop:step,['ColumnName_1', 'ColumnName_2', 'ColumnName_3']]\n",
    "\n",
    "#Update value(s)\n",
    "dataframe.loc[index, column] = new_value\n",
    "```\n",
    "\n",
    "\n",
    "\n",
    "\n",
    "`index` can be any variable that matches the index used in the `DataFrame` or a boolean (True/False) array/series that indicates which rows we want (a boolean mask). Integers or lists/arrays/series of integers can also be used, but if you want to use integers to describe the *position* of a row in a `DataFrame` it is better to use the method `.iloc[]`.  \n",
    "`column` can be one particular columnname or a list of column names. \n",
    "\n",
    "\n",
    "\n",
    "\n",
    "<h3 style=\"text-align: left;\"><b>تمرين:</b> نظّف عمود نوع الوقود بحيث أن تكون القيم المتفردة هي فقط القيم التالية 📝</h3>\n",
    "\n",
    "- **Gas**\n",
    "- **Diesel**\n",
    "- **Hybrid**\n"
   ]
  },
  {
   "cell_type": "code",
   "execution_count": 13,
   "id": "7edd7b65-38d4-43e6-99fb-dee855408a11",
   "metadata": {
    "collapsed": false,
    "jupyter": {
     "outputs_hidden": false
    }
   },
   "outputs": [
    {
     "name": "stdout",
     "output_type": "stream",
     "text": [
      "0    False\n",
      "1     True\n",
      "2     True\n",
      "3    False\n",
      "4    False\n",
      "Name: Fuel_Type, dtype: bool\n"
     ]
    }
   ],
   "source": [
    "# To get you started we provide the boolean series\n",
    "# you can use as an index (often called a boolean mask) to get all rows where Gas \n",
    "# is written with lowercase p.\n",
    "Gas_boolean = (df['Fuel_Type']=='gas')\n",
    "# Gas_boolean is now a series of boolean values that indicate whether the statement above was true of not for the corresponding row entry in the 'FuelType'-column.\n",
    "\n",
    "# Print the first 5 values of Gas_boolean to show what it contains:\n",
    "print(Gas_boolean.head(5))"
   ]
  },
  {
   "cell_type": "code",
   "execution_count": 14,
   "id": "bb4429fd-1626-4157-9a01-d74839bb701c",
   "metadata": {
    "tags": []
   },
   "outputs": [
    {
     "data": {
      "text/plain": [
       "Gas       3364\n",
       "gas       2173\n",
       "Diesel     102\n",
       "Hybrid      13\n",
       "Name: Fuel_Type, dtype: int64"
      ]
     },
     "execution_count": 14,
     "metadata": {},
     "output_type": "execute_result"
    }
   ],
   "source": [
    "df['Fuel_Type'].value_counts()"
   ]
  },
  {
   "cell_type": "code",
   "execution_count": 15,
   "id": "d4452e6b-c978-4f3f-8a5e-3bfa977649ea",
   "metadata": {
    "ExecuteTime": {
     "end_time": "2018-04-17T18:41:08.151254Z",
     "start_time": "2018-04-17T18:41:08.136213Z"
    },
    "collapsed": false,
    "hidden": true,
    "jupyter": {
     "outputs_hidden": false
    },
    "scrolled": true
   },
   "outputs": [],
   "source": [
    "# So, use the boolean mask as an \"index selector\" to the main dataframe using the `.loc` accessor.\n",
    "# Something like this:\n",
    "\n",
    "# df.loc[my_boolean_mask, my_selected_column_name] = my_new_value_to_replace_old_values_where_mask_is_true\n",
    "\n",
    "### Your code goes here\n",
    "df.loc[Gas_boolean, \"Fuel_Type\"] = \"Gas\""
   ]
  },
  {
   "cell_type": "markdown",
   "id": "eca86ac5-f029-473b-bc30-c9795e274f63",
   "metadata": {
    "hidden": true
   },
   "source": [
    "<h3 style=\"text-align: left;\"><b>تمرين:</b> اطبع القيم المتفردة في عمود نوع الوقود وتأكد أنها تحوي على المطلوبة فقط 📝</h3>"
   ]
  },
  {
   "cell_type": "code",
   "execution_count": 16,
   "id": "0a67ec3c-b691-44ad-88b0-ef2e29811f29",
   "metadata": {
    "ExecuteTime": {
     "end_time": "2018-04-18T04:41:44.753585Z",
     "start_time": "2018-04-18T04:41:44.749567Z"
    },
    "collapsed": false,
    "hidden": true,
    "jupyter": {
     "outputs_hidden": false
    }
   },
   "outputs": [
    {
     "data": {
      "text/plain": [
       "array(['Gas', 'Diesel', 'Hybrid'], dtype=object)"
      ]
     },
     "execution_count": 16,
     "metadata": {},
     "output_type": "execute_result"
    }
   ],
   "source": [
    "# Your code goes here\n",
    "df['Fuel_Type'].unique()"
   ]
  },
  {
   "cell_type": "markdown",
   "id": "58937ac6-90d2-4911-b23c-e4f1f69791ba",
   "metadata": {
    "heading_collapsed": true,
    "hidden": true,
    "tags": []
   },
   "source": [
    "<h3 style=\"text-align: left;\"> 🤯 تأكد لو مجموعة البيانات تحتوي على قيم مفقودة</h3>\n",
    "\n",
    "Datasets are rarely complete, in other words they often contain unwanted `null` or `nan` values or similar.   \n",
    "Pandas `DataFrames` have a method `isnull` that gives True/False for every value in the dataframe:\n",
    "```python\n",
    "dataframe.isnull()\n",
    "```\n",
    "If we want to count \"holes\" in our data this method is not very useful when it is used by itself, since it returns a dataframe of the same size as the original dataframe. \n",
    "\n",
    "Try for yourself and you'll see what we mean."
   ]
  },
  {
   "cell_type": "code",
   "execution_count": 17,
   "id": "7ffa1169-4afc-4e77-833a-496115acd38c",
   "metadata": {
    "ExecuteTime": {
     "end_time": "2018-04-18T04:42:26.093067Z",
     "start_time": "2018-04-18T04:42:26.090058Z"
    },
    "collapsed": false,
    "hidden": true,
    "jupyter": {
     "outputs_hidden": false
    },
    "scrolled": true
   },
   "outputs": [
    {
     "data": {
      "text/html": [
       "<div>\n",
       "<style scoped>\n",
       "    .dataframe tbody tr th:only-of-type {\n",
       "        vertical-align: middle;\n",
       "    }\n",
       "\n",
       "    .dataframe tbody tr th {\n",
       "        vertical-align: top;\n",
       "    }\n",
       "\n",
       "    .dataframe thead th {\n",
       "        text-align: right;\n",
       "    }\n",
       "</style>\n",
       "<table border=\"1\" class=\"dataframe\">\n",
       "  <thead>\n",
       "    <tr style=\"text-align: right;\">\n",
       "      <th></th>\n",
       "      <th>Make</th>\n",
       "      <th>Year</th>\n",
       "      <th>Color</th>\n",
       "      <th>Options</th>\n",
       "      <th>Fuel_Type</th>\n",
       "      <th>Mileage</th>\n",
       "      <th>Price</th>\n",
       "      <th>Type</th>\n",
       "    </tr>\n",
       "  </thead>\n",
       "  <tbody>\n",
       "    <tr>\n",
       "      <th>0</th>\n",
       "      <td>False</td>\n",
       "      <td>False</td>\n",
       "      <td>False</td>\n",
       "      <td>False</td>\n",
       "      <td>False</td>\n",
       "      <td>False</td>\n",
       "      <td>False</td>\n",
       "      <td>False</td>\n",
       "    </tr>\n",
       "    <tr>\n",
       "      <th>1</th>\n",
       "      <td>False</td>\n",
       "      <td>False</td>\n",
       "      <td>False</td>\n",
       "      <td>False</td>\n",
       "      <td>False</td>\n",
       "      <td>False</td>\n",
       "      <td>False</td>\n",
       "      <td>False</td>\n",
       "    </tr>\n",
       "    <tr>\n",
       "      <th>2</th>\n",
       "      <td>False</td>\n",
       "      <td>False</td>\n",
       "      <td>False</td>\n",
       "      <td>False</td>\n",
       "      <td>False</td>\n",
       "      <td>False</td>\n",
       "      <td>False</td>\n",
       "      <td>False</td>\n",
       "    </tr>\n",
       "    <tr>\n",
       "      <th>3</th>\n",
       "      <td>False</td>\n",
       "      <td>False</td>\n",
       "      <td>False</td>\n",
       "      <td>False</td>\n",
       "      <td>False</td>\n",
       "      <td>False</td>\n",
       "      <td>False</td>\n",
       "      <td>False</td>\n",
       "    </tr>\n",
       "    <tr>\n",
       "      <th>4</th>\n",
       "      <td>False</td>\n",
       "      <td>False</td>\n",
       "      <td>False</td>\n",
       "      <td>False</td>\n",
       "      <td>False</td>\n",
       "      <td>False</td>\n",
       "      <td>False</td>\n",
       "      <td>False</td>\n",
       "    </tr>\n",
       "    <tr>\n",
       "      <th>...</th>\n",
       "      <td>...</td>\n",
       "      <td>...</td>\n",
       "      <td>...</td>\n",
       "      <td>...</td>\n",
       "      <td>...</td>\n",
       "      <td>...</td>\n",
       "      <td>...</td>\n",
       "      <td>...</td>\n",
       "    </tr>\n",
       "    <tr>\n",
       "      <th>5647</th>\n",
       "      <td>False</td>\n",
       "      <td>False</td>\n",
       "      <td>False</td>\n",
       "      <td>False</td>\n",
       "      <td>False</td>\n",
       "      <td>False</td>\n",
       "      <td>False</td>\n",
       "      <td>False</td>\n",
       "    </tr>\n",
       "    <tr>\n",
       "      <th>5648</th>\n",
       "      <td>False</td>\n",
       "      <td>False</td>\n",
       "      <td>False</td>\n",
       "      <td>False</td>\n",
       "      <td>False</td>\n",
       "      <td>False</td>\n",
       "      <td>False</td>\n",
       "      <td>False</td>\n",
       "    </tr>\n",
       "    <tr>\n",
       "      <th>5649</th>\n",
       "      <td>False</td>\n",
       "      <td>False</td>\n",
       "      <td>False</td>\n",
       "      <td>False</td>\n",
       "      <td>False</td>\n",
       "      <td>False</td>\n",
       "      <td>False</td>\n",
       "      <td>False</td>\n",
       "    </tr>\n",
       "    <tr>\n",
       "      <th>5650</th>\n",
       "      <td>False</td>\n",
       "      <td>False</td>\n",
       "      <td>False</td>\n",
       "      <td>False</td>\n",
       "      <td>False</td>\n",
       "      <td>False</td>\n",
       "      <td>False</td>\n",
       "      <td>False</td>\n",
       "    </tr>\n",
       "    <tr>\n",
       "      <th>5651</th>\n",
       "      <td>False</td>\n",
       "      <td>False</td>\n",
       "      <td>False</td>\n",
       "      <td>False</td>\n",
       "      <td>False</td>\n",
       "      <td>False</td>\n",
       "      <td>False</td>\n",
       "      <td>False</td>\n",
       "    </tr>\n",
       "  </tbody>\n",
       "</table>\n",
       "<p>5652 rows × 8 columns</p>\n",
       "</div>"
      ],
      "text/plain": [
       "       Make   Year  Color  Options  Fuel_Type  Mileage  Price   Type\n",
       "0     False  False  False    False      False    False  False  False\n",
       "1     False  False  False    False      False    False  False  False\n",
       "2     False  False  False    False      False    False  False  False\n",
       "3     False  False  False    False      False    False  False  False\n",
       "4     False  False  False    False      False    False  False  False\n",
       "...     ...    ...    ...      ...        ...      ...    ...    ...\n",
       "5647  False  False  False    False      False    False  False  False\n",
       "5648  False  False  False    False      False    False  False  False\n",
       "5649  False  False  False    False      False    False  False  False\n",
       "5650  False  False  False    False      False    False  False  False\n",
       "5651  False  False  False    False      False    False  False  False\n",
       "\n",
       "[5652 rows x 8 columns]"
      ]
     },
     "execution_count": 17,
     "metadata": {},
     "output_type": "execute_result"
    }
   ],
   "source": [
    "# Your code goes here\n",
    "df.isnull()"
   ]
  },
  {
   "cell_type": "markdown",
   "id": "5913f8eb-3800-4bc3-8caf-0cd5c868d84c",
   "metadata": {
    "hidden": true
   },
   "source": [
    "However, to find the number of missing values in our dataset we simply count the occurence of null/nan values for each column (feature).  This is done by summing up all `True`-values:\n",
    "\n",
    "```python\n",
    "dataframe.isnull().sum()\n",
    "```"
   ]
  },
  {
   "cell_type": "code",
   "execution_count": 18,
   "id": "ee72b0ae-3d92-423c-9ad8-51981895f7e0",
   "metadata": {
    "ExecuteTime": {
     "end_time": "2018-04-18T04:42:30.294962Z",
     "start_time": "2018-04-18T04:42:30.292979Z"
    },
    "collapsed": false,
    "hidden": true,
    "jupyter": {
     "outputs_hidden": false
    }
   },
   "outputs": [
    {
     "data": {
      "text/plain": [
       "Make          0\n",
       "Year          0\n",
       "Color         0\n",
       "Options      41\n",
       "Fuel_Type     0\n",
       "Mileage       0\n",
       "Price         0\n",
       "Type          0\n",
       "dtype: int64"
      ]
     },
     "execution_count": 18,
     "metadata": {},
     "output_type": "execute_result"
    }
   ],
   "source": [
    "### Your code goes here\n",
    "df.isnull().sum()"
   ]
  },
  {
   "cell_type": "markdown",
   "id": "c160c9bc-801a-44cd-b814-145074ff0893",
   "metadata": {},
   "source": [
    "Remember the three main approaches to handle missing values:\n",
    "\n",
    "1. Delete rows and/or column(s)\n",
    "2. Keep everything and choose a model that can handle missing values\n",
    "3. Perform data imputation\n",
    "\n",
    "Lets print the rows in the dataframe containing Null/NaN values:"
   ]
  },
  {
   "cell_type": "code",
   "execution_count": 19,
   "id": "f5e92620-108b-46cd-be31-766be2280fb8",
   "metadata": {
    "ExecuteTime": {
     "end_time": "2018-04-17T18:41:08.284614Z",
     "start_time": "2018-04-17T18:41:08.268566Z"
    },
    "collapsed": false,
    "hidden": true,
    "jupyter": {
     "outputs_hidden": false
    }
   },
   "outputs": [
    {
     "data": {
      "text/html": [
       "<div>\n",
       "<style scoped>\n",
       "    .dataframe tbody tr th:only-of-type {\n",
       "        vertical-align: middle;\n",
       "    }\n",
       "\n",
       "    .dataframe tbody tr th {\n",
       "        vertical-align: top;\n",
       "    }\n",
       "\n",
       "    .dataframe thead th {\n",
       "        text-align: right;\n",
       "    }\n",
       "</style>\n",
       "<table border=\"1\" class=\"dataframe\">\n",
       "  <thead>\n",
       "    <tr style=\"text-align: right;\">\n",
       "      <th></th>\n",
       "      <th>Make</th>\n",
       "      <th>Year</th>\n",
       "      <th>Color</th>\n",
       "      <th>Options</th>\n",
       "      <th>Fuel_Type</th>\n",
       "      <th>Mileage</th>\n",
       "      <th>Price</th>\n",
       "      <th>Type</th>\n",
       "    </tr>\n",
       "  </thead>\n",
       "  <tbody>\n",
       "    <tr>\n",
       "      <th>229</th>\n",
       "      <td>Land Rover</td>\n",
       "      <td>2019</td>\n",
       "      <td>Black</td>\n",
       "      <td>NaN</td>\n",
       "      <td>Gas</td>\n",
       "      <td>1800</td>\n",
       "      <td>350000</td>\n",
       "      <td>Range Rover</td>\n",
       "    </tr>\n",
       "    <tr>\n",
       "      <th>1264</th>\n",
       "      <td>Ford</td>\n",
       "      <td>2015</td>\n",
       "      <td>Black</td>\n",
       "      <td>NaN</td>\n",
       "      <td>Gas</td>\n",
       "      <td>125000</td>\n",
       "      <td>75000</td>\n",
       "      <td>Expedition</td>\n",
       "    </tr>\n",
       "    <tr>\n",
       "      <th>1430</th>\n",
       "      <td>Chevrolet</td>\n",
       "      <td>2016</td>\n",
       "      <td>White</td>\n",
       "      <td>NaN</td>\n",
       "      <td>Gas</td>\n",
       "      <td>56500</td>\n",
       "      <td>65000</td>\n",
       "      <td>Traverse</td>\n",
       "    </tr>\n",
       "    <tr>\n",
       "      <th>1439</th>\n",
       "      <td>Pontiac</td>\n",
       "      <td>1978</td>\n",
       "      <td>White</td>\n",
       "      <td>NaN</td>\n",
       "      <td>Gas</td>\n",
       "      <td>240000</td>\n",
       "      <td>25000</td>\n",
       "      <td>Bonneville</td>\n",
       "    </tr>\n",
       "    <tr>\n",
       "      <th>1461</th>\n",
       "      <td>Toyota</td>\n",
       "      <td>2013</td>\n",
       "      <td>Silver</td>\n",
       "      <td>NaN</td>\n",
       "      <td>Gas</td>\n",
       "      <td>286000</td>\n",
       "      <td>38000</td>\n",
       "      <td>Innova</td>\n",
       "    </tr>\n",
       "    <tr>\n",
       "      <th>1685</th>\n",
       "      <td>Land Rover</td>\n",
       "      <td>2019</td>\n",
       "      <td>White</td>\n",
       "      <td>NaN</td>\n",
       "      <td>Gas</td>\n",
       "      <td>36000</td>\n",
       "      <td>400000</td>\n",
       "      <td>Range Rover</td>\n",
       "    </tr>\n",
       "    <tr>\n",
       "      <th>2160</th>\n",
       "      <td>Land Rover</td>\n",
       "      <td>2020</td>\n",
       "      <td>White</td>\n",
       "      <td>NaN</td>\n",
       "      <td>Gas</td>\n",
       "      <td>65000</td>\n",
       "      <td>435000</td>\n",
       "      <td>Range Rover</td>\n",
       "    </tr>\n",
       "    <tr>\n",
       "      <th>2523</th>\n",
       "      <td>Dodge</td>\n",
       "      <td>2020</td>\n",
       "      <td>Grey</td>\n",
       "      <td>NaN</td>\n",
       "      <td>Gas</td>\n",
       "      <td>9120</td>\n",
       "      <td>115000</td>\n",
       "      <td>Charger</td>\n",
       "    </tr>\n",
       "    <tr>\n",
       "      <th>2529</th>\n",
       "      <td>Hyundai</td>\n",
       "      <td>2016</td>\n",
       "      <td>Another Color</td>\n",
       "      <td>NaN</td>\n",
       "      <td>Gas</td>\n",
       "      <td>258000</td>\n",
       "      <td>38000</td>\n",
       "      <td>Sonata</td>\n",
       "    </tr>\n",
       "    <tr>\n",
       "      <th>2530</th>\n",
       "      <td>Lexus</td>\n",
       "      <td>2021</td>\n",
       "      <td>Silver</td>\n",
       "      <td>NaN</td>\n",
       "      <td>Gas</td>\n",
       "      <td>1300</td>\n",
       "      <td>175000</td>\n",
       "      <td>ES</td>\n",
       "    </tr>\n",
       "    <tr>\n",
       "      <th>2922</th>\n",
       "      <td>BMW</td>\n",
       "      <td>2014</td>\n",
       "      <td>Silver</td>\n",
       "      <td>NaN</td>\n",
       "      <td>Gas</td>\n",
       "      <td>139000</td>\n",
       "      <td>90000</td>\n",
       "      <td>The 7</td>\n",
       "    </tr>\n",
       "    <tr>\n",
       "      <th>2923</th>\n",
       "      <td>Toyota</td>\n",
       "      <td>2017</td>\n",
       "      <td>White</td>\n",
       "      <td>NaN</td>\n",
       "      <td>Gas</td>\n",
       "      <td>120000</td>\n",
       "      <td>59000</td>\n",
       "      <td>Camry</td>\n",
       "    </tr>\n",
       "    <tr>\n",
       "      <th>2942</th>\n",
       "      <td>Toyota</td>\n",
       "      <td>2020</td>\n",
       "      <td>White</td>\n",
       "      <td>NaN</td>\n",
       "      <td>Gas</td>\n",
       "      <td>43000</td>\n",
       "      <td>265000</td>\n",
       "      <td>Land Cruiser</td>\n",
       "    </tr>\n",
       "    <tr>\n",
       "      <th>3073</th>\n",
       "      <td>Mercedes</td>\n",
       "      <td>2019</td>\n",
       "      <td>Grey</td>\n",
       "      <td>NaN</td>\n",
       "      <td>Gas</td>\n",
       "      <td>60000</td>\n",
       "      <td>835000</td>\n",
       "      <td>G</td>\n",
       "    </tr>\n",
       "    <tr>\n",
       "      <th>3211</th>\n",
       "      <td>Bentley</td>\n",
       "      <td>2013</td>\n",
       "      <td>Another Color</td>\n",
       "      <td>NaN</td>\n",
       "      <td>Gas</td>\n",
       "      <td>121000</td>\n",
       "      <td>280000</td>\n",
       "      <td>Continental GT</td>\n",
       "    </tr>\n",
       "    <tr>\n",
       "      <th>3351</th>\n",
       "      <td>Mercedes</td>\n",
       "      <td>2014</td>\n",
       "      <td>Black</td>\n",
       "      <td>NaN</td>\n",
       "      <td>Gas</td>\n",
       "      <td>90000</td>\n",
       "      <td>220000</td>\n",
       "      <td>S</td>\n",
       "    </tr>\n",
       "    <tr>\n",
       "      <th>3373</th>\n",
       "      <td>Ford</td>\n",
       "      <td>2014</td>\n",
       "      <td>White</td>\n",
       "      <td>NaN</td>\n",
       "      <td>Gas</td>\n",
       "      <td>266000</td>\n",
       "      <td>50000</td>\n",
       "      <td>Taurus</td>\n",
       "    </tr>\n",
       "    <tr>\n",
       "      <th>3374</th>\n",
       "      <td>Chevrolet</td>\n",
       "      <td>2014</td>\n",
       "      <td>Black</td>\n",
       "      <td>NaN</td>\n",
       "      <td>Gas</td>\n",
       "      <td>195000</td>\n",
       "      <td>42000</td>\n",
       "      <td>Traverse</td>\n",
       "    </tr>\n",
       "    <tr>\n",
       "      <th>3491</th>\n",
       "      <td>Kia</td>\n",
       "      <td>2018</td>\n",
       "      <td>Black</td>\n",
       "      <td>NaN</td>\n",
       "      <td>Gas</td>\n",
       "      <td>125000</td>\n",
       "      <td>55000</td>\n",
       "      <td>Optima</td>\n",
       "    </tr>\n",
       "    <tr>\n",
       "      <th>3492</th>\n",
       "      <td>Chevrolet</td>\n",
       "      <td>2010</td>\n",
       "      <td>White</td>\n",
       "      <td>NaN</td>\n",
       "      <td>Gas</td>\n",
       "      <td>73000</td>\n",
       "      <td>37000</td>\n",
       "      <td>Silverado</td>\n",
       "    </tr>\n",
       "    <tr>\n",
       "      <th>3601</th>\n",
       "      <td>Kia</td>\n",
       "      <td>2015</td>\n",
       "      <td>Red</td>\n",
       "      <td>NaN</td>\n",
       "      <td>Gas</td>\n",
       "      <td>147000</td>\n",
       "      <td>38000</td>\n",
       "      <td>Sportage</td>\n",
       "    </tr>\n",
       "    <tr>\n",
       "      <th>3602</th>\n",
       "      <td>Honda</td>\n",
       "      <td>2008</td>\n",
       "      <td>Silver</td>\n",
       "      <td>NaN</td>\n",
       "      <td>Gas</td>\n",
       "      <td>450000</td>\n",
       "      <td>15000</td>\n",
       "      <td>Civic</td>\n",
       "    </tr>\n",
       "    <tr>\n",
       "      <th>3814</th>\n",
       "      <td>Geely</td>\n",
       "      <td>2019</td>\n",
       "      <td>Golden</td>\n",
       "      <td>NaN</td>\n",
       "      <td>Gas</td>\n",
       "      <td>66000</td>\n",
       "      <td>40000</td>\n",
       "      <td>Emgrand</td>\n",
       "    </tr>\n",
       "    <tr>\n",
       "      <th>3815</th>\n",
       "      <td>Nissan</td>\n",
       "      <td>2005</td>\n",
       "      <td>Another Color</td>\n",
       "      <td>NaN</td>\n",
       "      <td>Gas</td>\n",
       "      <td>340000</td>\n",
       "      <td>35000</td>\n",
       "      <td>Patrol</td>\n",
       "    </tr>\n",
       "    <tr>\n",
       "      <th>3975</th>\n",
       "      <td>Mercedes</td>\n",
       "      <td>2017</td>\n",
       "      <td>White</td>\n",
       "      <td>NaN</td>\n",
       "      <td>Gas</td>\n",
       "      <td>26000</td>\n",
       "      <td>245000</td>\n",
       "      <td>S</td>\n",
       "    </tr>\n",
       "    <tr>\n",
       "      <th>4035</th>\n",
       "      <td>Hyundai</td>\n",
       "      <td>2020</td>\n",
       "      <td>Silver</td>\n",
       "      <td>NaN</td>\n",
       "      <td>Gas</td>\n",
       "      <td>6400</td>\n",
       "      <td>1156</td>\n",
       "      <td>Kona</td>\n",
       "    </tr>\n",
       "    <tr>\n",
       "      <th>4043</th>\n",
       "      <td>Chevrolet</td>\n",
       "      <td>2008</td>\n",
       "      <td>Black</td>\n",
       "      <td>NaN</td>\n",
       "      <td>Gas</td>\n",
       "      <td>247000</td>\n",
       "      <td>42500</td>\n",
       "      <td>Tahoe</td>\n",
       "    </tr>\n",
       "    <tr>\n",
       "      <th>4103</th>\n",
       "      <td>BMW</td>\n",
       "      <td>2019</td>\n",
       "      <td>White</td>\n",
       "      <td>NaN</td>\n",
       "      <td>Gas</td>\n",
       "      <td>6000</td>\n",
       "      <td>335000</td>\n",
       "      <td>The 7</td>\n",
       "    </tr>\n",
       "    <tr>\n",
       "      <th>4385</th>\n",
       "      <td>Hyundai</td>\n",
       "      <td>2021</td>\n",
       "      <td>Black</td>\n",
       "      <td>NaN</td>\n",
       "      <td>Gas</td>\n",
       "      <td>16000</td>\n",
       "      <td>1770</td>\n",
       "      <td>Azera</td>\n",
       "    </tr>\n",
       "    <tr>\n",
       "      <th>4386</th>\n",
       "      <td>Ford</td>\n",
       "      <td>2013</td>\n",
       "      <td>White</td>\n",
       "      <td>NaN</td>\n",
       "      <td>Gas</td>\n",
       "      <td>300000</td>\n",
       "      <td>40000</td>\n",
       "      <td>Taurus</td>\n",
       "    </tr>\n",
       "    <tr>\n",
       "      <th>4387</th>\n",
       "      <td>Toyota</td>\n",
       "      <td>2010</td>\n",
       "      <td>Silver</td>\n",
       "      <td>NaN</td>\n",
       "      <td>Gas</td>\n",
       "      <td>400000</td>\n",
       "      <td>22000</td>\n",
       "      <td>Camry</td>\n",
       "    </tr>\n",
       "    <tr>\n",
       "      <th>4457</th>\n",
       "      <td>Toyota</td>\n",
       "      <td>2016</td>\n",
       "      <td>White</td>\n",
       "      <td>NaN</td>\n",
       "      <td>Gas</td>\n",
       "      <td>180000</td>\n",
       "      <td>72000</td>\n",
       "      <td>Hiace</td>\n",
       "    </tr>\n",
       "    <tr>\n",
       "      <th>4737</th>\n",
       "      <td>Ford</td>\n",
       "      <td>2011</td>\n",
       "      <td>White</td>\n",
       "      <td>NaN</td>\n",
       "      <td>Gas</td>\n",
       "      <td>181000</td>\n",
       "      <td>10000</td>\n",
       "      <td>Focus</td>\n",
       "    </tr>\n",
       "    <tr>\n",
       "      <th>4804</th>\n",
       "      <td>Honda</td>\n",
       "      <td>2012</td>\n",
       "      <td>White</td>\n",
       "      <td>NaN</td>\n",
       "      <td>Gas</td>\n",
       "      <td>266700</td>\n",
       "      <td>30000</td>\n",
       "      <td>Pilot</td>\n",
       "    </tr>\n",
       "    <tr>\n",
       "      <th>4967</th>\n",
       "      <td>Volkswagen</td>\n",
       "      <td>2012</td>\n",
       "      <td>Navy</td>\n",
       "      <td>NaN</td>\n",
       "      <td>Gas</td>\n",
       "      <td>170000</td>\n",
       "      <td>21000</td>\n",
       "      <td>Tiguan</td>\n",
       "    </tr>\n",
       "    <tr>\n",
       "      <th>5040</th>\n",
       "      <td>Mitsubishi</td>\n",
       "      <td>2020</td>\n",
       "      <td>White</td>\n",
       "      <td>NaN</td>\n",
       "      <td>Gas</td>\n",
       "      <td>22000</td>\n",
       "      <td>67000</td>\n",
       "      <td>ASX</td>\n",
       "    </tr>\n",
       "    <tr>\n",
       "      <th>5041</th>\n",
       "      <td>Toyota</td>\n",
       "      <td>2014</td>\n",
       "      <td>White</td>\n",
       "      <td>NaN</td>\n",
       "      <td>Gas</td>\n",
       "      <td>542966</td>\n",
       "      <td>22000</td>\n",
       "      <td>Camry</td>\n",
       "    </tr>\n",
       "    <tr>\n",
       "      <th>5163</th>\n",
       "      <td>Toyota</td>\n",
       "      <td>1995</td>\n",
       "      <td>Silver</td>\n",
       "      <td>NaN</td>\n",
       "      <td>Gas</td>\n",
       "      <td>300000</td>\n",
       "      <td>20000</td>\n",
       "      <td>Land Cruiser</td>\n",
       "    </tr>\n",
       "    <tr>\n",
       "      <th>5254</th>\n",
       "      <td>GMC</td>\n",
       "      <td>2007</td>\n",
       "      <td>Black</td>\n",
       "      <td>NaN</td>\n",
       "      <td>Gas</td>\n",
       "      <td>280000</td>\n",
       "      <td>13500</td>\n",
       "      <td>Envoy</td>\n",
       "    </tr>\n",
       "    <tr>\n",
       "      <th>5255</th>\n",
       "      <td>Land Rover</td>\n",
       "      <td>2019</td>\n",
       "      <td>Grey</td>\n",
       "      <td>NaN</td>\n",
       "      <td>Gas</td>\n",
       "      <td>4200</td>\n",
       "      <td>599000</td>\n",
       "      <td>Range Rover</td>\n",
       "    </tr>\n",
       "    <tr>\n",
       "      <th>5356</th>\n",
       "      <td>Hyundai</td>\n",
       "      <td>2012</td>\n",
       "      <td>White</td>\n",
       "      <td>NaN</td>\n",
       "      <td>Gas</td>\n",
       "      <td>271800</td>\n",
       "      <td>24000</td>\n",
       "      <td>Sonata</td>\n",
       "    </tr>\n",
       "  </tbody>\n",
       "</table>\n",
       "</div>"
      ],
      "text/plain": [
       "            Make  Year          Color Options Fuel_Type  Mileage   Price  \\\n",
       "229   Land Rover  2019          Black     NaN       Gas     1800  350000   \n",
       "1264        Ford  2015          Black     NaN       Gas   125000   75000   \n",
       "1430   Chevrolet  2016          White     NaN       Gas    56500   65000   \n",
       "1439     Pontiac  1978          White     NaN       Gas   240000   25000   \n",
       "1461      Toyota  2013         Silver     NaN       Gas   286000   38000   \n",
       "1685  Land Rover  2019          White     NaN       Gas    36000  400000   \n",
       "2160  Land Rover  2020          White     NaN       Gas    65000  435000   \n",
       "2523       Dodge  2020           Grey     NaN       Gas     9120  115000   \n",
       "2529     Hyundai  2016  Another Color     NaN       Gas   258000   38000   \n",
       "2530       Lexus  2021         Silver     NaN       Gas     1300  175000   \n",
       "2922         BMW  2014         Silver     NaN       Gas   139000   90000   \n",
       "2923      Toyota  2017          White     NaN       Gas   120000   59000   \n",
       "2942      Toyota  2020          White     NaN       Gas    43000  265000   \n",
       "3073    Mercedes  2019           Grey     NaN       Gas    60000  835000   \n",
       "3211     Bentley  2013  Another Color     NaN       Gas   121000  280000   \n",
       "3351    Mercedes  2014          Black     NaN       Gas    90000  220000   \n",
       "3373        Ford  2014          White     NaN       Gas   266000   50000   \n",
       "3374   Chevrolet  2014          Black     NaN       Gas   195000   42000   \n",
       "3491         Kia  2018          Black     NaN       Gas   125000   55000   \n",
       "3492   Chevrolet  2010          White     NaN       Gas    73000   37000   \n",
       "3601         Kia  2015            Red     NaN       Gas   147000   38000   \n",
       "3602       Honda  2008         Silver     NaN       Gas   450000   15000   \n",
       "3814       Geely  2019         Golden     NaN       Gas    66000   40000   \n",
       "3815      Nissan  2005  Another Color     NaN       Gas   340000   35000   \n",
       "3975    Mercedes  2017          White     NaN       Gas    26000  245000   \n",
       "4035     Hyundai  2020         Silver     NaN       Gas     6400    1156   \n",
       "4043   Chevrolet  2008          Black     NaN       Gas   247000   42500   \n",
       "4103         BMW  2019          White     NaN       Gas     6000  335000   \n",
       "4385     Hyundai  2021          Black     NaN       Gas    16000    1770   \n",
       "4386        Ford  2013          White     NaN       Gas   300000   40000   \n",
       "4387      Toyota  2010         Silver     NaN       Gas   400000   22000   \n",
       "4457      Toyota  2016          White     NaN       Gas   180000   72000   \n",
       "4737        Ford  2011          White     NaN       Gas   181000   10000   \n",
       "4804       Honda  2012          White     NaN       Gas   266700   30000   \n",
       "4967  Volkswagen  2012           Navy     NaN       Gas   170000   21000   \n",
       "5040  Mitsubishi  2020          White     NaN       Gas    22000   67000   \n",
       "5041      Toyota  2014          White     NaN       Gas   542966   22000   \n",
       "5163      Toyota  1995         Silver     NaN       Gas   300000   20000   \n",
       "5254         GMC  2007          Black     NaN       Gas   280000   13500   \n",
       "5255  Land Rover  2019           Grey     NaN       Gas     4200  599000   \n",
       "5356     Hyundai  2012          White     NaN       Gas   271800   24000   \n",
       "\n",
       "                Type  \n",
       "229      Range Rover  \n",
       "1264      Expedition  \n",
       "1430        Traverse  \n",
       "1439      Bonneville  \n",
       "1461          Innova  \n",
       "1685     Range Rover  \n",
       "2160     Range Rover  \n",
       "2523         Charger  \n",
       "2529          Sonata  \n",
       "2530              ES  \n",
       "2922           The 7  \n",
       "2923           Camry  \n",
       "2942    Land Cruiser  \n",
       "3073               G  \n",
       "3211  Continental GT  \n",
       "3351               S  \n",
       "3373          Taurus  \n",
       "3374        Traverse  \n",
       "3491          Optima  \n",
       "3492       Silverado  \n",
       "3601        Sportage  \n",
       "3602           Civic  \n",
       "3814         Emgrand  \n",
       "3815          Patrol  \n",
       "3975               S  \n",
       "4035            Kona  \n",
       "4043           Tahoe  \n",
       "4103           The 7  \n",
       "4385           Azera  \n",
       "4386          Taurus  \n",
       "4387           Camry  \n",
       "4457           Hiace  \n",
       "4737           Focus  \n",
       "4804           Pilot  \n",
       "4967          Tiguan  \n",
       "5040             ASX  \n",
       "5041           Camry  \n",
       "5163    Land Cruiser  \n",
       "5254           Envoy  \n",
       "5255     Range Rover  \n",
       "5356          Sonata  "
      ]
     },
     "execution_count": 19,
     "metadata": {},
     "output_type": "execute_result"
    }
   ],
   "source": [
    "df[df.isnull().sum(axis=1)>0]"
   ]
  },
  {
   "cell_type": "markdown",
   "id": "6b22a7e0-54f5-41d4-8173-ba03d02ca57b",
   "metadata": {},
   "source": [
    "## Remove Engine_Size and use Options instead"
   ]
  },
  {
   "cell_type": "markdown",
   "id": "75e95d16-4433-4c17-8811-8552253f00a7",
   "metadata": {
    "hidden": true
   },
   "source": [
    "<h3 style=\"text-align: left;\"><b>تمرين:</b> أوجد إجمالي عدد الصفوف في البيانات التي لدينا 📝</h3>"
   ]
  },
  {
   "cell_type": "code",
   "execution_count": 20,
   "id": "1260758e-9723-422e-9818-19d497ae03f5",
   "metadata": {
    "collapsed": false,
    "hidden": true,
    "jupyter": {
     "outputs_hidden": false
    }
   },
   "outputs": [
    {
     "data": {
      "text/plain": [
       "5652"
      ]
     },
     "execution_count": 20,
     "metadata": {},
     "output_type": "execute_result"
    }
   ],
   "source": [
    "### Your code goes here\n",
    "len(df)"
   ]
  },
  {
   "cell_type": "markdown",
   "id": "a9878a57-964a-44e1-914a-6c3bb453b2c8",
   "metadata": {
    "heading_collapsed": true,
    "hidden": true
   },
   "source": [
    "<h3 style=\"text-align: left;\"> 🤹 التعامل مع القيم المفقودة</h3>\n",
    "\n",
    "In the previous exercise you found that a small percentage of our dataset with a total of 1446 rows contain null/nan.  \n",
    "In this case we therefore remove the rows containing missing values. \n",
    "We do this with the method `dropna`:"
   ]
  },
  {
   "cell_type": "code",
   "execution_count": 21,
   "id": "8c77a2d2-bac7-4a9a-a2c4-81d60beb8dc0",
   "metadata": {
    "ExecuteTime": {
     "end_time": "2018-04-23T15:48:00.019295Z",
     "start_time": "2018-04-23T15:48:00.013303Z"
    },
    "collapsed": false,
    "hidden": true,
    "jupyter": {
     "outputs_hidden": false
    },
    "tags": []
   },
   "outputs": [],
   "source": [
    "# Use the method \"drop nan\" on the DataFrame itself to force it to remove rows with null/nan-values:\n",
    "df.dropna(axis=0, how='any', inplace=True)"
   ]
  },
  {
   "cell_type": "markdown",
   "id": "ebc89e1b-a05c-430e-868a-69738aabecff",
   "metadata": {
    "hidden": true,
    "tags": []
   },
   "source": [
    "<h3 style=\"text-align: left;\"><b>تمرين:</b> كم عدد الصفوف المتبقية الآن في البيانات؟ 📝</h3>"
   ]
  },
  {
   "cell_type": "code",
   "execution_count": 22,
   "id": "2f5a7375-e1d5-4d3d-8834-e67efbcf5c7e",
   "metadata": {
    "ExecuteTime": {
     "end_time": "2018-04-18T04:50:32.473383Z",
     "start_time": "2018-04-18T04:50:32.470399Z"
    },
    "collapsed": false,
    "hidden": true,
    "jupyter": {
     "outputs_hidden": false
    }
   },
   "outputs": [
    {
     "data": {
      "text/plain": [
       "5611"
      ]
     },
     "execution_count": 22,
     "metadata": {},
     "output_type": "execute_result"
    }
   ],
   "source": [
    "### Your code goes here\n",
    "len(df)"
   ]
  },
  {
   "cell_type": "markdown",
   "id": "10139bc2-c09b-4e06-a873-74c4110b327f",
   "metadata": {
    "hidden": true
   },
   "source": [
    "كده نكون خلصنا من تنظيف البيانات! 🎉 مبروك\n",
    "\n",
    "**الآن حنبدأ باكتشاف الميزات المختلفة في البيانات بشكل أعملق أكثر** "
   ]
  },
  {
   "cell_type": "code",
   "execution_count": null,
   "id": "cbae28b1-423e-4735-b5a5-ada49ec4f473",
   "metadata": {},
   "outputs": [],
   "source": []
  },
  {
   "cell_type": "markdown",
   "id": "1b5201d4-aca1-47fb-bd21-97dc9451cb2e",
   "metadata": {
    "tags": []
   },
   "source": [
    "<h2 style=\"text-align: left;\"> 🔬 ألقِ نظرة عن كثب على كل عمود/ميزة في البيانات</h2>\n",
    "\n",
    "To plot a histogram for one column (feature) in a Pandas `DataFrame`:\n",
    "\n",
    "\n",
    "\n",
    "\n",
    "\n",
    "\n",
    "\n",
    "\n",
    "```python\n",
    "df['column'].plot(kind='hist')\n",
    "```\n",
    "\n",
    "The bin size is crucial to get an informative histogram. Luckily it is very easy to specify the bins we want in the histogram:  \n",
    "\n",
    "```python\n",
    "df['column'].plot(kind='hist', bins=array)\n",
    "```\n",
    "\n",
    "There is two main ways to make the array used as bins. Both use the library `NumPy` which we imported with the nickname `np`.  \n",
    "It's up to you to decide which method you want to use. We find that np.linspace is easier to use in some cases and np.arange in other.\n",
    "\n",
    "```python\n",
    "bins = np.linspace(start, stop, num_points)\n",
    "# or\n",
    "bins = np.arange(start, stop, step)\n",
    "```\n",
    "\n",
    "(In general `np.linspace` is most convenient when we know how many bins we want and `np.arange` is best if we know the bin width.)"
   ]
  },
  {
   "cell_type": "markdown",
   "id": "3ca9f761-11c8-4cb5-b419-5f7bfd58c7d4",
   "metadata": {
    "tags": []
   },
   "source": [
    "<h3 style=\"text-align: left;\"> 💰 السعر</h3>\n",
    "\n",
    "<h3 style=\"text-align: left;\"><b>تمرين:</b> ارسم توزيع أسعار السيارات باستخدام مخطط المدرج التكراري. تحكم بعدد الأعمدة المعروضة في الرسمة بحيث يكون عرض العمود عشرة آلاف ريال سعودي📝</h3>\n",
    "\n",
    "Remember (or check, using df.Price.max()) that the maximum value in this column is 1150000 SAR.\n"
   ]
  },
  {
   "cell_type": "code",
   "execution_count": 23,
   "id": "87f04ac0-f344-44aa-a546-dc5f7b8da2b5",
   "metadata": {},
   "outputs": [
    {
     "data": {
      "text/plain": [
       "<AxesSubplot: ylabel='Frequency'>"
      ]
     },
     "execution_count": 23,
     "metadata": {},
     "output_type": "execute_result"
    },
    {
     "data": {
      "image/png": "[encoded data removed]",
      "text/plain": [
       "<Figure size 640x480 with 1 Axes>"
      ]
     },
     "metadata": {},
     "output_type": "display_data"
    }
   ],
   "source": [
    "# Your code goes here\n",
    "df['Price'].plot(kind='hist')"
   ]
  },
  {
   "cell_type": "code",
   "execution_count": 24,
   "id": "3fbe3ed5-af2a-4783-b4d2-79bc70305470",
   "metadata": {
    "collapsed": false,
    "jupyter": {
     "outputs_hidden": false
    }
   },
   "outputs": [
    {
     "data": {
      "image/png": "[encoded data removed]",
      "text/plain": [
       "<Figure size 640x480 with 1 Axes>"
      ]
     },
     "metadata": {},
     "output_type": "display_data"
    }
   ],
   "source": [
    "df['Price'].plot(kind='hist',bins=np.arange(0, df.Price.max(), 10000))\n",
    "plt.show()"
   ]
  },
  {
   "cell_type": "markdown",
   "id": "03a00636-d11e-49b2-9a73-d29796ca45de",
   "metadata": {},
   "source": [
    "**مبروك 🎉**\n",
    "\n",
    "جرب الآن إنك تلعب بقيمة عدد الأعمدة وشوف كيف حيغير شكل الرسمة"
   ]
  },
  {
   "cell_type": "markdown",
   "id": "3771e3a4-e37e-4616-8fe2-65f5f8fcc780",
   "metadata": {
    "heading_collapsed": true,
    "hidden": true,
    "tags": []
   },
   "source": [
    "<h3 style=\"text-align: left;\"> 🛣️ الممشى</h3>\n",
    "\n",
    "<h3 style=\"text-align: left;\"><b>تمرين:</b> ارسم توزيع الكيلومترات التي قطعتها السيارات. تذكر أن أكبر ممشى في البيانات هو ٢٠ مليون كيلومتر 📝</h3>"
   ]
  },
  {
   "cell_type": "code",
   "execution_count": 25,
   "id": "b43c7882-faf1-497f-9ee9-eabe2f10e582",
   "metadata": {
    "ExecuteTime": {
     "end_time": "2018-04-17T18:41:09.164962Z",
     "start_time": "2018-04-17T18:41:08.739816Z"
    },
    "collapsed": false,
    "hidden": true,
    "jupyter": {
     "outputs_hidden": false
    }
   },
   "outputs": [
    {
     "data": {
      "text/plain": [
       "<AxesSubplot: ylabel='Frequency'>"
      ]
     },
     "execution_count": 25,
     "metadata": {},
     "output_type": "execute_result"
    },
    {
     "data": {
      "image/png": "[encoded data removed]",
      "text/plain": [
       "<Figure size 640x480 with 1 Axes>"
      ]
     },
     "metadata": {},
     "output_type": "display_data"
    }
   ],
   "source": [
    "# Your code goes here\n",
    "df['Mileage'].plot(kind='hist',bins=np.arange(0, df.Mileage.max(), 100000))"
   ]
  },
  {
   "cell_type": "markdown",
   "id": "fbbf7be4-5579-45d3-8a09-894404364368",
   "metadata": {
    "tags": []
   },
   "source": [
    "<h3 style=\"text-align: left;\"><b>تمرين:</b> اكتشف ما إذا كان هناك قيم شاذة في عمود الممشى، وقم بإزالتها إن وجدت 📝</h3>"
   ]
  },
  {
   "cell_type": "code",
   "execution_count": 26,
   "id": "485e8cdf-a9e2-42b3-95c3-157598d9ce50",
   "metadata": {
    "tags": []
   },
   "outputs": [
    {
     "data": {
      "image/png": "[encoded data removed]",
      "text/plain": [
       "<Figure size 640x480 with 1 Axes>"
      ]
     },
     "metadata": {},
     "output_type": "display_data"
    }
   ],
   "source": [
    "# Your code goes here\n",
    "df['Mileage'].plot.box()\n",
    "plt.show()"
   ]
  },
  {
   "cell_type": "code",
   "execution_count": 27,
   "id": "a458b20b-b37d-49a0-893f-0e936236b2c6",
   "metadata": {
    "tags": []
   },
   "outputs": [
    {
     "data": {
      "text/html": [
       "<div>\n",
       "<style scoped>\n",
       "    .dataframe tbody tr th:only-of-type {\n",
       "        vertical-align: middle;\n",
       "    }\n",
       "\n",
       "    .dataframe tbody tr th {\n",
       "        vertical-align: top;\n",
       "    }\n",
       "\n",
       "    .dataframe thead th {\n",
       "        text-align: right;\n",
       "    }\n",
       "</style>\n",
       "<table border=\"1\" class=\"dataframe\">\n",
       "  <thead>\n",
       "    <tr style=\"text-align: right;\">\n",
       "      <th></th>\n",
       "      <th>Make</th>\n",
       "      <th>Year</th>\n",
       "      <th>Color</th>\n",
       "      <th>Options</th>\n",
       "      <th>Fuel_Type</th>\n",
       "      <th>Mileage</th>\n",
       "      <th>Price</th>\n",
       "      <th>Type</th>\n",
       "    </tr>\n",
       "  </thead>\n",
       "  <tbody>\n",
       "    <tr>\n",
       "      <th>0</th>\n",
       "      <td>Chrysler</td>\n",
       "      <td>2018</td>\n",
       "      <td>Black</td>\n",
       "      <td>Full</td>\n",
       "      <td>Gas</td>\n",
       "      <td>103000</td>\n",
       "      <td>114000</td>\n",
       "      <td>C300</td>\n",
       "    </tr>\n",
       "    <tr>\n",
       "      <th>1</th>\n",
       "      <td>Nissan</td>\n",
       "      <td>2019</td>\n",
       "      <td>Silver</td>\n",
       "      <td>Standard</td>\n",
       "      <td>Gas</td>\n",
       "      <td>72418</td>\n",
       "      <td>27500</td>\n",
       "      <td>Sunny</td>\n",
       "    </tr>\n",
       "    <tr>\n",
       "      <th>2</th>\n",
       "      <td>Hyundai</td>\n",
       "      <td>2019</td>\n",
       "      <td>Grey</td>\n",
       "      <td>Standard</td>\n",
       "      <td>Gas</td>\n",
       "      <td>114154</td>\n",
       "      <td>43000</td>\n",
       "      <td>Elantra</td>\n",
       "    </tr>\n",
       "    <tr>\n",
       "      <th>3</th>\n",
       "      <td>Hyundai</td>\n",
       "      <td>2019</td>\n",
       "      <td>Silver</td>\n",
       "      <td>Semi Full</td>\n",
       "      <td>Gas</td>\n",
       "      <td>41912</td>\n",
       "      <td>59500</td>\n",
       "      <td>Elantra</td>\n",
       "    </tr>\n",
       "    <tr>\n",
       "      <th>4</th>\n",
       "      <td>Honda</td>\n",
       "      <td>2018</td>\n",
       "      <td>Navy</td>\n",
       "      <td>Full</td>\n",
       "      <td>Gas</td>\n",
       "      <td>39000</td>\n",
       "      <td>72000</td>\n",
       "      <td>Accord</td>\n",
       "    </tr>\n",
       "    <tr>\n",
       "      <th>...</th>\n",
       "      <td>...</td>\n",
       "      <td>...</td>\n",
       "      <td>...</td>\n",
       "      <td>...</td>\n",
       "      <td>...</td>\n",
       "      <td>...</td>\n",
       "      <td>...</td>\n",
       "      <td>...</td>\n",
       "    </tr>\n",
       "    <tr>\n",
       "      <th>5647</th>\n",
       "      <td>Kia</td>\n",
       "      <td>2006</td>\n",
       "      <td>Navy</td>\n",
       "      <td>Full</td>\n",
       "      <td>Gas</td>\n",
       "      <td>257000</td>\n",
       "      <td>15000</td>\n",
       "      <td>Sorento</td>\n",
       "    </tr>\n",
       "    <tr>\n",
       "      <th>5648</th>\n",
       "      <td>Audi</td>\n",
       "      <td>2015</td>\n",
       "      <td>Silver</td>\n",
       "      <td>Full</td>\n",
       "      <td>Gas</td>\n",
       "      <td>77000</td>\n",
       "      <td>75000</td>\n",
       "      <td>A6</td>\n",
       "    </tr>\n",
       "    <tr>\n",
       "      <th>5649</th>\n",
       "      <td>Chevrolet</td>\n",
       "      <td>2010</td>\n",
       "      <td>Silver</td>\n",
       "      <td>Full</td>\n",
       "      <td>Gas</td>\n",
       "      <td>150000</td>\n",
       "      <td>53000</td>\n",
       "      <td>Camaro</td>\n",
       "    </tr>\n",
       "    <tr>\n",
       "      <th>5650</th>\n",
       "      <td>Nissan</td>\n",
       "      <td>2011</td>\n",
       "      <td>Silver</td>\n",
       "      <td>Full</td>\n",
       "      <td>Gas</td>\n",
       "      <td>18500</td>\n",
       "      <td>22000</td>\n",
       "      <td>Altima</td>\n",
       "    </tr>\n",
       "    <tr>\n",
       "      <th>5651</th>\n",
       "      <td>Cadillac</td>\n",
       "      <td>2013</td>\n",
       "      <td>White</td>\n",
       "      <td>Full</td>\n",
       "      <td>Gas</td>\n",
       "      <td>256000</td>\n",
       "      <td>40000</td>\n",
       "      <td>Other</td>\n",
       "    </tr>\n",
       "  </tbody>\n",
       "</table>\n",
       "<p>5579 rows × 8 columns</p>\n",
       "</div>"
      ],
      "text/plain": [
       "           Make  Year   Color    Options Fuel_Type  Mileage   Price     Type\n",
       "0      Chrysler  2018   Black       Full       Gas   103000  114000     C300\n",
       "1        Nissan  2019  Silver   Standard       Gas    72418   27500    Sunny\n",
       "2       Hyundai  2019    Grey   Standard       Gas   114154   43000  Elantra\n",
       "3       Hyundai  2019  Silver  Semi Full       Gas    41912   59500  Elantra\n",
       "4         Honda  2018    Navy       Full       Gas    39000   72000   Accord\n",
       "...         ...   ...     ...        ...       ...      ...     ...      ...\n",
       "5647        Kia  2006    Navy       Full       Gas   257000   15000  Sorento\n",
       "5648       Audi  2015  Silver       Full       Gas    77000   75000       A6\n",
       "5649  Chevrolet  2010  Silver       Full       Gas   150000   53000   Camaro\n",
       "5650     Nissan  2011  Silver       Full       Gas    18500   22000   Altima\n",
       "5651   Cadillac  2013   White       Full       Gas   256000   40000    Other\n",
       "\n",
       "[5579 rows x 8 columns]"
      ]
     },
     "execution_count": 27,
     "metadata": {},
     "output_type": "execute_result"
    }
   ],
   "source": [
    "# Your code goes here\n",
    "df = df[df['Mileage'] < 700000]\n",
    "df"
   ]
  },
  {
   "cell_type": "code",
   "execution_count": 28,
   "id": "a225a9cb-caac-4466-8480-ce052d68fbb9",
   "metadata": {
    "tags": []
   },
   "outputs": [
    {
     "data": {
      "text/plain": [
       "<AxesSubplot: ylabel='Frequency'>"
      ]
     },
     "execution_count": 28,
     "metadata": {},
     "output_type": "execute_result"
    },
    {
     "data": {
      "image/png": "[encoded data removed]",
      "text/plain": [
       "<Figure size 640x480 with 1 Axes>"
      ]
     },
     "metadata": {},
     "output_type": "display_data"
    }
   ],
   "source": [
    "# Your code goes here\n",
    "df['Mileage'].plot(kind='hist',bins=np.arange(0, df.Mileage.max(), 100000))"
   ]
  },
  {
   "cell_type": "markdown",
   "id": "4f39d9f9-d823-4d80-b5b9-69819b212955",
   "metadata": {
    "tags": []
   },
   "source": [
    "اللي قد يكون أكثر أهمية من توزيع الكيلومترات هو العلاقة بين ممشى سيارة وسعرها\n",
    "\n",
    "عشان نصور هذه العلاقة، ممكن نستخدم مخطط اسمه مخطط الانتشار\n",
    "\n",
    "The syntax is as follows:\n",
    "\n",
    "```python\n",
    "dataframe.plot(kind='scatter', x='ColumnName_1', y='ColumnName_2')\n",
    "```\n",
    "\n",
    "<h3 style=\"text-align: left;\"><b>تمرين:</b> ارسم مخطط الانتشار بحيث تظهر توزيع كل من ميزتي الممشى والسعر والعلاقة بينهما📝</h3>"
   ]
  },
  {
   "cell_type": "code",
   "execution_count": 29,
   "id": "31eac1c7-cf96-49e3-a2c2-4531e655e5fb",
   "metadata": {
    "ExecuteTime": {
     "end_time": "2018-04-18T04:59:57.853553Z",
     "start_time": "2018-04-18T04:59:57.480021Z"
    },
    "collapsed": false,
    "hidden": true,
    "jupyter": {
     "outputs_hidden": false
    }
   },
   "outputs": [
    {
     "data": {
      "image/png": "[encoded data removed]",
      "text/plain": [
       "<Figure size 640x480 with 1 Axes>"
      ]
     },
     "metadata": {},
     "output_type": "display_data"
    }
   ],
   "source": [
    "### Your code goes here\n",
    "df.plot(kind='scatter',x='Mileage',y='Price')\n",
    "plt.show()"
   ]
  },
  {
   "cell_type": "markdown",
   "id": "52de31bf-5630-4c46-aa87-0ab52b1cb09b",
   "metadata": {},
   "source": [
    "## Remove outliers and ensure the scatterplot look good"
   ]
  },
  {
   "cell_type": "markdown",
   "id": "a17af5a8-adfd-42a3-8e27-4dd7e7f2e435",
   "metadata": {
    "tags": []
   },
   "source": [
    "<h3 style=\"text-align: left;\"><b>سؤال :</b> كيف تفسر العلاقة بين الممشى والسعر؟ هل هي متوافقة مع كما كنت تتوقعه؟ ❓</h3>"
   ]
  },
  {
   "cell_type": "markdown",
   "id": "89117130-de62-4fd1-b757-b12b8a32d60b",
   "metadata": {
    "tags": []
   },
   "source": [
    "<h3 style=\"text-align: left;\"><b>اكتب إجابتك في هذه الخلية</b></h3>\n",
    "\n",
    "<div style=\"text-align: left;\">:الإجابة -</div>\n",
    "هناك علاقة خطية سالبة بين الممشى والسعر، كلما قطعت السيارة كيلومترات أكثر، كلما قل سعرها.\n",
    "{اكتب هنا}"
   ]
  },
  {
   "cell_type": "code",
   "execution_count": null,
   "id": "08d709c4-39a1-439a-bd1d-63d3cc09fe5c",
   "metadata": {},
   "outputs": [],
   "source": []
  },
  {
   "cell_type": "markdown",
   "id": "e7504d8f-023b-49bc-bb53-20b768493c89",
   "metadata": {
    "jp-MarkdownHeadingCollapsed": true,
    "tags": []
   },
   "source": [
    "<h3 style=\"text-align: left;\"> 🎨 اللون الخارجي</h3>"
   ]
  },
  {
   "cell_type": "markdown",
   "id": "4423671c-c11b-4b2b-b169-61fc41880900",
   "metadata": {
    "tags": []
   },
   "source": [
    "<h3 style=\"text-align: left;\"><b>تمرين:</b> اطبع كل الألوان المتفردة للسيارات المستعملة 📝</h3>"
   ]
  },
  {
   "cell_type": "code",
   "execution_count": 30,
   "id": "011ea9fc-37ea-46a6-ac3a-bd829f4a2dab",
   "metadata": {
    "tags": []
   },
   "outputs": [
    {
     "data": {
      "text/plain": [
       "array(['Black', 'Silver', 'Grey', 'Navy', 'White', 'Bronze',\n",
       "       'Another Color', 'Golden', 'Brown', 'Blue', 'Red', 'Oily', 'Green',\n",
       "       'Orange', 'Yellow'], dtype=object)"
      ]
     },
     "execution_count": 30,
     "metadata": {},
     "output_type": "execute_result"
    }
   ],
   "source": [
    "df.Color.unique()"
   ]
  },
  {
   "cell_type": "markdown",
   "id": "0406623e-5614-4533-99d2-f861e54210b5",
   "metadata": {
    "tags": []
   },
   "source": [
    "<h3 style=\"text-align: left;\"><b>تمرين:</b> ارسم مخطط شريطي لألوان السيارات المستعملة📝</h3>"
   ]
  },
  {
   "cell_type": "code",
   "execution_count": 31,
   "id": "14b7aeb1-85b3-45de-b660-cbb6e2a810f9",
   "metadata": {
    "tags": []
   },
   "outputs": [
    {
     "data": {
      "text/plain": [
       "<AxesSubplot: >"
      ]
     },
     "execution_count": 31,
     "metadata": {},
     "output_type": "execute_result"
    },
    {
     "data": {
      "image/png": "[encoded data removed]",
      "text/plain": [
       "<Figure size 640x480 with 1 Axes>"
      ]
     },
     "metadata": {},
     "output_type": "display_data"
    }
   ],
   "source": [
    "### Your code goes here\n",
    "df['Color'].value_counts().plot(kind='bar')"
   ]
  },
  {
   "cell_type": "markdown",
   "id": "48e41b0b-9b17-4cf8-8589-8589fa812ea0",
   "metadata": {},
   "source": [
    "<h2 style=\"text-align: left;\"> 🤜🤛 الترابط</h2>"
   ]
  },
  {
   "cell_type": "markdown",
   "id": "26043464-bf73-4f48-9420-1ed6b21cfce6",
   "metadata": {},
   "source": [
    "<h3 style=\"text-align: left;\"> 🎛️ مصفوفة الترابط</h3>"
   ]
  },
  {
   "cell_type": "markdown",
   "id": "d5313009-b66f-47a5-91e3-778e9606f81f",
   "metadata": {
    "ExecuteTime": {
     "end_time": "2018-04-17T17:12:20.272657Z",
     "start_time": "2018-04-17T17:12:20.258621Z"
    },
    "hidden": true
   },
   "source": [
    "Using Pandas it is very easy to calculate the correlations between all features:\n",
    "\n",
    "```python\n",
    "dataframe.corr()\n",
    "```\n",
    "\n",
    "We only want the correlation for features that are not categorical (remember that we consider binary features as categorical).   \n",
    "In our dataset this corresponds to the features Age, KM, Weight, CC and HP.\n",
    "\n",
    "Remember that we can select a subset of a DataFrame like this:\n",
    "```python\n",
    "dataframe[['column1', 'column2', 'column3']]\n",
    "```\n",
    "\n",
    "__Exercise:__ Calculate the correlation matrix for all features that are not categorical. Remember to include `Price` since we also want the correlations between the features and the sales price.\n",
    "\n",
    "<h3 style=\"text-align: left;\"><b>تمرين:</b> احسب مصفوفة الترابط لكل الميزات/المتغيرات الغير نوعية. تذكر أن تضمن في المصفوفة ميزة السعر، لأنه هو المتغير الذي نستهدفه ونريد حساب علاقته مع بقية المتغيرات 📝</h3>"
   ]
  },
  {
   "cell_type": "code",
   "execution_count": 32,
   "id": "bbba3470-967b-49e9-875c-961a71de1f20",
   "metadata": {
    "tags": []
   },
   "outputs": [
    {
     "data": {
      "text/html": [
       "<div>\n",
       "<style scoped>\n",
       "    .dataframe tbody tr th:only-of-type {\n",
       "        vertical-align: middle;\n",
       "    }\n",
       "\n",
       "    .dataframe tbody tr th {\n",
       "        vertical-align: top;\n",
       "    }\n",
       "\n",
       "    .dataframe thead th {\n",
       "        text-align: right;\n",
       "    }\n",
       "</style>\n",
       "<table border=\"1\" class=\"dataframe\">\n",
       "  <thead>\n",
       "    <tr style=\"text-align: right;\">\n",
       "      <th></th>\n",
       "      <th>Make</th>\n",
       "      <th>Year</th>\n",
       "      <th>Color</th>\n",
       "      <th>Options</th>\n",
       "      <th>Fuel_Type</th>\n",
       "      <th>Mileage</th>\n",
       "      <th>Price</th>\n",
       "      <th>Type</th>\n",
       "    </tr>\n",
       "  </thead>\n",
       "  <tbody>\n",
       "    <tr>\n",
       "      <th>0</th>\n",
       "      <td>Chrysler</td>\n",
       "      <td>2018</td>\n",
       "      <td>Black</td>\n",
       "      <td>Full</td>\n",
       "      <td>Gas</td>\n",
       "      <td>103000</td>\n",
       "      <td>114000</td>\n",
       "      <td>C300</td>\n",
       "    </tr>\n",
       "    <tr>\n",
       "      <th>1</th>\n",
       "      <td>Nissan</td>\n",
       "      <td>2019</td>\n",
       "      <td>Silver</td>\n",
       "      <td>Standard</td>\n",
       "      <td>Gas</td>\n",
       "      <td>72418</td>\n",
       "      <td>27500</td>\n",
       "      <td>Sunny</td>\n",
       "    </tr>\n",
       "    <tr>\n",
       "      <th>2</th>\n",
       "      <td>Hyundai</td>\n",
       "      <td>2019</td>\n",
       "      <td>Grey</td>\n",
       "      <td>Standard</td>\n",
       "      <td>Gas</td>\n",
       "      <td>114154</td>\n",
       "      <td>43000</td>\n",
       "      <td>Elantra</td>\n",
       "    </tr>\n",
       "    <tr>\n",
       "      <th>3</th>\n",
       "      <td>Hyundai</td>\n",
       "      <td>2019</td>\n",
       "      <td>Silver</td>\n",
       "      <td>Semi Full</td>\n",
       "      <td>Gas</td>\n",
       "      <td>41912</td>\n",
       "      <td>59500</td>\n",
       "      <td>Elantra</td>\n",
       "    </tr>\n",
       "    <tr>\n",
       "      <th>4</th>\n",
       "      <td>Honda</td>\n",
       "      <td>2018</td>\n",
       "      <td>Navy</td>\n",
       "      <td>Full</td>\n",
       "      <td>Gas</td>\n",
       "      <td>39000</td>\n",
       "      <td>72000</td>\n",
       "      <td>Accord</td>\n",
       "    </tr>\n",
       "    <tr>\n",
       "      <th>...</th>\n",
       "      <td>...</td>\n",
       "      <td>...</td>\n",
       "      <td>...</td>\n",
       "      <td>...</td>\n",
       "      <td>...</td>\n",
       "      <td>...</td>\n",
       "      <td>...</td>\n",
       "      <td>...</td>\n",
       "    </tr>\n",
       "    <tr>\n",
       "      <th>5647</th>\n",
       "      <td>Kia</td>\n",
       "      <td>2006</td>\n",
       "      <td>Navy</td>\n",
       "      <td>Full</td>\n",
       "      <td>Gas</td>\n",
       "      <td>257000</td>\n",
       "      <td>15000</td>\n",
       "      <td>Sorento</td>\n",
       "    </tr>\n",
       "    <tr>\n",
       "      <th>5648</th>\n",
       "      <td>Audi</td>\n",
       "      <td>2015</td>\n",
       "      <td>Silver</td>\n",
       "      <td>Full</td>\n",
       "      <td>Gas</td>\n",
       "      <td>77000</td>\n",
       "      <td>75000</td>\n",
       "      <td>A6</td>\n",
       "    </tr>\n",
       "    <tr>\n",
       "      <th>5649</th>\n",
       "      <td>Chevrolet</td>\n",
       "      <td>2010</td>\n",
       "      <td>Silver</td>\n",
       "      <td>Full</td>\n",
       "      <td>Gas</td>\n",
       "      <td>150000</td>\n",
       "      <td>53000</td>\n",
       "      <td>Camaro</td>\n",
       "    </tr>\n",
       "    <tr>\n",
       "      <th>5650</th>\n",
       "      <td>Nissan</td>\n",
       "      <td>2011</td>\n",
       "      <td>Silver</td>\n",
       "      <td>Full</td>\n",
       "      <td>Gas</td>\n",
       "      <td>18500</td>\n",
       "      <td>22000</td>\n",
       "      <td>Altima</td>\n",
       "    </tr>\n",
       "    <tr>\n",
       "      <th>5651</th>\n",
       "      <td>Cadillac</td>\n",
       "      <td>2013</td>\n",
       "      <td>White</td>\n",
       "      <td>Full</td>\n",
       "      <td>Gas</td>\n",
       "      <td>256000</td>\n",
       "      <td>40000</td>\n",
       "      <td>Other</td>\n",
       "    </tr>\n",
       "  </tbody>\n",
       "</table>\n",
       "<p>5579 rows × 8 columns</p>\n",
       "</div>"
      ],
      "text/plain": [
       "           Make  Year   Color    Options Fuel_Type  Mileage   Price     Type\n",
       "0      Chrysler  2018   Black       Full       Gas   103000  114000     C300\n",
       "1        Nissan  2019  Silver   Standard       Gas    72418   27500    Sunny\n",
       "2       Hyundai  2019    Grey   Standard       Gas   114154   43000  Elantra\n",
       "3       Hyundai  2019  Silver  Semi Full       Gas    41912   59500  Elantra\n",
       "4         Honda  2018    Navy       Full       Gas    39000   72000   Accord\n",
       "...         ...   ...     ...        ...       ...      ...     ...      ...\n",
       "5647        Kia  2006    Navy       Full       Gas   257000   15000  Sorento\n",
       "5648       Audi  2015  Silver       Full       Gas    77000   75000       A6\n",
       "5649  Chevrolet  2010  Silver       Full       Gas   150000   53000   Camaro\n",
       "5650     Nissan  2011  Silver       Full       Gas    18500   22000   Altima\n",
       "5651   Cadillac  2013   White       Full       Gas   256000   40000    Other\n",
       "\n",
       "[5579 rows x 8 columns]"
      ]
     },
     "execution_count": 32,
     "metadata": {},
     "output_type": "execute_result"
    }
   ],
   "source": [
    "df"
   ]
  },
  {
   "cell_type": "code",
   "execution_count": 33,
   "id": "fbab907a-e03b-442d-8354-70dc1ac635df",
   "metadata": {
    "ExecuteTime": {
     "end_time": "2018-04-17T18:41:19.762881Z",
     "start_time": "2018-04-17T18:41:19.749872Z"
    },
    "collapsed": false,
    "hidden": true,
    "jupyter": {
     "outputs_hidden": false
    }
   },
   "outputs": [
    {
     "name": "stderr",
     "output_type": "stream",
     "text": [
      "/var/folders/86/6r0hhr297j965f3x7fr1_mdm0000gn/T/ipykernel_87047/1743864691.py:2: FutureWarning: The default value of numeric_only in DataFrame.corr is deprecated. In a future version, it will default to False. Select only valid columns or specify the value of numeric_only to silence this warning.\n",
      "  df.drop(columns=['Color','Fuel_Type']).corr()\n"
     ]
    },
    {
     "data": {
      "text/html": [
       "<div>\n",
       "<style scoped>\n",
       "    .dataframe tbody tr th:only-of-type {\n",
       "        vertical-align: middle;\n",
       "    }\n",
       "\n",
       "    .dataframe tbody tr th {\n",
       "        vertical-align: top;\n",
       "    }\n",
       "\n",
       "    .dataframe thead th {\n",
       "        text-align: right;\n",
       "    }\n",
       "</style>\n",
       "<table border=\"1\" class=\"dataframe\">\n",
       "  <thead>\n",
       "    <tr style=\"text-align: right;\">\n",
       "      <th></th>\n",
       "      <th>Year</th>\n",
       "      <th>Mileage</th>\n",
       "      <th>Price</th>\n",
       "    </tr>\n",
       "  </thead>\n",
       "  <tbody>\n",
       "    <tr>\n",
       "      <th>Year</th>\n",
       "      <td>1.000000</td>\n",
       "      <td>-0.401532</td>\n",
       "      <td>0.305201</td>\n",
       "    </tr>\n",
       "    <tr>\n",
       "      <th>Mileage</th>\n",
       "      <td>-0.401532</td>\n",
       "      <td>1.000000</td>\n",
       "      <td>-0.271978</td>\n",
       "    </tr>\n",
       "    <tr>\n",
       "      <th>Price</th>\n",
       "      <td>0.305201</td>\n",
       "      <td>-0.271978</td>\n",
       "      <td>1.000000</td>\n",
       "    </tr>\n",
       "  </tbody>\n",
       "</table>\n",
       "</div>"
      ],
      "text/plain": [
       "             Year   Mileage     Price\n",
       "Year     1.000000 -0.401532  0.305201\n",
       "Mileage -0.401532  1.000000 -0.271978\n",
       "Price    0.305201 -0.271978  1.000000"
      ]
     },
     "execution_count": 33,
     "metadata": {},
     "output_type": "execute_result"
    }
   ],
   "source": [
    "### Your code goes here\n",
    "df.drop(columns=['Color','Fuel_Type']).corr()"
   ]
  },
  {
   "cell_type": "markdown",
   "id": "ee158a84-6928-498d-b434-0f04ec21d5f5",
   "metadata": {
    "editable": true,
    "hidden": true
   },
   "source": [
    "**Using Seaborn to enhance our plotting/graphing**\n",
    "\n",
    "We believe that the correlation matrix looks better in color so we plot it using a function called `heatmap` from the library `seaborn`. `seaborn` has some great \"shortcuts\" for providing insight into dataset statistics."
   ]
  },
  {
   "cell_type": "code",
   "execution_count": 34,
   "id": "730e2a3f-e81d-42b5-ab16-b767cd3ee1d2",
   "metadata": {
    "ExecuteTime": {
     "end_time": "2018-04-18T05:48:35.796220Z",
     "start_time": "2018-04-18T05:48:35.343043Z"
    },
    "collapsed": false,
    "hidden": true,
    "jupyter": {
     "outputs_hidden": false
    }
   },
   "outputs": [
    {
     "data": {
      "text/plain": [
       "<AxesSubplot: >"
      ]
     },
     "execution_count": 34,
     "metadata": {},
     "output_type": "execute_result"
    },
    {
     "data": {
      "image/png": "[encoded data removed]",
      "text/plain": [
       "<Figure size 640x480 with 2 Axes>"
      ]
     },
     "metadata": {},
     "output_type": "display_data"
    }
   ],
   "source": [
    "# Run this cell and a very nice matrix will hopefully appear\n",
    "sns.heatmap(df[['Price','Year', 'Mileage']].corr(),annot=True, center=0, cmap='BrBG', annot_kws={\"size\": 14})"
   ]
  },
  {
   "cell_type": "markdown",
   "id": "e843eb7d-4fd1-48d4-a8af-f38d5d662901",
   "metadata": {
    "hidden": true
   },
   "source": [
    "As we expected `Year` have the highest correlation with `Price`, followed by mileage (`KM`) and `Weight`. \n",
    "\n",
    "But, take a closer look at: \n",
    "* The correlation between Year and Mileage.   \n",
    "* The correlation between Engine_Size and Mileage.\n",
    "\n",
    "**ايش الشي الغريب في قيم العلاقات بين هذه المتغيرات؟**"
   ]
  },
  {
   "cell_type": "markdown",
   "id": "2ba457d8-0040-4323-92dc-ba681d1e47f9",
   "metadata": {
    "tags": []
   },
   "source": [
    "<h3 style=\"text-align: left;\"><b>تمرين:</b> ليش الترابط بين السنة والممشى كبير نسبيًا وسالب؟ لكن القيمة بين حجم المحرك والممشى صغيرة؟ هل عندك أية أفكار؟ 📝</h3>"
   ]
  },
  {
   "cell_type": "markdown",
   "id": "b71a4cde-f27a-4c17-88da-a09d7d6c4459",
   "metadata": {
    "tags": []
   },
   "source": [
    "<h3 style=\"text-align: left;\"><b>اكتب إجابتك في هذه الخلية</b></h3>\n",
    "\n",
    "<div style=\"text-align: left;\">:الإجابة -</div>\n",
    "الترابط بين سنة التصنيع والممشى كبير نسبيًا هو أمر طبيعي لأنه كل زاد عمر السيارة، كلما اُستهلكت بشكل أكبر. بينما هو صغير بين حجم المحرك والممشى لأنه ليس بينهم أي ترابط، قدرات السيارة ليس له علاقة مع المسافة التي ستقطعها على مدار فترة استخدامها\n",
    "\n",
    "{اكتب هنا}"
   ]
  },
  {
   "cell_type": "markdown",
   "id": "da3b8cc9-5af8-48ed-8e10-a2d59dac27b7",
   "metadata": {
    "tags": []
   },
   "source": [
    "<h2 style=\"text-align: left;\"> 💎 فوائد مُستنبطة</h2>"
   ]
  },
  {
   "cell_type": "markdown",
   "id": "399d6b58-8b42-411b-a4a9-dc9612bd8297",
   "metadata": {
    "hidden": true
   },
   "source": [
    "In the presentation we said that there are four goals in an EDA.   \n",
    "To sum up the lab so far let's evaluate how well we met those goals:\n",
    "\n",
    "* __Data Insight__:\n",
    "    * We found the relationship between all features and Price\n",
    "        * A key finding is that Year is the feature that by itself is most important\n",
    "    * Your points goes here:\n",
    "    * \n",
    "   \n",
    "     \n",
    "     \n",
    "     \n",
    "* __Data Summary__:\n",
    "    * We calculated the correlation matrix\n",
    "    * Your points goes here:\n",
    "    * \n",
    "    \n",
    "\n",
    "\n",
    "\n",
    "* __List of outliers__:\n",
    "    * Possible outliers found in Mileage feature\n",
    "    * Possible outliers found in price distribution\n",
    "    * Your points goes here:\n",
    "    * \n",
    "   \n",
    "    \n",
    "* __Dataset ready for modeling__:\n",
    "    * We made a dataset free of inconcistencies\n",
    "    * We removed missing values\n",
    "    * We scaled the dataset\n",
    "\n",
    "   \n"
   ]
  },
  {
   "cell_type": "markdown",
   "id": "01717a51-7708-411f-977e-f2cb3de2a184",
   "metadata": {
    "tags": []
   },
   "source": [
    "<h3 style=\"text-align: left;\"><b>تمرين:</b> اكتب فوائد أخرى حصلت من التحليلات اللي قمت فيها فوق. المجال لك تحت إنك تكتشف البيانات بشكل أعمق وتطلع فوائد أخرى. متأكدين إنك بتشوف أشياء في البيانات حتكون رهيبة وجديدة علينا وممكن تشاركها معانا 📝</h3>"
   ]
  },
  {
   "cell_type": "markdown",
   "id": "4ea1e2c0-007b-4cb6-9523-fa9cac91a36a",
   "metadata": {
    "tags": []
   },
   "source": [
    "<h3 style=\"text-align: left;\"><b>اكتب إجابتك في هذه الخلية</b></h3>\n",
    "{اكتب هنا}"
   ]
  },
  {
   "cell_type": "code",
   "execution_count": null,
   "id": "9a2eb762-919d-40e1-905c-a5f08a6dd857",
   "metadata": {},
   "outputs": [],
   "source": []
  },
  {
   "cell_type": "markdown",
   "id": "40682e6a-7eb8-4846-a36a-49909776e0e1",
   "metadata": {},
   "source": [
    "<h2 style=\"text-align: left;\"> 🕸️ نمذجة البيانات</h2>"
   ]
  },
  {
   "cell_type": "markdown",
   "id": "cc0b2e9e-05b9-47fb-87ea-ae8d0ea566d9",
   "metadata": {},
   "source": [
    "بكده نكون انتهينا من مرحلة اكتشاف البيانات، الآن حان وقت النمذجة. حناقش في هذا القسم النقاط التالية\n",
    "\n",
    "* بناء نموذج انحدار خطي للتنبؤ بالأسعار\n",
    "* ترميز البيانات\n",
    "* تسوية الخصائص\n",
    "* بناء نموذج غابة عشوائية بسيطة للتصنيف\n",
    "\n",
    "هذا القسم حيكون أغلب الكود مكتوب بما إنه ما اتعمقنا فيه كثير في المحاضرة، اللي عليك هو أن تفهم النتائج وتقيمها "
   ]
  },
  {
   "cell_type": "code",
   "execution_count": 35,
   "id": "7707e850-42b0-4dcd-a0cc-4ece21e527b5",
   "metadata": {
    "tags": []
   },
   "outputs": [
    {
     "data": {
      "text/html": [
       "<div>\n",
       "<style scoped>\n",
       "    .dataframe tbody tr th:only-of-type {\n",
       "        vertical-align: middle;\n",
       "    }\n",
       "\n",
       "    .dataframe tbody tr th {\n",
       "        vertical-align: top;\n",
       "    }\n",
       "\n",
       "    .dataframe thead th {\n",
       "        text-align: right;\n",
       "    }\n",
       "</style>\n",
       "<table border=\"1\" class=\"dataframe\">\n",
       "  <thead>\n",
       "    <tr style=\"text-align: right;\">\n",
       "      <th></th>\n",
       "      <th>Make</th>\n",
       "      <th>Year</th>\n",
       "      <th>Color</th>\n",
       "      <th>Options</th>\n",
       "      <th>Fuel_Type</th>\n",
       "      <th>Mileage</th>\n",
       "      <th>Price</th>\n",
       "      <th>Type</th>\n",
       "      <th>Age</th>\n",
       "      <th>&gt;=70k</th>\n",
       "    </tr>\n",
       "  </thead>\n",
       "  <tbody>\n",
       "    <tr>\n",
       "      <th>0</th>\n",
       "      <td>Ford</td>\n",
       "      <td>2013</td>\n",
       "      <td>Black</td>\n",
       "      <td>Standard</td>\n",
       "      <td>gas</td>\n",
       "      <td>348000</td>\n",
       "      <td>46200.0</td>\n",
       "      <td>Expedition</td>\n",
       "      <td>105.775101</td>\n",
       "      <td>False</td>\n",
       "    </tr>\n",
       "    <tr>\n",
       "      <th>1</th>\n",
       "      <td>Ford</td>\n",
       "      <td>2018</td>\n",
       "      <td>White</td>\n",
       "      <td>Standard</td>\n",
       "      <td>Gas</td>\n",
       "      <td>82000</td>\n",
       "      <td>84750.0</td>\n",
       "      <td>Taurus</td>\n",
       "      <td>61.085510</td>\n",
       "      <td>True</td>\n",
       "    </tr>\n",
       "    <tr>\n",
       "      <th>2</th>\n",
       "      <td>Ford</td>\n",
       "      <td>2016</td>\n",
       "      <td>White</td>\n",
       "      <td>Full</td>\n",
       "      <td>Gas</td>\n",
       "      <td>104000</td>\n",
       "      <td>73400.0</td>\n",
       "      <td>Expedition</td>\n",
       "      <td>73.109955</td>\n",
       "      <td>True</td>\n",
       "    </tr>\n",
       "    <tr>\n",
       "      <th>3</th>\n",
       "      <td>Ford</td>\n",
       "      <td>2016</td>\n",
       "      <td>Red</td>\n",
       "      <td>Full</td>\n",
       "      <td>gas</td>\n",
       "      <td>93000</td>\n",
       "      <td>82900.0</td>\n",
       "      <td>Explorer</td>\n",
       "      <td>69.732066</td>\n",
       "      <td>True</td>\n",
       "    </tr>\n",
       "    <tr>\n",
       "      <th>4</th>\n",
       "      <td>Ford</td>\n",
       "      <td>2017</td>\n",
       "      <td>White</td>\n",
       "      <td>Full</td>\n",
       "      <td>Gas</td>\n",
       "      <td>34000</td>\n",
       "      <td>69425.0</td>\n",
       "      <td>Expedition</td>\n",
       "      <td>78.988104</td>\n",
       "      <td>False</td>\n",
       "    </tr>\n",
       "  </tbody>\n",
       "</table>\n",
       "</div>"
      ],
      "text/plain": [
       "   Make  Year  Color   Options Fuel_Type  Mileage    Price        Type  \\\n",
       "0  Ford  2013  Black  Standard       gas   348000  46200.0  Expedition   \n",
       "1  Ford  2018  White  Standard       Gas    82000  84750.0      Taurus   \n",
       "2  Ford  2016  White      Full       Gas   104000  73400.0  Expedition   \n",
       "3  Ford  2016    Red      Full       gas    93000  82900.0    Explorer   \n",
       "4  Ford  2017  White      Full       Gas    34000  69425.0  Expedition   \n",
       "\n",
       "          Age  >=70k  \n",
       "0  105.775101  False  \n",
       "1   61.085510   True  \n",
       "2   73.109955   True  \n",
       "3   69.732066   True  \n",
       "4   78.988104  False  "
      ]
     },
     "execution_count": 35,
     "metadata": {},
     "output_type": "execute_result"
    }
   ],
   "source": [
    "df = read_ford_used_cars_dataset()\n",
    "df.head()"
   ]
  },
  {
   "cell_type": "markdown",
   "id": "e8bea9c4-84e9-401f-88d2-6db7eca027d8",
   "metadata": {},
   "source": [
    "### Linear Regression with one feature"
   ]
  },
  {
   "cell_type": "code",
   "execution_count": 36,
   "id": "07875b91-c5f8-48db-990b-8bad25054e9d",
   "metadata": {
    "tags": []
   },
   "outputs": [
    {
     "name": "stdout",
     "output_type": "stream",
     "text": [
      "\n",
      "****************\n",
      "RMSE: 13451.575\n",
      "****************\n"
     ]
    },
    {
     "data": {
      "image/png": "[encoded data removed]",
      "text/plain": [
       "<Figure size 1800x500 with 3 Axes>"
      ]
     },
     "metadata": {},
     "output_type": "display_data"
    }
   ],
   "source": [
    "from sklearn.linear_model import LinearRegression\n",
    "from sklearn.model_selection import train_test_split\n",
    "from sklearn.ensemble import RandomForestRegressor\n",
    "from sklearn.metrics import mean_squared_error\n",
    "\n",
    "#Based on the scatter plots it seems like Age is the single most important feature\n",
    "features = ['Age', 'Mileage']\n",
    "\n",
    "# Create train and test data\n",
    "X = df[features].values\n",
    "y = df['Price'].values\n",
    "X_train, X_test, y_train, y_test = train_test_split(X, y, random_state=0)\n",
    "\n",
    "# Initialize linear regressor model\n",
    "# 'Train' the model\n",
    "# Predict price based on data in test - set\n",
    "# LinReg = RandomForestRegressor(n_estimators=10)\n",
    "LinReg = LinearRegression()\n",
    "LinReg.fit(X_train, y_train)\n",
    "y_pred = LinReg.predict(X_test)\n",
    "abs_error = np.abs(y_pred - y_test)\n",
    "print('\\n****************\\nRMSE: {:.3f}\\n****************'.format(np.sqrt(mean_squared_error(y_test, y_pred))))\n",
    "\n",
    "fig, (ax1, ax2, ax3) = plt.subplots(1,3,figsize=(18,5))\n",
    "ax1.plot(X_train[:,0], y_train, 'o')\n",
    "ax1.plot(X_test[:,0], y_pred, 'r.')\n",
    "ax1.set_xlabel('Age')\n",
    "ax1.set_ylabel('Price')\n",
    "ax1.set_title('Predictions and actual data')\n",
    "ax2.plot(np.arange(len(y_pred)), abs_error, 'x')\n",
    "ax2.set_title('The absolute error in the predictions')\n",
    "ax3.hist(abs_error)\n",
    "ax3.set_title('Distribution of the absolute error')\n",
    "plt.show()"
   ]
  },
  {
   "cell_type": "markdown",
   "id": "c4a6b29d-3d4e-4e5c-acf1-1f2e7e6a106c",
   "metadata": {
    "tags": []
   },
   "source": [
    "<h3 style=\"text-align: left;\"><b>تمرين:</b> حاول أن تحسن من أداء النموذج المطور أعلاه 📝</h3>"
   ]
  },
  {
   "cell_type": "code",
   "execution_count": 37,
   "id": "bbeb5611-fee4-4e45-b1eb-e5a8cad6f602",
   "metadata": {
    "tags": []
   },
   "outputs": [
    {
     "name": "stdout",
     "output_type": "stream",
     "text": [
      "\n",
      "****************\n",
      "RMSE: 0.000\n",
      "****************\n",
      "\n",
      "****************\n",
      "RMSE: 13762.770\n",
      "****************\n"
     ]
    },
    {
     "data": {
      "image/png": "[encoded data removed]",
      "text/plain": [
       "<Figure size 1800x500 with 3 Axes>"
      ]
     },
     "metadata": {},
     "output_type": "display_data"
    }
   ],
   "source": [
    "# Your code goes here\n",
    "from sklearn.linear_model import LinearRegression\n",
    "from sklearn.model_selection import train_test_split\n",
    "from sklearn.ensemble import RandomForestRegressor\n",
    "\n",
    "#Based on the scatter plots it seems like Age is the single most important feature\n",
    "features = ['Age']\n",
    "\n",
    "# Create train and test data\n",
    "X = df[features].values.reshape(-1,1)\n",
    "y = df['Price'].values\n",
    "X_train, X_test, y_train, y_test = train_test_split(X, y, random_state=0)\n",
    "\n",
    "# Initialize linear regressor model\n",
    "# 'Train' the model\n",
    "# Predict price based on data in test - set\n",
    "# LinReg = RandomForestRegressor(n_estimators=10)\n",
    "LinReg = RandomForestRegressor(max_depth=10, n_estimators=50)\n",
    "LinReg.fit(X_train, y_train)\n",
    "y_pred = LinReg.predict(X_test)\n",
    "abs_error = np.abs(y_pred - y_test)\n",
    "print('\\n****************\\nRMSE: {:.3f}\\n****************'.format(np.sqrt(mean_squared_error(y_train, y_train))))\n",
    "\n",
    "print('\\n****************\\nRMSE: {:.3f}\\n****************'.format(np.sqrt(mean_squared_error(y_test, y_pred))))\n",
    "\n",
    "fig, (ax1, ax2, ax3) = plt.subplots(1,3,figsize=(18,5))\n",
    "ax1.plot(X_train[:,0], y_train, 'o')\n",
    "ax1.plot(X_test[:,0], y_pred, 'r.')\n",
    "ax1.set_xlabel('Age')\n",
    "ax1.set_ylabel('Price')\n",
    "ax1.set_title('Predictions and actual data')\n",
    "ax2.plot(np.arange(len(y_pred)), abs_error, 'x')\n",
    "ax2.set_title('The absolute error in the predictions')\n",
    "ax3.hist(abs_error)\n",
    "ax3.set_title('Distribution of the absolute error')\n",
    "plt.show()"
   ]
  },
  {
   "cell_type": "markdown",
   "id": "96c4704f-304d-4bd8-85ee-a67e9072a726",
   "metadata": {
    "heading_collapsed": true,
    "hidden": true,
    "tags": []
   },
   "source": [
    "### One hot encoding and feature scaling"
   ]
  },
  {
   "cell_type": "markdown",
   "id": "30df00f3-fa8c-4359-ab54-2cfbb8179eb3",
   "metadata": {
    "hidden": true
   },
   "source": [
    "Until now we have not encoded the feature FuelType, but before we can use this feature as input to a model or a dimensionality reduction we need to apply one hot encoding. \n",
    "Running the next cell will store an encoded version of the dataset in a new dataframe called `df_ohe`."
   ]
  },
  {
   "cell_type": "code",
   "execution_count": 38,
   "id": "4dc114c1-1d49-4254-bfac-b3e00be86878",
   "metadata": {
    "ExecuteTime": {
     "end_time": "2018-04-23T15:48:50.873331Z",
     "start_time": "2018-04-23T15:48:50.835201Z"
    },
    "collapsed": false,
    "hidden": true,
    "jupyter": {
     "outputs_hidden": false
    },
    "tags": []
   },
   "outputs": [],
   "source": [
    "df_ohe = df.drop(columns=['Type', 'Options', 'Color']).copy(deep=True)\n",
    "df_ohe['Fuel_Type'] = df_ohe['Fuel_Type'].astype('category')\n",
    "df_ohe = pd.get_dummies(df_ohe)"
   ]
  },
  {
   "cell_type": "markdown",
   "id": "ba57c56c-8a27-4da4-86b7-da2865a199f4",
   "metadata": {},
   "source": [
    "## TODO Remove options and type"
   ]
  },
  {
   "cell_type": "markdown",
   "id": "7ba69970-0fb6-4a43-a077-ee74cc8e32f3",
   "metadata": {
    "hidden": true
   },
   "source": [
    "__Exercise__: Print the first 15 rows of the encoded dataframe to see how FuelType is encoded"
   ]
  },
  {
   "cell_type": "code",
   "execution_count": 39,
   "id": "91e5e866-57ec-43e2-92c9-483a852a7aa0",
   "metadata": {
    "ExecuteTime": {
     "end_time": "2018-04-18T06:03:52.266684Z",
     "start_time": "2018-04-18T06:03:52.264678Z"
    },
    "collapsed": false,
    "hidden": true,
    "jupyter": {
     "outputs_hidden": false
    }
   },
   "outputs": [
    {
     "data": {
      "text/html": [
       "<div>\n",
       "<style scoped>\n",
       "    .dataframe tbody tr th:only-of-type {\n",
       "        vertical-align: middle;\n",
       "    }\n",
       "\n",
       "    .dataframe tbody tr th {\n",
       "        vertical-align: top;\n",
       "    }\n",
       "\n",
       "    .dataframe thead th {\n",
       "        text-align: right;\n",
       "    }\n",
       "</style>\n",
       "<table border=\"1\" class=\"dataframe\">\n",
       "  <thead>\n",
       "    <tr style=\"text-align: right;\">\n",
       "      <th></th>\n",
       "      <th>Year</th>\n",
       "      <th>Mileage</th>\n",
       "      <th>Price</th>\n",
       "      <th>Age</th>\n",
       "      <th>&gt;=70k</th>\n",
       "      <th>Make_Ford</th>\n",
       "      <th>Fuel_Type_Diesel</th>\n",
       "      <th>Fuel_Type_Gas</th>\n",
       "      <th>Fuel_Type_gas</th>\n",
       "    </tr>\n",
       "  </thead>\n",
       "  <tbody>\n",
       "    <tr>\n",
       "      <th>0</th>\n",
       "      <td>2013</td>\n",
       "      <td>348000</td>\n",
       "      <td>46200.0</td>\n",
       "      <td>105.775101</td>\n",
       "      <td>False</td>\n",
       "      <td>1</td>\n",
       "      <td>0</td>\n",
       "      <td>0</td>\n",
       "      <td>1</td>\n",
       "    </tr>\n",
       "    <tr>\n",
       "      <th>1</th>\n",
       "      <td>2018</td>\n",
       "      <td>82000</td>\n",
       "      <td>84750.0</td>\n",
       "      <td>61.085510</td>\n",
       "      <td>True</td>\n",
       "      <td>1</td>\n",
       "      <td>0</td>\n",
       "      <td>1</td>\n",
       "      <td>0</td>\n",
       "    </tr>\n",
       "    <tr>\n",
       "      <th>2</th>\n",
       "      <td>2016</td>\n",
       "      <td>104000</td>\n",
       "      <td>73400.0</td>\n",
       "      <td>73.109955</td>\n",
       "      <td>True</td>\n",
       "      <td>1</td>\n",
       "      <td>0</td>\n",
       "      <td>1</td>\n",
       "      <td>0</td>\n",
       "    </tr>\n",
       "    <tr>\n",
       "      <th>3</th>\n",
       "      <td>2016</td>\n",
       "      <td>93000</td>\n",
       "      <td>82900.0</td>\n",
       "      <td>69.732066</td>\n",
       "      <td>True</td>\n",
       "      <td>1</td>\n",
       "      <td>0</td>\n",
       "      <td>0</td>\n",
       "      <td>1</td>\n",
       "    </tr>\n",
       "    <tr>\n",
       "      <th>4</th>\n",
       "      <td>2017</td>\n",
       "      <td>34000</td>\n",
       "      <td>69425.0</td>\n",
       "      <td>78.988104</td>\n",
       "      <td>False</td>\n",
       "      <td>1</td>\n",
       "      <td>0</td>\n",
       "      <td>1</td>\n",
       "      <td>0</td>\n",
       "    </tr>\n",
       "    <tr>\n",
       "      <th>5</th>\n",
       "      <td>2018</td>\n",
       "      <td>100000</td>\n",
       "      <td>93050.0</td>\n",
       "      <td>63.875189</td>\n",
       "      <td>True</td>\n",
       "      <td>1</td>\n",
       "      <td>0</td>\n",
       "      <td>1</td>\n",
       "      <td>0</td>\n",
       "    </tr>\n",
       "    <tr>\n",
       "      <th>6</th>\n",
       "      <td>2015</td>\n",
       "      <td>103000</td>\n",
       "      <td>66650.0</td>\n",
       "      <td>104.909248</td>\n",
       "      <td>False</td>\n",
       "      <td>1</td>\n",
       "      <td>0</td>\n",
       "      <td>1</td>\n",
       "      <td>0</td>\n",
       "    </tr>\n",
       "    <tr>\n",
       "      <th>7</th>\n",
       "      <td>2016</td>\n",
       "      <td>136000</td>\n",
       "      <td>75250.0</td>\n",
       "      <td>56.913584</td>\n",
       "      <td>True</td>\n",
       "      <td>1</td>\n",
       "      <td>0</td>\n",
       "      <td>0</td>\n",
       "      <td>1</td>\n",
       "    </tr>\n",
       "    <tr>\n",
       "      <th>8</th>\n",
       "      <td>2012</td>\n",
       "      <td>352000</td>\n",
       "      <td>40150.0</td>\n",
       "      <td>140.714183</td>\n",
       "      <td>False</td>\n",
       "      <td>1</td>\n",
       "      <td>0</td>\n",
       "      <td>1</td>\n",
       "      <td>0</td>\n",
       "    </tr>\n",
       "    <tr>\n",
       "      <th>9</th>\n",
       "      <td>2016</td>\n",
       "      <td>112000</td>\n",
       "      <td>74000.0</td>\n",
       "      <td>101.785128</td>\n",
       "      <td>True</td>\n",
       "      <td>1</td>\n",
       "      <td>0</td>\n",
       "      <td>1</td>\n",
       "      <td>0</td>\n",
       "    </tr>\n",
       "    <tr>\n",
       "      <th>10</th>\n",
       "      <td>2018</td>\n",
       "      <td>71000</td>\n",
       "      <td>92450.0</td>\n",
       "      <td>106.399285</td>\n",
       "      <td>True</td>\n",
       "      <td>1</td>\n",
       "      <td>0</td>\n",
       "      <td>0</td>\n",
       "      <td>1</td>\n",
       "    </tr>\n",
       "    <tr>\n",
       "      <th>11</th>\n",
       "      <td>2012</td>\n",
       "      <td>277000</td>\n",
       "      <td>39750.0</td>\n",
       "      <td>127.989314</td>\n",
       "      <td>False</td>\n",
       "      <td>1</td>\n",
       "      <td>0</td>\n",
       "      <td>0</td>\n",
       "      <td>1</td>\n",
       "    </tr>\n",
       "    <tr>\n",
       "      <th>12</th>\n",
       "      <td>2019</td>\n",
       "      <td>49000</td>\n",
       "      <td>89375.0</td>\n",
       "      <td>49.783159</td>\n",
       "      <td>True</td>\n",
       "      <td>1</td>\n",
       "      <td>0</td>\n",
       "      <td>1</td>\n",
       "      <td>0</td>\n",
       "    </tr>\n",
       "    <tr>\n",
       "      <th>13</th>\n",
       "      <td>2013</td>\n",
       "      <td>235000</td>\n",
       "      <td>46200.0</td>\n",
       "      <td>119.596646</td>\n",
       "      <td>False</td>\n",
       "      <td>1</td>\n",
       "      <td>0</td>\n",
       "      <td>1</td>\n",
       "      <td>0</td>\n",
       "    </tr>\n",
       "    <tr>\n",
       "      <th>14</th>\n",
       "      <td>2017</td>\n",
       "      <td>110000</td>\n",
       "      <td>78175.0</td>\n",
       "      <td>104.457665</td>\n",
       "      <td>True</td>\n",
       "      <td>1</td>\n",
       "      <td>0</td>\n",
       "      <td>0</td>\n",
       "      <td>1</td>\n",
       "    </tr>\n",
       "  </tbody>\n",
       "</table>\n",
       "</div>"
      ],
      "text/plain": [
       "    Year  Mileage    Price         Age  >=70k  Make_Ford  Fuel_Type_Diesel  \\\n",
       "0   2013   348000  46200.0  105.775101  False          1                 0   \n",
       "1   2018    82000  84750.0   61.085510   True          1                 0   \n",
       "2   2016   104000  73400.0   73.109955   True          1                 0   \n",
       "3   2016    93000  82900.0   69.732066   True          1                 0   \n",
       "4   2017    34000  69425.0   78.988104  False          1                 0   \n",
       "5   2018   100000  93050.0   63.875189   True          1                 0   \n",
       "6   2015   103000  66650.0  104.909248  False          1                 0   \n",
       "7   2016   136000  75250.0   56.913584   True          1                 0   \n",
       "8   2012   352000  40150.0  140.714183  False          1                 0   \n",
       "9   2016   112000  74000.0  101.785128   True          1                 0   \n",
       "10  2018    71000  92450.0  106.399285   True          1                 0   \n",
       "11  2012   277000  39750.0  127.989314  False          1                 0   \n",
       "12  2019    49000  89375.0   49.783159   True          1                 0   \n",
       "13  2013   235000  46200.0  119.596646  False          1                 0   \n",
       "14  2017   110000  78175.0  104.457665   True          1                 0   \n",
       "\n",
       "    Fuel_Type_Gas  Fuel_Type_gas  \n",
       "0               0              1  \n",
       "1               1              0  \n",
       "2               1              0  \n",
       "3               0              1  \n",
       "4               1              0  \n",
       "5               1              0  \n",
       "6               1              0  \n",
       "7               0              1  \n",
       "8               1              0  \n",
       "9               1              0  \n",
       "10              0              1  \n",
       "11              0              1  \n",
       "12              1              0  \n",
       "13              1              0  \n",
       "14              0              1  "
      ]
     },
     "execution_count": 39,
     "metadata": {},
     "output_type": "execute_result"
    }
   ],
   "source": [
    "### Your code goes here\n",
    "df_ohe.head(15)"
   ]
  },
  {
   "cell_type": "markdown",
   "id": "71dbd9cc-bc8d-442a-9212-f92bdeb52504",
   "metadata": {
    "hidden": true
   },
   "source": [
    "To be prepared for any model in the modelling phase, we also make a scaled dataset.    \n",
    "The code below makes a new dataframe called `df_ohe_scaled` "
   ]
  },
  {
   "cell_type": "code",
   "execution_count": 40,
   "id": "a8068361-ec49-4996-b1c2-5e6eb999f4d7",
   "metadata": {
    "ExecuteTime": {
     "end_time": "2018-04-23T15:49:20.536029Z",
     "start_time": "2018-04-23T15:49:20.083770Z"
    },
    "collapsed": false,
    "hidden": true,
    "jupyter": {
     "outputs_hidden": false
    },
    "tags": []
   },
   "outputs": [],
   "source": [
    "from sklearn.preprocessing import StandardScaler\n",
    "scaler = StandardScaler()\n",
    "columns_to_scale = ['Year', 'Mileage']\n",
    "df_ohe_scaled = df_ohe.dropna().copy()\n",
    "df_ohe_scaled[columns_to_scale] = scaler.fit_transform(df_ohe.dropna()[columns_to_scale])"
   ]
  },
  {
   "cell_type": "markdown",
   "id": "e0fa9563-6d48-44cb-84cd-4de9648348ea",
   "metadata": {
    "hidden": true
   },
   "source": [
    "__Exercise__: Print the first 15 rows of the scaled dataframe to see that alle features are in the same range. "
   ]
  },
  {
   "cell_type": "code",
   "execution_count": 41,
   "id": "6e3584d2-41ec-4c0b-a86e-1dfd44345f67",
   "metadata": {
    "ExecuteTime": {
     "end_time": "2018-04-18T06:03:52.266684Z",
     "start_time": "2018-04-18T06:03:52.264678Z"
    },
    "collapsed": false,
    "hidden": true,
    "jupyter": {
     "outputs_hidden": false
    }
   },
   "outputs": [
    {
     "data": {
      "text/html": [
       "<div>\n",
       "<style scoped>\n",
       "    .dataframe tbody tr th:only-of-type {\n",
       "        vertical-align: middle;\n",
       "    }\n",
       "\n",
       "    .dataframe tbody tr th {\n",
       "        vertical-align: top;\n",
       "    }\n",
       "\n",
       "    .dataframe thead th {\n",
       "        text-align: right;\n",
       "    }\n",
       "</style>\n",
       "<table border=\"1\" class=\"dataframe\">\n",
       "  <thead>\n",
       "    <tr style=\"text-align: right;\">\n",
       "      <th></th>\n",
       "      <th>Year</th>\n",
       "      <th>Mileage</th>\n",
       "      <th>Price</th>\n",
       "      <th>Age</th>\n",
       "      <th>&gt;=70k</th>\n",
       "      <th>Make_Ford</th>\n",
       "      <th>Fuel_Type_Diesel</th>\n",
       "      <th>Fuel_Type_Gas</th>\n",
       "      <th>Fuel_Type_gas</th>\n",
       "    </tr>\n",
       "  </thead>\n",
       "  <tbody>\n",
       "    <tr>\n",
       "      <th>0</th>\n",
       "      <td>-0.141832</td>\n",
       "      <td>0.819304</td>\n",
       "      <td>46200.0</td>\n",
       "      <td>105.775101</td>\n",
       "      <td>False</td>\n",
       "      <td>1</td>\n",
       "      <td>0</td>\n",
       "      <td>0</td>\n",
       "      <td>1</td>\n",
       "    </tr>\n",
       "    <tr>\n",
       "      <th>1</th>\n",
       "      <td>1.039350</td>\n",
       "      <td>-0.348871</td>\n",
       "      <td>84750.0</td>\n",
       "      <td>61.085510</td>\n",
       "      <td>True</td>\n",
       "      <td>1</td>\n",
       "      <td>0</td>\n",
       "      <td>1</td>\n",
       "      <td>0</td>\n",
       "    </tr>\n",
       "    <tr>\n",
       "      <th>2</th>\n",
       "      <td>0.566877</td>\n",
       "      <td>-0.252255</td>\n",
       "      <td>73400.0</td>\n",
       "      <td>73.109955</td>\n",
       "      <td>True</td>\n",
       "      <td>1</td>\n",
       "      <td>0</td>\n",
       "      <td>1</td>\n",
       "      <td>0</td>\n",
       "    </tr>\n",
       "    <tr>\n",
       "      <th>3</th>\n",
       "      <td>0.566877</td>\n",
       "      <td>-0.300563</td>\n",
       "      <td>82900.0</td>\n",
       "      <td>69.732066</td>\n",
       "      <td>True</td>\n",
       "      <td>1</td>\n",
       "      <td>0</td>\n",
       "      <td>0</td>\n",
       "      <td>1</td>\n",
       "    </tr>\n",
       "    <tr>\n",
       "      <th>4</th>\n",
       "      <td>0.803113</td>\n",
       "      <td>-0.559670</td>\n",
       "      <td>69425.0</td>\n",
       "      <td>78.988104</td>\n",
       "      <td>False</td>\n",
       "      <td>1</td>\n",
       "      <td>0</td>\n",
       "      <td>1</td>\n",
       "      <td>0</td>\n",
       "    </tr>\n",
       "    <tr>\n",
       "      <th>5</th>\n",
       "      <td>1.039350</td>\n",
       "      <td>-0.269822</td>\n",
       "      <td>93050.0</td>\n",
       "      <td>63.875189</td>\n",
       "      <td>True</td>\n",
       "      <td>1</td>\n",
       "      <td>0</td>\n",
       "      <td>1</td>\n",
       "      <td>0</td>\n",
       "    </tr>\n",
       "    <tr>\n",
       "      <th>6</th>\n",
       "      <td>0.330641</td>\n",
       "      <td>-0.256647</td>\n",
       "      <td>66650.0</td>\n",
       "      <td>104.909248</td>\n",
       "      <td>False</td>\n",
       "      <td>1</td>\n",
       "      <td>0</td>\n",
       "      <td>1</td>\n",
       "      <td>0</td>\n",
       "    </tr>\n",
       "    <tr>\n",
       "      <th>7</th>\n",
       "      <td>0.566877</td>\n",
       "      <td>-0.111723</td>\n",
       "      <td>75250.0</td>\n",
       "      <td>56.913584</td>\n",
       "      <td>True</td>\n",
       "      <td>1</td>\n",
       "      <td>0</td>\n",
       "      <td>0</td>\n",
       "      <td>1</td>\n",
       "    </tr>\n",
       "    <tr>\n",
       "      <th>8</th>\n",
       "      <td>-0.378069</td>\n",
       "      <td>0.836870</td>\n",
       "      <td>40150.0</td>\n",
       "      <td>140.714183</td>\n",
       "      <td>False</td>\n",
       "      <td>1</td>\n",
       "      <td>0</td>\n",
       "      <td>1</td>\n",
       "      <td>0</td>\n",
       "    </tr>\n",
       "    <tr>\n",
       "      <th>9</th>\n",
       "      <td>0.566877</td>\n",
       "      <td>-0.217122</td>\n",
       "      <td>74000.0</td>\n",
       "      <td>101.785128</td>\n",
       "      <td>True</td>\n",
       "      <td>1</td>\n",
       "      <td>0</td>\n",
       "      <td>1</td>\n",
       "      <td>0</td>\n",
       "    </tr>\n",
       "    <tr>\n",
       "      <th>10</th>\n",
       "      <td>1.039350</td>\n",
       "      <td>-0.397179</td>\n",
       "      <td>92450.0</td>\n",
       "      <td>106.399285</td>\n",
       "      <td>True</td>\n",
       "      <td>1</td>\n",
       "      <td>0</td>\n",
       "      <td>0</td>\n",
       "      <td>1</td>\n",
       "    </tr>\n",
       "    <tr>\n",
       "      <th>11</th>\n",
       "      <td>-0.378069</td>\n",
       "      <td>0.507497</td>\n",
       "      <td>39750.0</td>\n",
       "      <td>127.989314</td>\n",
       "      <td>False</td>\n",
       "      <td>1</td>\n",
       "      <td>0</td>\n",
       "      <td>0</td>\n",
       "      <td>1</td>\n",
       "    </tr>\n",
       "    <tr>\n",
       "      <th>12</th>\n",
       "      <td>1.275586</td>\n",
       "      <td>-0.493795</td>\n",
       "      <td>89375.0</td>\n",
       "      <td>49.783159</td>\n",
       "      <td>True</td>\n",
       "      <td>1</td>\n",
       "      <td>0</td>\n",
       "      <td>1</td>\n",
       "      <td>0</td>\n",
       "    </tr>\n",
       "    <tr>\n",
       "      <th>13</th>\n",
       "      <td>-0.141832</td>\n",
       "      <td>0.323049</td>\n",
       "      <td>46200.0</td>\n",
       "      <td>119.596646</td>\n",
       "      <td>False</td>\n",
       "      <td>1</td>\n",
       "      <td>0</td>\n",
       "      <td>1</td>\n",
       "      <td>0</td>\n",
       "    </tr>\n",
       "    <tr>\n",
       "      <th>14</th>\n",
       "      <td>0.803113</td>\n",
       "      <td>-0.225906</td>\n",
       "      <td>78175.0</td>\n",
       "      <td>104.457665</td>\n",
       "      <td>True</td>\n",
       "      <td>1</td>\n",
       "      <td>0</td>\n",
       "      <td>0</td>\n",
       "      <td>1</td>\n",
       "    </tr>\n",
       "  </tbody>\n",
       "</table>\n",
       "</div>"
      ],
      "text/plain": [
       "        Year   Mileage    Price         Age  >=70k  Make_Ford  \\\n",
       "0  -0.141832  0.819304  46200.0  105.775101  False          1   \n",
       "1   1.039350 -0.348871  84750.0   61.085510   True          1   \n",
       "2   0.566877 -0.252255  73400.0   73.109955   True          1   \n",
       "3   0.566877 -0.300563  82900.0   69.732066   True          1   \n",
       "4   0.803113 -0.559670  69425.0   78.988104  False          1   \n",
       "5   1.039350 -0.269822  93050.0   63.875189   True          1   \n",
       "6   0.330641 -0.256647  66650.0  104.909248  False          1   \n",
       "7   0.566877 -0.111723  75250.0   56.913584   True          1   \n",
       "8  -0.378069  0.836870  40150.0  140.714183  False          1   \n",
       "9   0.566877 -0.217122  74000.0  101.785128   True          1   \n",
       "10  1.039350 -0.397179  92450.0  106.399285   True          1   \n",
       "11 -0.378069  0.507497  39750.0  127.989314  False          1   \n",
       "12  1.275586 -0.493795  89375.0   49.783159   True          1   \n",
       "13 -0.141832  0.323049  46200.0  119.596646  False          1   \n",
       "14  0.803113 -0.225906  78175.0  104.457665   True          1   \n",
       "\n",
       "    Fuel_Type_Diesel  Fuel_Type_Gas  Fuel_Type_gas  \n",
       "0                  0              0              1  \n",
       "1                  0              1              0  \n",
       "2                  0              1              0  \n",
       "3                  0              0              1  \n",
       "4                  0              1              0  \n",
       "5                  0              1              0  \n",
       "6                  0              1              0  \n",
       "7                  0              0              1  \n",
       "8                  0              1              0  \n",
       "9                  0              1              0  \n",
       "10                 0              0              1  \n",
       "11                 0              0              1  \n",
       "12                 0              1              0  \n",
       "13                 0              1              0  \n",
       "14                 0              0              1  "
      ]
     },
     "execution_count": 41,
     "metadata": {},
     "output_type": "execute_result"
    }
   ],
   "source": [
    "### Your code goes here\n",
    "df_ohe_scaled.head(15)"
   ]
  },
  {
   "cell_type": "markdown",
   "id": "7ee00534-8734-41a4-a0a7-b4fb370e0c85",
   "metadata": {},
   "source": [
    "### Classification "
   ]
  },
  {
   "cell_type": "code",
   "execution_count": 42,
   "id": "8bc1a9b5-6afa-4473-b8a3-6e7b150aabb2",
   "metadata": {
    "tags": []
   },
   "outputs": [
    {
     "data": {
      "image/png": "[encoded data removed]",
      "text/plain": [
       "<Figure size 640x480 with 2 Axes>"
      ]
     },
     "metadata": {},
     "output_type": "display_data"
    }
   ],
   "source": [
    "from sklearn.linear_model import LinearRegression\n",
    "from sklearn.model_selection import train_test_split\n",
    "from sklearn.ensemble import RandomForestClassifier\n",
    "from sklearn.metrics import confusion_matrix, ConfusionMatrixDisplay\n",
    "\n",
    "#Based on the scatter plots it seems like Age is the single most important feature\n",
    "features = df_ohe.columns\n",
    "\n",
    "# Create train and test data\n",
    "X = df_ohe[['Mileage']].values\n",
    "y = df_ohe['>=70k'].values\n",
    "\n",
    "X_train, X_test, y_train, y_test = train_test_split(X, y, random_state=0)\n",
    "\n",
    "# Initialize linear regressor model\n",
    "# 'Train' the model\n",
    "# Predict price based on data in test - set\n",
    "# LinReg = RandomForestRegressor(n_estimators=10)\n",
    "rf = RandomForestClassifier()\n",
    "rf.fit(X_train, y_train)\n",
    "y_pred = rf.predict(X_test)\n",
    "\n",
    "\n",
    "cm = confusion_matrix(y_test, y_pred, labels=rf.classes_)\n",
    "disp = ConfusionMatrixDisplay(confusion_matrix=cm, display_labels=rf.classes_)\n",
    "disp.plot()\n",
    "plt.show()"
   ]
  },
  {
   "cell_type": "code",
   "execution_count": null,
   "id": "46dfbf0b-0ca3-4615-9d73-38f3f22fe8d2",
   "metadata": {},
   "outputs": [],
   "source": []
  },
  {
   "cell_type": "markdown",
   "id": "12261989-69f0-433c-933a-ab724cff6d78",
   "metadata": {
    "tags": []
   },
   "source": [
    "<br>\n",
    "<br>\n",
    "<br>\n",
    "<br>\n",
    "<div style=\"text-align: center; font-family: Arial; font-size: 2em;\">كده نكون وصلنا لنهاية رحلة اكتشاف البيانات وتطوير نماذج تعلم الآلة، إن شاء الله كانت ممتعة واستفدوا منها الشي الكثير 🎉🎉🎉🎉</div>"
   ]
  },
  {
   "cell_type": "code",
   "execution_count": null,
   "id": "fb1d471c-f828-4b0a-b125-0dc34ae1cf26",
   "metadata": {},
   "outputs": [],
   "source": []
  }
 ],
 "metadata": {
  "kernelspec": {
   "display_name": "Python 3 (ipykernel)",
   "language": "python",
   "name": "python3"
  },
  "language_info": {
   "codemirror_mode": {
    "name": "ipython",
    "version": 3
   },
   "file_extension": ".py",
   "mimetype": "text/x-python",
   "name": "python",
   "nbconvert_exporter": "python",
   "pygments_lexer": "ipython3",
   "version": "3.8.16"
  }
 },
 "nbformat": 4,
 "nbformat_minor": 5
}
