{
 "cells": [
  {
   "cell_type": "markdown",
   "id": "6606cdb4-6359-4817-bbd0-f347dfdf4c5b",
   "metadata": {},
   "source": [
    "<p>\n",
    "  <center><img src=\"../assets/thakaa_logo.png\" width=\"500\" height=\"300\"></center>\n",
    "</p>\n",
    "\n",
    "<p>\n",
    "<br>\n",
    "  <center><img src=\"../assets/artwork.png\" width=\"600\" height=\"300\"></center>\n",
    "</p>\n",
    "<br>\n",
    "<h1 style='text-align: center;'> سلسلة معسكرات ذكاء: المعسكر الثاني | استكشاف وتحليل البيانات وأساسيات تعلم الآلة </h1>\n",
    "<!-- <font size=\"+2\" style='text-align: center;'> تعلّم كيف تكتشف البيانات وتطوّر نماذج تعلّم الآلة </h2> -->\n",
    "<div style=\"text-align: center; font-family: Arial; font-size: 2em;\">تعلّم كيف تكتشف البيانات وتطوّر نماذج تعلّم الآلة</div>"
   ]
  },
  {
   "cell_type": "markdown",
   "id": "bdddfc34-2b53-45ce-b914-b17f415b3a7f",
   "metadata": {
    "tags": []
   },
   "source": [
    "<h2 style=\"text-align: left;\"> 📚 استيراد المكتبات</h2>"
   ]
  },
  {
   "cell_type": "markdown",
   "id": "b4edb2a4-fc4c-4976-968c-ae90418f9389",
   "metadata": {},
   "source": [
    "الشيء الأول اللي حنسويه هو إننا نجيب المكتبات اللي حنحتاجها في هذا النوتبوك \n",
    "\n",
    "هذه هي المكتبات اللي حنحتاجها في مرحلة اكتشاف البيانات\n",
    "\n",
    "* __numpy__: The number one library for scientific computing in python\n",
    "* __pandas__: Allows us to work with structured data effectively\n",
    "* __matplotlib__: 2D plotting library\n",
    "* __seaborn__: Statistical data visualization based on matplotlib"
   ]
  },
  {
   "cell_type": "code",
   "execution_count": 1,
   "id": "97a37313-9686-4d4e-8913-8d9251dd6b03",
   "metadata": {
    "tags": []
   },
   "outputs": [],
   "source": [
    "import sys\n",
    "\n",
    "sys.path.append('../')\n",
    "\n",
    "%load_ext autoreload\n",
    "%autoreload 2"
   ]
  },
  {
   "cell_type": "code",
   "execution_count": 2,
   "id": "d281a8fd-f6d4-4227-b36d-e2259f3d8bf5",
   "metadata": {
    "tags": []
   },
   "outputs": [],
   "source": [
    "import numpy as np\n",
    "import pandas as pd\n",
    "import matplotlib.pyplot as plt\n",
    "import seaborn as sns\n",
    "from utils import *\n",
    "from processing import *"
   ]
  },
  {
   "cell_type": "markdown",
   "id": "9a8676c7-dfac-42f2-9497-74c1c8df2298",
   "metadata": {
    "tags": []
   },
   "source": [
    "<h2 style=\"text-align: left;\">🚗 تحميل البيانات</h2>"
   ]
  },
  {
   "cell_type": "markdown",
   "id": "bebfde96-2d19-4421-975e-35bb2d0bcf2c",
   "metadata": {
    "tags": []
   },
   "source": [
    "Our dataset is stored in a comma separated file (CSV-file), and in order to work efficiently with the data we use the Pandas library we imported as pd above. Pandas is a data tool for Python, where data is represented by a DataFrame: a table of structured data similar to an Excel-sheet. You can think of a DataFrame as both a SQL table and a spreadsheet where you have columns with column names and rows with indexes.\n",
    "\n",
    "We will use Pandas a lot during this lab since it is a good and very popular tool for structured data. We have made an effort to explain every function/method or attribute you need, but you are still encouraged to use the documentation provided by Pandas if needed:\n",
    "\n",
    "https://pandas.pydata.org/pandas-docs/stable/index.html# (or ask us!)\n",
    "\n",
    "Another recommended resource for learning some Pandas is \"Kaggle Learn\" and their Pandas module (www.kaggle.com)"
   ]
  },
  {
   "cell_type": "code",
   "execution_count": 3,
   "id": "1d56e982-6825-4446-b06f-22ad01fa58b6",
   "metadata": {
    "tags": []
   },
   "outputs": [
    {
     "data": {
      "text/html": [
       "<div>\n",
       "<style scoped>\n",
       "    .dataframe tbody tr th:only-of-type {\n",
       "        vertical-align: middle;\n",
       "    }\n",
       "\n",
       "    .dataframe tbody tr th {\n",
       "        vertical-align: top;\n",
       "    }\n",
       "\n",
       "    .dataframe thead th {\n",
       "        text-align: right;\n",
       "    }\n",
       "</style>\n",
       "<table border=\"1\" class=\"dataframe\">\n",
       "  <thead>\n",
       "    <tr style=\"text-align: right;\">\n",
       "      <th></th>\n",
       "      <th>Make</th>\n",
       "      <th>Year</th>\n",
       "      <th>Color</th>\n",
       "      <th>Options</th>\n",
       "      <th>Engine_Size</th>\n",
       "      <th>Fuel_Type</th>\n",
       "      <th>Mileage</th>\n",
       "      <th>Price</th>\n",
       "      <th>Type</th>\n",
       "    </tr>\n",
       "  </thead>\n",
       "  <tbody>\n",
       "    <tr>\n",
       "      <th>0</th>\n",
       "      <td>Chrysler</td>\n",
       "      <td>2018</td>\n",
       "      <td>Black</td>\n",
       "      <td>Full</td>\n",
       "      <td>5.7</td>\n",
       "      <td>Gas</td>\n",
       "      <td>103000</td>\n",
       "      <td>114000</td>\n",
       "      <td>C300</td>\n",
       "    </tr>\n",
       "    <tr>\n",
       "      <th>1</th>\n",
       "      <td>Nissan</td>\n",
       "      <td>2019</td>\n",
       "      <td>Silver</td>\n",
       "      <td>Standard</td>\n",
       "      <td>1.5</td>\n",
       "      <td>Gas</td>\n",
       "      <td>72418</td>\n",
       "      <td>27500</td>\n",
       "      <td>Sunny</td>\n",
       "    </tr>\n",
       "    <tr>\n",
       "      <th>2</th>\n",
       "      <td>Hyundai</td>\n",
       "      <td>2019</td>\n",
       "      <td>Grey</td>\n",
       "      <td>Standard</td>\n",
       "      <td>1.6</td>\n",
       "      <td>gas</td>\n",
       "      <td>114154</td>\n",
       "      <td>43000</td>\n",
       "      <td>Elantra</td>\n",
       "    </tr>\n",
       "    <tr>\n",
       "      <th>3</th>\n",
       "      <td>Hyundai</td>\n",
       "      <td>2019</td>\n",
       "      <td>Silver</td>\n",
       "      <td>Semi Full</td>\n",
       "      <td>2.0</td>\n",
       "      <td>Gas</td>\n",
       "      <td>41912</td>\n",
       "      <td>59500</td>\n",
       "      <td>Elantra</td>\n",
       "    </tr>\n",
       "    <tr>\n",
       "      <th>4</th>\n",
       "      <td>Honda</td>\n",
       "      <td>2018</td>\n",
       "      <td>Navy</td>\n",
       "      <td>Full</td>\n",
       "      <td>1.5</td>\n",
       "      <td>gas</td>\n",
       "      <td>39000</td>\n",
       "      <td>72000</td>\n",
       "      <td>Accord</td>\n",
       "    </tr>\n",
       "  </tbody>\n",
       "</table>\n",
       "</div>"
      ],
      "text/plain": [
       "       Make  Year   Color    Options  Engine_Size Fuel_Type  Mileage   Price  \\\n",
       "0  Chrysler  2018   Black       Full          5.7       Gas   103000  114000   \n",
       "1    Nissan  2019  Silver   Standard          1.5       Gas    72418   27500   \n",
       "2   Hyundai  2019    Grey   Standard          1.6       gas   114154   43000   \n",
       "3   Hyundai  2019  Silver  Semi Full          2.0       Gas    41912   59500   \n",
       "4     Honda  2018    Navy       Full          1.5       gas    39000   72000   \n",
       "\n",
       "      Type  \n",
       "0     C300  \n",
       "1    Sunny  \n",
       "2  Elantra  \n",
       "3  Elantra  \n",
       "4   Accord  "
      ]
     },
     "execution_count": 3,
     "metadata": {},
     "output_type": "execute_result"
    }
   ],
   "source": [
    "# Load the dataset from the CSV-file into a Pandas dataframe and assign it to a new variable called \"df\"\n",
    "df = read_saudi_arabia_used_cars_dataset()\n",
    "df.head()"
   ]
  },
  {
   "cell_type": "code",
   "execution_count": 4,
   "id": "ad6a9e14-e707-4930-96be-fc802d928f87",
   "metadata": {
    "tags": []
   },
   "outputs": [
    {
     "name": "stdout",
     "output_type": "stream",
     "text": [
      "<class 'pandas.core.frame.DataFrame'>\n",
      "RangeIndex: 5652 entries, 0 to 5651\n",
      "Data columns (total 9 columns):\n",
      " #   Column       Non-Null Count  Dtype  \n",
      "---  ------       --------------  -----  \n",
      " 0   Make         5652 non-null   object \n",
      " 1   Year         5652 non-null   int64  \n",
      " 2   Color        5652 non-null   object \n",
      " 3   Options      5611 non-null   object \n",
      " 4   Engine_Size  4425 non-null   float64\n",
      " 5   Fuel_Type    5652 non-null   object \n",
      " 6   Mileage      5652 non-null   int64  \n",
      " 7   Price        5652 non-null   int64  \n",
      " 8   Type         5652 non-null   object \n",
      "dtypes: float64(1), int64(3), object(5)\n",
      "memory usage: 1.9 MB\n"
     ]
    }
   ],
   "source": [
    "df.info(memory_usage=\"deep\")"
   ]
  },
  {
   "cell_type": "markdown",
   "id": "5819c4e6-576f-45a9-9d4d-6635d619bcde",
   "metadata": {
    "tags": []
   },
   "source": [
    "<h2 style=\"text-align: left;\"> 👀 ألقِ نظرة أولى على البيانات</h2>"
   ]
  },
  {
   "cell_type": "code",
   "execution_count": 5,
   "id": "f4e5a61b-70fa-4fa4-abb7-ff6ad90025b4",
   "metadata": {
    "tags": []
   },
   "outputs": [
    {
     "data": {
      "text/html": [
       "<div>\n",
       "<style scoped>\n",
       "    .dataframe tbody tr th:only-of-type {\n",
       "        vertical-align: middle;\n",
       "    }\n",
       "\n",
       "    .dataframe tbody tr th {\n",
       "        vertical-align: top;\n",
       "    }\n",
       "\n",
       "    .dataframe thead th {\n",
       "        text-align: right;\n",
       "    }\n",
       "</style>\n",
       "<table border=\"1\" class=\"dataframe\">\n",
       "  <thead>\n",
       "    <tr style=\"text-align: right;\">\n",
       "      <th></th>\n",
       "      <th>Make</th>\n",
       "      <th>Year</th>\n",
       "      <th>Color</th>\n",
       "      <th>Options</th>\n",
       "      <th>Engine_Size</th>\n",
       "      <th>Fuel_Type</th>\n",
       "      <th>Mileage</th>\n",
       "      <th>Price</th>\n",
       "      <th>Type</th>\n",
       "    </tr>\n",
       "  </thead>\n",
       "  <tbody>\n",
       "    <tr>\n",
       "      <th>0</th>\n",
       "      <td>Chrysler</td>\n",
       "      <td>2018</td>\n",
       "      <td>Black</td>\n",
       "      <td>Full</td>\n",
       "      <td>5.7</td>\n",
       "      <td>Gas</td>\n",
       "      <td>103000</td>\n",
       "      <td>114000</td>\n",
       "      <td>C300</td>\n",
       "    </tr>\n",
       "    <tr>\n",
       "      <th>1</th>\n",
       "      <td>Nissan</td>\n",
       "      <td>2019</td>\n",
       "      <td>Silver</td>\n",
       "      <td>Standard</td>\n",
       "      <td>1.5</td>\n",
       "      <td>Gas</td>\n",
       "      <td>72418</td>\n",
       "      <td>27500</td>\n",
       "      <td>Sunny</td>\n",
       "    </tr>\n",
       "    <tr>\n",
       "      <th>2</th>\n",
       "      <td>Hyundai</td>\n",
       "      <td>2019</td>\n",
       "      <td>Grey</td>\n",
       "      <td>Standard</td>\n",
       "      <td>1.6</td>\n",
       "      <td>gas</td>\n",
       "      <td>114154</td>\n",
       "      <td>43000</td>\n",
       "      <td>Elantra</td>\n",
       "    </tr>\n",
       "    <tr>\n",
       "      <th>3</th>\n",
       "      <td>Hyundai</td>\n",
       "      <td>2019</td>\n",
       "      <td>Silver</td>\n",
       "      <td>Semi Full</td>\n",
       "      <td>2.0</td>\n",
       "      <td>Gas</td>\n",
       "      <td>41912</td>\n",
       "      <td>59500</td>\n",
       "      <td>Elantra</td>\n",
       "    </tr>\n",
       "    <tr>\n",
       "      <th>4</th>\n",
       "      <td>Honda</td>\n",
       "      <td>2018</td>\n",
       "      <td>Navy</td>\n",
       "      <td>Full</td>\n",
       "      <td>1.5</td>\n",
       "      <td>gas</td>\n",
       "      <td>39000</td>\n",
       "      <td>72000</td>\n",
       "      <td>Accord</td>\n",
       "    </tr>\n",
       "    <tr>\n",
       "      <th>5</th>\n",
       "      <td>Toyota</td>\n",
       "      <td>2011</td>\n",
       "      <td>White</td>\n",
       "      <td>Semi Full</td>\n",
       "      <td>4.5</td>\n",
       "      <td>Gas</td>\n",
       "      <td>183000</td>\n",
       "      <td>92000</td>\n",
       "      <td>Land Cruiser</td>\n",
       "    </tr>\n",
       "    <tr>\n",
       "      <th>6</th>\n",
       "      <td>Chevrolet</td>\n",
       "      <td>2019</td>\n",
       "      <td>Black</td>\n",
       "      <td>Standard</td>\n",
       "      <td>3.6</td>\n",
       "      <td>Gas</td>\n",
       "      <td>70000</td>\n",
       "      <td>80000</td>\n",
       "      <td>Impala</td>\n",
       "    </tr>\n",
       "    <tr>\n",
       "      <th>7</th>\n",
       "      <td>Toyota</td>\n",
       "      <td>2018</td>\n",
       "      <td>White</td>\n",
       "      <td>Standard</td>\n",
       "      <td>1.5</td>\n",
       "      <td>gas</td>\n",
       "      <td>131000</td>\n",
       "      <td>32000</td>\n",
       "      <td>Yaris</td>\n",
       "    </tr>\n",
       "    <tr>\n",
       "      <th>8</th>\n",
       "      <td>Toyota</td>\n",
       "      <td>2017</td>\n",
       "      <td>White</td>\n",
       "      <td>Standard</td>\n",
       "      <td>2.5</td>\n",
       "      <td>Gas</td>\n",
       "      <td>107000</td>\n",
       "      <td>50000</td>\n",
       "      <td>Camry</td>\n",
       "    </tr>\n",
       "    <tr>\n",
       "      <th>9</th>\n",
       "      <td>Nissan</td>\n",
       "      <td>2014</td>\n",
       "      <td>White</td>\n",
       "      <td>Full</td>\n",
       "      <td>5.6</td>\n",
       "      <td>Gas</td>\n",
       "      <td>106000</td>\n",
       "      <td>135000</td>\n",
       "      <td>Patrol</td>\n",
       "    </tr>\n",
       "  </tbody>\n",
       "</table>\n",
       "</div>"
      ],
      "text/plain": [
       "        Make  Year   Color    Options  Engine_Size Fuel_Type  Mileage   Price  \\\n",
       "0   Chrysler  2018   Black       Full          5.7       Gas   103000  114000   \n",
       "1     Nissan  2019  Silver   Standard          1.5       Gas    72418   27500   \n",
       "2    Hyundai  2019    Grey   Standard          1.6       gas   114154   43000   \n",
       "3    Hyundai  2019  Silver  Semi Full          2.0       Gas    41912   59500   \n",
       "4      Honda  2018    Navy       Full          1.5       gas    39000   72000   \n",
       "5     Toyota  2011   White  Semi Full          4.5       Gas   183000   92000   \n",
       "6  Chevrolet  2019   Black   Standard          3.6       Gas    70000   80000   \n",
       "7     Toyota  2018   White   Standard          1.5       gas   131000   32000   \n",
       "8     Toyota  2017   White   Standard          2.5       Gas   107000   50000   \n",
       "9     Nissan  2014   White       Full          5.6       Gas   106000  135000   \n",
       "\n",
       "           Type  \n",
       "0          C300  \n",
       "1         Sunny  \n",
       "2       Elantra  \n",
       "3       Elantra  \n",
       "4        Accord  \n",
       "5  Land Cruiser  \n",
       "6        Impala  \n",
       "7         Yaris  \n",
       "8         Camry  \n",
       "9        Patrol  "
      ]
     },
     "execution_count": 5,
     "metadata": {},
     "output_type": "execute_result"
    }
   ],
   "source": [
    "# Your code goes here\n",
    "df.head(10)"
   ]
  },
  {
   "cell_type": "markdown",
   "id": "8ff61894-c01f-423c-aaa2-f15e53560d2d",
   "metadata": {
    "tags": []
   },
   "source": [
    "You can also display the end of the `DataFrame` by using the method `tail`. \n",
    "​\n",
    "```python\n",
    "<name of dataframe>.tail(n=7)   \n",
    "```\n",
    "\n",
    "<h3 style=\"text-align: left;\"><b>تمرين:</b> اطبع آخر ثمانية صفوف من بيانات السيارات المستعملة 📝</h3>"
   ]
  },
  {
   "cell_type": "code",
   "execution_count": 6,
   "id": "24ebcfa6-41d3-4ae2-9065-f91acc482fc9",
   "metadata": {
    "tags": []
   },
   "outputs": [
    {
     "data": {
      "text/plain": [
       "Toyota        1287\n",
       "Hyundai        730\n",
       "Ford           525\n",
       "Chevrolet      441\n",
       "Nissan         364\n",
       "Kia            270\n",
       "Mercedes       268\n",
       "GMC            254\n",
       "Lexus          238\n",
       "Mazda          145\n",
       "Honda          142\n",
       "Mitsubishi      98\n",
       "BMW             93\n",
       "Dodge           88\n",
       "Land Rover      77\n",
       "Jeep            57\n",
       "Chrysler        48\n",
       "Genesis         46\n",
       "Cadillac        40\n",
       "Audi            39\n",
       "Name: Make, dtype: int64"
      ]
     },
     "execution_count": 6,
     "metadata": {},
     "output_type": "execute_result"
    }
   ],
   "source": [
    "df['Make'].value_counts().head(20)"
   ]
  },
  {
   "cell_type": "code",
   "execution_count": 7,
   "id": "9fbde174-e710-41de-abb8-8d5a7edec99b",
   "metadata": {
    "tags": []
   },
   "outputs": [
    {
     "data": {
      "text/html": [
       "<div>\n",
       "<style scoped>\n",
       "    .dataframe tbody tr th:only-of-type {\n",
       "        vertical-align: middle;\n",
       "    }\n",
       "\n",
       "    .dataframe tbody tr th {\n",
       "        vertical-align: top;\n",
       "    }\n",
       "\n",
       "    .dataframe thead th {\n",
       "        text-align: right;\n",
       "    }\n",
       "</style>\n",
       "<table border=\"1\" class=\"dataframe\">\n",
       "  <thead>\n",
       "    <tr style=\"text-align: right;\">\n",
       "      <th></th>\n",
       "      <th>Make</th>\n",
       "      <th>Year</th>\n",
       "      <th>Color</th>\n",
       "      <th>Options</th>\n",
       "      <th>Engine_Size</th>\n",
       "      <th>Fuel_Type</th>\n",
       "      <th>Mileage</th>\n",
       "      <th>Price</th>\n",
       "      <th>Type</th>\n",
       "    </tr>\n",
       "  </thead>\n",
       "  <tbody>\n",
       "    <tr>\n",
       "      <th>5644</th>\n",
       "      <td>Mitsubishi</td>\n",
       "      <td>2009</td>\n",
       "      <td>Grey</td>\n",
       "      <td>Standard</td>\n",
       "      <td>1.6</td>\n",
       "      <td>gas</td>\n",
       "      <td>222835</td>\n",
       "      <td>11500</td>\n",
       "      <td>Lancer</td>\n",
       "    </tr>\n",
       "    <tr>\n",
       "      <th>5645</th>\n",
       "      <td>Ford</td>\n",
       "      <td>2013</td>\n",
       "      <td>Black</td>\n",
       "      <td>Standard</td>\n",
       "      <td>6.0</td>\n",
       "      <td>Gas</td>\n",
       "      <td>277000</td>\n",
       "      <td>30000</td>\n",
       "      <td>Edge</td>\n",
       "    </tr>\n",
       "    <tr>\n",
       "      <th>5646</th>\n",
       "      <td>Kia</td>\n",
       "      <td>2012</td>\n",
       "      <td>Black</td>\n",
       "      <td>Standard</td>\n",
       "      <td>3.6</td>\n",
       "      <td>Gas</td>\n",
       "      <td>147000</td>\n",
       "      <td>25000</td>\n",
       "      <td>Cadenza</td>\n",
       "    </tr>\n",
       "    <tr>\n",
       "      <th>5647</th>\n",
       "      <td>Kia</td>\n",
       "      <td>2006</td>\n",
       "      <td>Navy</td>\n",
       "      <td>Full</td>\n",
       "      <td>3.5</td>\n",
       "      <td>gas</td>\n",
       "      <td>257000</td>\n",
       "      <td>15000</td>\n",
       "      <td>Sorento</td>\n",
       "    </tr>\n",
       "    <tr>\n",
       "      <th>5648</th>\n",
       "      <td>Audi</td>\n",
       "      <td>2015</td>\n",
       "      <td>Silver</td>\n",
       "      <td>Full</td>\n",
       "      <td>NaN</td>\n",
       "      <td>Gas</td>\n",
       "      <td>77000</td>\n",
       "      <td>75000</td>\n",
       "      <td>A6</td>\n",
       "    </tr>\n",
       "    <tr>\n",
       "      <th>5649</th>\n",
       "      <td>Chevrolet</td>\n",
       "      <td>2010</td>\n",
       "      <td>Silver</td>\n",
       "      <td>Full</td>\n",
       "      <td>NaN</td>\n",
       "      <td>gas</td>\n",
       "      <td>150000</td>\n",
       "      <td>53000</td>\n",
       "      <td>Camaro</td>\n",
       "    </tr>\n",
       "    <tr>\n",
       "      <th>5650</th>\n",
       "      <td>Nissan</td>\n",
       "      <td>2011</td>\n",
       "      <td>Silver</td>\n",
       "      <td>Full</td>\n",
       "      <td>2.5</td>\n",
       "      <td>Gas</td>\n",
       "      <td>18500</td>\n",
       "      <td>22000</td>\n",
       "      <td>Altima</td>\n",
       "    </tr>\n",
       "    <tr>\n",
       "      <th>5651</th>\n",
       "      <td>Cadillac</td>\n",
       "      <td>2013</td>\n",
       "      <td>White</td>\n",
       "      <td>Full</td>\n",
       "      <td>3.6</td>\n",
       "      <td>gas</td>\n",
       "      <td>256000</td>\n",
       "      <td>40000</td>\n",
       "      <td>Other</td>\n",
       "    </tr>\n",
       "  </tbody>\n",
       "</table>\n",
       "</div>"
      ],
      "text/plain": [
       "            Make  Year   Color   Options  Engine_Size Fuel_Type  Mileage  \\\n",
       "5644  Mitsubishi  2009    Grey  Standard          1.6       gas   222835   \n",
       "5645        Ford  2013   Black  Standard          6.0       Gas   277000   \n",
       "5646         Kia  2012   Black  Standard          3.6       Gas   147000   \n",
       "5647         Kia  2006    Navy      Full          3.5       gas   257000   \n",
       "5648        Audi  2015  Silver      Full          NaN       Gas    77000   \n",
       "5649   Chevrolet  2010  Silver      Full          NaN       gas   150000   \n",
       "5650      Nissan  2011  Silver      Full          2.5       Gas    18500   \n",
       "5651    Cadillac  2013   White      Full          3.6       gas   256000   \n",
       "\n",
       "      Price     Type  \n",
       "5644  11500   Lancer  \n",
       "5645  30000     Edge  \n",
       "5646  25000  Cadenza  \n",
       "5647  15000  Sorento  \n",
       "5648  75000       A6  \n",
       "5649  53000   Camaro  \n",
       "5650  22000   Altima  \n",
       "5651  40000    Other  "
      ]
     },
     "execution_count": 7,
     "metadata": {},
     "output_type": "execute_result"
    }
   ],
   "source": [
    "# Your code goes here\n",
    "df.tail(8)"
   ]
  },
  {
   "cell_type": "markdown",
   "id": "4837da88-4281-4a11-bb4a-b814c40ccc44",
   "metadata": {},
   "source": [
    "Now that you have looked at the dataset you probably have a good understanding of each feature/column.   \n",
    "But to make sure that we have a common understanding we list the columns and their measurement unit. \n",
    "\n",
    "* Make: الماركة\n",
    "* Type: النوع\n",
    "* Year: الموديل\n",
    "* Origin: الوارد\n",
    "* Color: اللون الخارجي\n",
    "* Options: Full or standard\n",
    "* Engine_Size: حجم المحرك باللتر\n",
    "* Fuel_type: نوع الوقود\n",
    "* Gear_Type: نوع القير\n",
    "* Mileage: الممشى بالكيلومتر\n",
    "* Region: المنطقة\n",
    "* Price: السعر بالريال السعودي\n",
    "* Negotiable: إذا كانت على السوم أو لا\n"
   ]
  },
  {
   "cell_type": "markdown",
   "id": "4380ca0b-f68e-4a64-8d49-e048f9561ee0",
   "metadata": {
    "tags": []
   },
   "source": [
    "<h3 style=\"text-align: left;\"> 🧮 اعرض بعض الإحصاءات والخصائص للبيانات</h3>"
   ]
  },
  {
   "cell_type": "code",
   "execution_count": 8,
   "id": "7d73db5b-5ce5-4cef-b53b-8b9afc65583a",
   "metadata": {
    "ExecuteTime": {
     "end_time": "2018-04-18T05:14:18.585008Z",
     "start_time": "2018-04-18T05:14:18.549946Z"
    },
    "collapsed": false,
    "hidden": true,
    "jupyter": {
     "outputs_hidden": false
    }
   },
   "outputs": [
    {
     "data": {
      "text/html": [
       "<div>\n",
       "<style scoped>\n",
       "    .dataframe tbody tr th:only-of-type {\n",
       "        vertical-align: middle;\n",
       "    }\n",
       "\n",
       "    .dataframe tbody tr th {\n",
       "        vertical-align: top;\n",
       "    }\n",
       "\n",
       "    .dataframe thead th {\n",
       "        text-align: right;\n",
       "    }\n",
       "</style>\n",
       "<table border=\"1\" class=\"dataframe\">\n",
       "  <thead>\n",
       "    <tr style=\"text-align: right;\">\n",
       "      <th></th>\n",
       "      <th>Year</th>\n",
       "      <th>Engine_Size</th>\n",
       "      <th>Mileage</th>\n",
       "      <th>Price</th>\n",
       "    </tr>\n",
       "  </thead>\n",
       "  <tbody>\n",
       "    <tr>\n",
       "      <th>count</th>\n",
       "      <td>5652.00</td>\n",
       "      <td>4425.00</td>\n",
       "      <td>5652.00</td>\n",
       "      <td>5652.00</td>\n",
       "    </tr>\n",
       "    <tr>\n",
       "      <th>mean</th>\n",
       "      <td>2014.79</td>\n",
       "      <td>3.09</td>\n",
       "      <td>140108.21</td>\n",
       "      <td>78536.59</td>\n",
       "    </tr>\n",
       "    <tr>\n",
       "      <th>std</th>\n",
       "      <td>5.22</td>\n",
       "      <td>1.49</td>\n",
       "      <td>334045.08</td>\n",
       "      <td>76073.74</td>\n",
       "    </tr>\n",
       "    <tr>\n",
       "      <th>min</th>\n",
       "      <td>1963.00</td>\n",
       "      <td>1.00</td>\n",
       "      <td>100.00</td>\n",
       "      <td>0.00</td>\n",
       "    </tr>\n",
       "    <tr>\n",
       "      <th>25%</th>\n",
       "      <td>2013.00</td>\n",
       "      <td>2.00</td>\n",
       "      <td>46484.50</td>\n",
       "      <td>35000.00</td>\n",
       "    </tr>\n",
       "    <tr>\n",
       "      <th>50%</th>\n",
       "      <td>2016.00</td>\n",
       "      <td>2.70</td>\n",
       "      <td>101000.00</td>\n",
       "      <td>58000.00</td>\n",
       "    </tr>\n",
       "    <tr>\n",
       "      <th>75%</th>\n",
       "      <td>2018.00</td>\n",
       "      <td>4.00</td>\n",
       "      <td>181000.00</td>\n",
       "      <td>95000.00</td>\n",
       "    </tr>\n",
       "    <tr>\n",
       "      <th>max</th>\n",
       "      <td>2021.00</td>\n",
       "      <td>9.00</td>\n",
       "      <td>20000000.00</td>\n",
       "      <td>1150000.00</td>\n",
       "    </tr>\n",
       "  </tbody>\n",
       "</table>\n",
       "</div>"
      ],
      "text/plain": [
       "          Year  Engine_Size      Mileage       Price\n",
       "count  5652.00      4425.00      5652.00     5652.00\n",
       "mean   2014.79         3.09    140108.21    78536.59\n",
       "std       5.22         1.49    334045.08    76073.74\n",
       "min    1963.00         1.00       100.00        0.00\n",
       "25%    2013.00         2.00     46484.50    35000.00\n",
       "50%    2016.00         2.70    101000.00    58000.00\n",
       "75%    2018.00         4.00    181000.00    95000.00\n",
       "max    2021.00         9.00  20000000.00  1150000.00"
      ]
     },
     "execution_count": 8,
     "metadata": {},
     "output_type": "execute_result"
    }
   ],
   "source": [
    "# round(2) decide how many decimals are printed. \n",
    "# Feel free to remove round(2)\n",
    "df.describe().round(2)"
   ]
  },
  {
   "cell_type": "markdown",
   "id": "85ff880f-5b38-4958-bf61-614b73ab1ea9",
   "metadata": {
    "tags": []
   },
   "source": [
    "<h3 style=\"text-align: left;\"><b>سؤال :</b> بناء على هذا الملخص الإحصائي أعلاه، هل تستطيع الإجابة على هذه الأسئلة ❓</h3>\n",
    "\n",
    "<div style=\"text-align: left;\">تقريبًا، كم عدد السيارات المُستعملة في البيانات موديلها هو سنة ٢٠١٨ أو أكثر؟  -</div>\n",
    "<div style=\"text-align: left;\">لو كان عندك ٦٠٠٠٠ ريال، كم عدد السيارات المناسبة لميزانيتك؟  -</div>\n",
    "<div style=\"text-align: left;\">تقريبًا كم عدد السيارات التي مشت أقل من ٥٠ ألف كيلومتر؟  -</div>"
   ]
  },
  {
   "cell_type": "markdown",
   "id": "0bae265f-7ec6-4dab-b15e-3ee608e7430a",
   "metadata": {},
   "source": [
    "<h3 style=\"text-align: left;\"><b>اكتب إجاباتك في هذه الخلية</b></h3>\n",
    "\n",
    "<div style=\"text-align: left;\">:إجابة السؤال الأول -</div>\n",
    "{اكتب هنا}\n",
    "<br>\n",
    "٢١٣٧ سيارة\n",
    "<div style=\"text-align: left;\">:إجابة السؤال الثاني -</div>\n",
    "{اكتب هنا}\n",
    "<br>\n",
    "٣٨٦٤ سيارة\n",
    "<div style=\"text-align: left;\">:إجابة السؤال الثالث -</div>\n",
    "{اكتب هنا}\n",
    "<br>\n",
    "٤٥٩١ سيارة\n",
    "<div style=\"text-align: left;\"></div>"
   ]
  },
  {
   "cell_type": "markdown",
   "id": "086d217c-df7c-41d2-b4a0-de7ebf0a6b0d",
   "metadata": {
    "tags": []
   },
   "source": [
    "<h2 style=\"text-align: left;\"> 🧹 تنظيف البيانات</h2>"
   ]
  },
  {
   "cell_type": "markdown",
   "id": "ad98ad25-e8cc-4787-afcd-ef332aef35e5",
   "metadata": {
    "ExecuteTime": {
     "end_time": "2018-04-06T10:33:36.680026Z",
     "start_time": "2018-04-06T10:33:36.664992Z"
    },
    "hidden": true
   },
   "source": [
    "When working with data it is important to know how each feature (column) is represented. \n",
    "To display the type of each feature we use the `DataFrame` attribute `dtypes`:\n",
    "\n",
    "```python\n",
    "<name of dataframe>.dtypes\n",
    "```\n",
    "\n",
    "<h3 style=\"text-align: left;\"><b>تمرين:</b> اطبع أنواع كل الأعمدة في البيانات 📝</h3>"
   ]
  },
  {
   "cell_type": "code",
   "execution_count": 9,
   "id": "a98ac598-640d-49bd-ad46-ae51af026987",
   "metadata": {
    "ExecuteTime": {
     "end_time": "2018-04-18T04:32:36.375961Z",
     "start_time": "2018-04-18T04:32:36.372981Z"
    },
    "collapsed": false,
    "hidden": true,
    "jupyter": {
     "outputs_hidden": false
    }
   },
   "outputs": [
    {
     "data": {
      "text/plain": [
       "Make            object\n",
       "Year             int64\n",
       "Color           object\n",
       "Options         object\n",
       "Engine_Size    float64\n",
       "Fuel_Type       object\n",
       "Mileage          int64\n",
       "Price            int64\n",
       "Type            object\n",
       "dtype: object"
      ]
     },
     "execution_count": 9,
     "metadata": {},
     "output_type": "execute_result"
    }
   ],
   "source": [
    "### Your code goes here\n",
    "df.dtypes"
   ]
  },
  {
   "cell_type": "markdown",
   "id": "63253c0c-abfb-4545-9616-63d6c2afcf44",
   "metadata": {
    "hidden": true
   },
   "source": [
    "From this we see that all features except FuelType are numeric and represented by integers or floats.   \n",
    "We will start by looking at the feature FuelType.\n",
    "\n",
    "*PS: In the following we will use the variable name `dataframe` in the examples. Replace this with the name of your dataframe as in the above when you work with the exercises.*"
   ]
  },
  {
   "cell_type": "markdown",
   "id": "72944b8a-e953-449b-be23-0784cbce1172",
   "metadata": {
    "tags": []
   },
   "source": [
    "<h3 style=\"text-align: left;\"> ⛽ نظّف عمود نوع الوقود</h3>"
   ]
  },
  {
   "cell_type": "markdown",
   "id": "3c36d2b0-5de4-423a-8115-a5261b06b5b7",
   "metadata": {
    "hidden": true,
    "tags": []
   },
   "source": [
    "To access a column in the dataframe you simply use:\n",
    "\n",
    "```python\n",
    "dataframe['ColumnName']\n",
    "```\n",
    "or\n",
    "```python\n",
    "dataframe.ColumnName\n",
    "```\n",
    "\n",
    "This gives you a Pandas object called a `Series`, which is a datatype used for single-column `DataFrame`-types. You can index a `Series` like you would index a list or an array in Python:\n",
    "\n",
    "\n",
    "```python\n",
    "dataframe['ColumnName'][start:stop:step]\n",
    "```\n",
    "or\n",
    "```python\n",
    "dataframe.ColumnName[start:stop:step]\n",
    "```\n",
    "\n",
    "<h3 style=\"text-align: left;\"><b>تمرين:</b> اطبع عمود نوع الوقود، ثم حاول أن تحصل على أجزاء منه 📝</h3>"
   ]
  },
  {
   "cell_type": "code",
   "execution_count": 10,
   "id": "a4964313-b08f-477a-baf4-6aac08936088",
   "metadata": {
    "ExecuteTime": {
     "end_time": "2018-04-17T18:41:08.117163Z",
     "start_time": "2018-04-17T18:41:08.098113Z"
    },
    "collapsed": false,
    "hidden": true,
    "jupyter": {
     "outputs_hidden": false
    }
   },
   "outputs": [
    {
     "data": {
      "text/plain": [
       "0       Gas\n",
       "1       Gas\n",
       "2       gas\n",
       "3       Gas\n",
       "4       gas\n",
       "       ... \n",
       "5647    gas\n",
       "5648    Gas\n",
       "5649    gas\n",
       "5650    Gas\n",
       "5651    gas\n",
       "Name: Fuel_Type, Length: 5652, dtype: object"
      ]
     },
     "execution_count": 10,
     "metadata": {},
     "output_type": "execute_result"
    }
   ],
   "source": [
    "### Your code goes here\n",
    "df['Fuel_Type']\n"
   ]
  },
  {
   "cell_type": "code",
   "execution_count": 11,
   "id": "f64181a5-6965-431b-a3f5-5756ddb2c3a7",
   "metadata": {
    "collapsed": false,
    "jupyter": {
     "outputs_hidden": false
    }
   },
   "outputs": [
    {
     "data": {
      "text/plain": [
       "5642    Gas\n",
       "5643    Gas\n",
       "5644    gas\n",
       "5645    Gas\n",
       "5646    Gas\n",
       "5647    gas\n",
       "5648    Gas\n",
       "5649    gas\n",
       "5650    Gas\n",
       "Name: Fuel_Type, dtype: object"
      ]
     },
     "execution_count": 11,
     "metadata": {},
     "output_type": "execute_result"
    }
   ],
   "source": [
    "df.Fuel_Type[-10:-1:1]\n"
   ]
  },
  {
   "cell_type": "markdown",
   "id": "c20e1b0d-f136-4522-a13b-391b99172a85",
   "metadata": {
    "hidden": true,
    "tags": []
   },
   "source": [
    "You probably noticed that \"Gas\" was written with a capital \"G\" in some rows and a lowercase g in other rows. This gives reason to suspect that there are other inconsistencies in this column, and it would be nice to see all the distinct values used for `FuelType`.  \n",
    "\n",
    "To see all the unique values in a column we use the method `unique`:\n",
    "\n",
    "```python\n",
    "dataframe['column'].unique()\n",
    "#or\n",
    "dataframe.column.unique()\n",
    "```\n",
    "\n",
    "<h3 style=\"text-align: left;\"><b>تمرين:</b> اطبع كل القيم المتفردة في عمود نوع الوقود 📝</h3>"
   ]
  },
  {
   "cell_type": "code",
   "execution_count": 12,
   "id": "4f6e2987-ec21-4bac-96b3-197002484dc9",
   "metadata": {
    "ExecuteTime": {
     "end_time": "2018-04-18T04:34:48.793447Z",
     "start_time": "2018-04-18T04:34:48.788432Z"
    },
    "collapsed": false,
    "hidden": true,
    "jupyter": {
     "outputs_hidden": false
    }
   },
   "outputs": [
    {
     "data": {
      "text/plain": [
       "array(['Gas', 'gas', 'Diesel', 'Hybrid'], dtype=object)"
      ]
     },
     "execution_count": 12,
     "metadata": {},
     "output_type": "execute_result"
    }
   ],
   "source": [
    "### Your code goes here\n",
    "df['Fuel_Type'].unique()"
   ]
  },
  {
   "cell_type": "markdown",
   "id": "50cc4d72-8281-4c0e-9288-7eb30057f21f",
   "metadata": {
    "hidden": true
   },
   "source": [
    "There are only three distinct real types of fuel, but each fuel type is currently spelled or typed in several different ways.  \n",
    "Our algorithms and models will not be able to understand that \"gas\" and \"Gas\" is the same, so we need to make the data consistent. \n",
    "\n",
    "There are many ways to replace values in a column, but we would like you to be familiar with the `loc`-functionality in Pandas. This attribute makes it possible to access the entire `DataFrame` through indexes:\n",
    "\n",
    "\n",
    "\n",
    "```python\n",
    "#One value\n",
    "dataframe.loc[index, column]\n",
    "\n",
    "#One row\n",
    "dataframe.loc[index, :]\n",
    "\n",
    "#Selection of rows and columns\n",
    "dataframe.loc[start:stop:step,['ColumnName_1', 'ColumnName_2', 'ColumnName_3']]\n",
    "\n",
    "#Update value(s)\n",
    "dataframe.loc[index, column] = new_value\n",
    "```\n",
    "\n",
    "\n",
    "\n",
    "\n",
    "`index` can be any variable that matches the index used in the `DataFrame` or a boolean (True/False) array/series that indicates which rows we want (a boolean mask). Integers or lists/arrays/series of integers can also be used, but if you want to use integers to describe the *position* of a row in a `DataFrame` it is better to use the method `.iloc[]`.  \n",
    "`column` can be one particular columnname or a list of column names. \n",
    "\n",
    "\n",
    "\n",
    "\n",
    "<h3 style=\"text-align: left;\"><b>تمرين:</b> نظّف عمود نوع الوقود بحيث أن تكون القيم المتفردة هي فقط القيم التالية 📝</h3>\n",
    "\n",
    "- **Gas**\n",
    "- **Diesel**\n",
    "- **Hybrid**\n"
   ]
  },
  {
   "cell_type": "code",
   "execution_count": 13,
   "id": "7edd7b65-38d4-43e6-99fb-dee855408a11",
   "metadata": {
    "collapsed": false,
    "jupyter": {
     "outputs_hidden": false
    }
   },
   "outputs": [
    {
     "name": "stdout",
     "output_type": "stream",
     "text": [
      "0    False\n",
      "1    False\n",
      "2     True\n",
      "3    False\n",
      "4     True\n",
      "Name: Fuel_Type, dtype: bool\n"
     ]
    }
   ],
   "source": [
    "# To get you started we provide the boolean series\n",
    "# you can use as an index (often called a boolean mask) to get all rows where Gas \n",
    "# is written with lowercase p.\n",
    "Gas_boolean = (df['Fuel_Type']=='gas')\n",
    "# Gas_boolean is now a series of boolean values that indicate whether the statement above was true of not for the corresponding row entry in the 'FuelType'-column.\n",
    "\n",
    "# Print the first 5 values of Gas_boolean to show what it contains:\n",
    "print(Gas_boolean.head(5))"
   ]
  },
  {
   "cell_type": "code",
   "execution_count": 14,
   "id": "bb4429fd-1626-4157-9a01-d74839bb701c",
   "metadata": {
    "tags": []
   },
   "outputs": [
    {
     "data": {
      "text/plain": [
       "Gas       3375\n",
       "gas       2162\n",
       "Diesel     102\n",
       "Hybrid      13\n",
       "Name: Fuel_Type, dtype: int64"
      ]
     },
     "execution_count": 14,
     "metadata": {},
     "output_type": "execute_result"
    }
   ],
   "source": [
    "df['Fuel_Type'].value_counts()"
   ]
  },
  {
   "cell_type": "code",
   "execution_count": 15,
   "id": "d4452e6b-c978-4f3f-8a5e-3bfa977649ea",
   "metadata": {
    "ExecuteTime": {
     "end_time": "2018-04-17T18:41:08.151254Z",
     "start_time": "2018-04-17T18:41:08.136213Z"
    },
    "collapsed": false,
    "hidden": true,
    "jupyter": {
     "outputs_hidden": false
    },
    "scrolled": true
   },
   "outputs": [],
   "source": [
    "# So, use the boolean mask as an \"index selector\" to the main dataframe using the `.loc` accessor.\n",
    "# Something like this:\n",
    "\n",
    "# df.loc[my_boolean_mask, my_selected_column_name] = my_new_value_to_replace_old_values_where_mask_is_true\n",
    "\n",
    "### Your code goes here\n",
    "df.loc[Gas_boolean, \"Fuel_Type\"] = \"Gas\""
   ]
  },
  {
   "cell_type": "markdown",
   "id": "eca86ac5-f029-473b-bc30-c9795e274f63",
   "metadata": {
    "hidden": true
   },
   "source": [
    "<h3 style=\"text-align: left;\"><b>تمرين:</b> اطبع القيم المتفردة في عمود نوع الوقود وتأكد أنها تحوي على المطلوبة فقط 📝</h3>"
   ]
  },
  {
   "cell_type": "code",
   "execution_count": 16,
   "id": "0a67ec3c-b691-44ad-88b0-ef2e29811f29",
   "metadata": {
    "ExecuteTime": {
     "end_time": "2018-04-18T04:41:44.753585Z",
     "start_time": "2018-04-18T04:41:44.749567Z"
    },
    "collapsed": false,
    "hidden": true,
    "jupyter": {
     "outputs_hidden": false
    }
   },
   "outputs": [
    {
     "data": {
      "text/plain": [
       "array(['Gas', 'Diesel', 'Hybrid'], dtype=object)"
      ]
     },
     "execution_count": 16,
     "metadata": {},
     "output_type": "execute_result"
    }
   ],
   "source": [
    "# Your code goes here\n",
    "df['Fuel_Type'].unique()"
   ]
  },
  {
   "cell_type": "markdown",
   "id": "58937ac6-90d2-4911-b23c-e4f1f69791ba",
   "metadata": {
    "heading_collapsed": true,
    "hidden": true,
    "tags": []
   },
   "source": [
    "<h3 style=\"text-align: left;\"> 🤯 تأكد لو مجموعة البيانات تحتوي على قيم مفقودة</h3>\n",
    "\n",
    "Datasets are rarely complete, in other words they often contain unwanted `null` or `nan` values or similar.   \n",
    "Pandas `DataFrames` have a method `isnull` that gives True/False for every value in the dataframe:\n",
    "```python\n",
    "dataframe.isnull()\n",
    "```\n",
    "If we want to count \"holes\" in our data this method is not very useful when it is used by itself, since it returns a dataframe of the same size as the original dataframe. \n",
    "\n",
    "Try for yourself and you'll see what we mean."
   ]
  },
  {
   "cell_type": "code",
   "execution_count": 17,
   "id": "7ffa1169-4afc-4e77-833a-496115acd38c",
   "metadata": {
    "ExecuteTime": {
     "end_time": "2018-04-18T04:42:26.093067Z",
     "start_time": "2018-04-18T04:42:26.090058Z"
    },
    "collapsed": false,
    "hidden": true,
    "jupyter": {
     "outputs_hidden": false
    },
    "scrolled": true
   },
   "outputs": [
    {
     "data": {
      "text/html": [
       "<div>\n",
       "<style scoped>\n",
       "    .dataframe tbody tr th:only-of-type {\n",
       "        vertical-align: middle;\n",
       "    }\n",
       "\n",
       "    .dataframe tbody tr th {\n",
       "        vertical-align: top;\n",
       "    }\n",
       "\n",
       "    .dataframe thead th {\n",
       "        text-align: right;\n",
       "    }\n",
       "</style>\n",
       "<table border=\"1\" class=\"dataframe\">\n",
       "  <thead>\n",
       "    <tr style=\"text-align: right;\">\n",
       "      <th></th>\n",
       "      <th>Make</th>\n",
       "      <th>Year</th>\n",
       "      <th>Color</th>\n",
       "      <th>Options</th>\n",
       "      <th>Engine_Size</th>\n",
       "      <th>Fuel_Type</th>\n",
       "      <th>Mileage</th>\n",
       "      <th>Price</th>\n",
       "      <th>Type</th>\n",
       "    </tr>\n",
       "  </thead>\n",
       "  <tbody>\n",
       "    <tr>\n",
       "      <th>0</th>\n",
       "      <td>False</td>\n",
       "      <td>False</td>\n",
       "      <td>False</td>\n",
       "      <td>False</td>\n",
       "      <td>False</td>\n",
       "      <td>False</td>\n",
       "      <td>False</td>\n",
       "      <td>False</td>\n",
       "      <td>False</td>\n",
       "    </tr>\n",
       "    <tr>\n",
       "      <th>1</th>\n",
       "      <td>False</td>\n",
       "      <td>False</td>\n",
       "      <td>False</td>\n",
       "      <td>False</td>\n",
       "      <td>False</td>\n",
       "      <td>False</td>\n",
       "      <td>False</td>\n",
       "      <td>False</td>\n",
       "      <td>False</td>\n",
       "    </tr>\n",
       "    <tr>\n",
       "      <th>2</th>\n",
       "      <td>False</td>\n",
       "      <td>False</td>\n",
       "      <td>False</td>\n",
       "      <td>False</td>\n",
       "      <td>False</td>\n",
       "      <td>False</td>\n",
       "      <td>False</td>\n",
       "      <td>False</td>\n",
       "      <td>False</td>\n",
       "    </tr>\n",
       "    <tr>\n",
       "      <th>3</th>\n",
       "      <td>False</td>\n",
       "      <td>False</td>\n",
       "      <td>False</td>\n",
       "      <td>False</td>\n",
       "      <td>False</td>\n",
       "      <td>False</td>\n",
       "      <td>False</td>\n",
       "      <td>False</td>\n",
       "      <td>False</td>\n",
       "    </tr>\n",
       "    <tr>\n",
       "      <th>4</th>\n",
       "      <td>False</td>\n",
       "      <td>False</td>\n",
       "      <td>False</td>\n",
       "      <td>False</td>\n",
       "      <td>False</td>\n",
       "      <td>False</td>\n",
       "      <td>False</td>\n",
       "      <td>False</td>\n",
       "      <td>False</td>\n",
       "    </tr>\n",
       "    <tr>\n",
       "      <th>...</th>\n",
       "      <td>...</td>\n",
       "      <td>...</td>\n",
       "      <td>...</td>\n",
       "      <td>...</td>\n",
       "      <td>...</td>\n",
       "      <td>...</td>\n",
       "      <td>...</td>\n",
       "      <td>...</td>\n",
       "      <td>...</td>\n",
       "    </tr>\n",
       "    <tr>\n",
       "      <th>5647</th>\n",
       "      <td>False</td>\n",
       "      <td>False</td>\n",
       "      <td>False</td>\n",
       "      <td>False</td>\n",
       "      <td>False</td>\n",
       "      <td>False</td>\n",
       "      <td>False</td>\n",
       "      <td>False</td>\n",
       "      <td>False</td>\n",
       "    </tr>\n",
       "    <tr>\n",
       "      <th>5648</th>\n",
       "      <td>False</td>\n",
       "      <td>False</td>\n",
       "      <td>False</td>\n",
       "      <td>False</td>\n",
       "      <td>True</td>\n",
       "      <td>False</td>\n",
       "      <td>False</td>\n",
       "      <td>False</td>\n",
       "      <td>False</td>\n",
       "    </tr>\n",
       "    <tr>\n",
       "      <th>5649</th>\n",
       "      <td>False</td>\n",
       "      <td>False</td>\n",
       "      <td>False</td>\n",
       "      <td>False</td>\n",
       "      <td>True</td>\n",
       "      <td>False</td>\n",
       "      <td>False</td>\n",
       "      <td>False</td>\n",
       "      <td>False</td>\n",
       "    </tr>\n",
       "    <tr>\n",
       "      <th>5650</th>\n",
       "      <td>False</td>\n",
       "      <td>False</td>\n",
       "      <td>False</td>\n",
       "      <td>False</td>\n",
       "      <td>False</td>\n",
       "      <td>False</td>\n",
       "      <td>False</td>\n",
       "      <td>False</td>\n",
       "      <td>False</td>\n",
       "    </tr>\n",
       "    <tr>\n",
       "      <th>5651</th>\n",
       "      <td>False</td>\n",
       "      <td>False</td>\n",
       "      <td>False</td>\n",
       "      <td>False</td>\n",
       "      <td>False</td>\n",
       "      <td>False</td>\n",
       "      <td>False</td>\n",
       "      <td>False</td>\n",
       "      <td>False</td>\n",
       "    </tr>\n",
       "  </tbody>\n",
       "</table>\n",
       "<p>5652 rows × 9 columns</p>\n",
       "</div>"
      ],
      "text/plain": [
       "       Make   Year  Color  Options  Engine_Size  Fuel_Type  Mileage  Price  \\\n",
       "0     False  False  False    False        False      False    False  False   \n",
       "1     False  False  False    False        False      False    False  False   \n",
       "2     False  False  False    False        False      False    False  False   \n",
       "3     False  False  False    False        False      False    False  False   \n",
       "4     False  False  False    False        False      False    False  False   \n",
       "...     ...    ...    ...      ...          ...        ...      ...    ...   \n",
       "5647  False  False  False    False        False      False    False  False   \n",
       "5648  False  False  False    False         True      False    False  False   \n",
       "5649  False  False  False    False         True      False    False  False   \n",
       "5650  False  False  False    False        False      False    False  False   \n",
       "5651  False  False  False    False        False      False    False  False   \n",
       "\n",
       "       Type  \n",
       "0     False  \n",
       "1     False  \n",
       "2     False  \n",
       "3     False  \n",
       "4     False  \n",
       "...     ...  \n",
       "5647  False  \n",
       "5648  False  \n",
       "5649  False  \n",
       "5650  False  \n",
       "5651  False  \n",
       "\n",
       "[5652 rows x 9 columns]"
      ]
     },
     "execution_count": 17,
     "metadata": {},
     "output_type": "execute_result"
    }
   ],
   "source": [
    "# Your code goes here\n",
    "df.isnull()"
   ]
  },
  {
   "cell_type": "markdown",
   "id": "5913f8eb-3800-4bc3-8caf-0cd5c868d84c",
   "metadata": {
    "hidden": true
   },
   "source": [
    "However, to find the number of missing values in our dataset we simply count the occurence of null/nan values for each column (feature).  This is done by summing up all `True`-values:\n",
    "\n",
    "```python\n",
    "dataframe.isnull().sum()\n",
    "```"
   ]
  },
  {
   "cell_type": "code",
   "execution_count": 18,
   "id": "ee72b0ae-3d92-423c-9ad8-51981895f7e0",
   "metadata": {
    "ExecuteTime": {
     "end_time": "2018-04-18T04:42:30.294962Z",
     "start_time": "2018-04-18T04:42:30.292979Z"
    },
    "collapsed": false,
    "hidden": true,
    "jupyter": {
     "outputs_hidden": false
    }
   },
   "outputs": [
    {
     "data": {
      "text/plain": [
       "Make              0\n",
       "Year              0\n",
       "Color             0\n",
       "Options          41\n",
       "Engine_Size    1227\n",
       "Fuel_Type         0\n",
       "Mileage           0\n",
       "Price             0\n",
       "Type              0\n",
       "dtype: int64"
      ]
     },
     "execution_count": 18,
     "metadata": {},
     "output_type": "execute_result"
    }
   ],
   "source": [
    "### Your code goes here\n",
    "df.isnull().sum()"
   ]
  },
  {
   "cell_type": "markdown",
   "id": "c160c9bc-801a-44cd-b814-145074ff0893",
   "metadata": {},
   "source": [
    "Remember the three main approaches to handle missing values:\n",
    "\n",
    "1. Delete rows and/or column(s)\n",
    "2. Keep everything and choose a model that can handle missing values\n",
    "3. Perform data imputation\n",
    "\n",
    "Lets print the rows in the dataframe containing Null/NaN values:"
   ]
  },
  {
   "cell_type": "code",
   "execution_count": 19,
   "id": "f5e92620-108b-46cd-be31-766be2280fb8",
   "metadata": {
    "ExecuteTime": {
     "end_time": "2018-04-17T18:41:08.284614Z",
     "start_time": "2018-04-17T18:41:08.268566Z"
    },
    "collapsed": false,
    "hidden": true,
    "jupyter": {
     "outputs_hidden": false
    }
   },
   "outputs": [
    {
     "data": {
      "text/html": [
       "<div>\n",
       "<style scoped>\n",
       "    .dataframe tbody tr th:only-of-type {\n",
       "        vertical-align: middle;\n",
       "    }\n",
       "\n",
       "    .dataframe tbody tr th {\n",
       "        vertical-align: top;\n",
       "    }\n",
       "\n",
       "    .dataframe thead th {\n",
       "        text-align: right;\n",
       "    }\n",
       "</style>\n",
       "<table border=\"1\" class=\"dataframe\">\n",
       "  <thead>\n",
       "    <tr style=\"text-align: right;\">\n",
       "      <th></th>\n",
       "      <th>Make</th>\n",
       "      <th>Year</th>\n",
       "      <th>Color</th>\n",
       "      <th>Options</th>\n",
       "      <th>Engine_Size</th>\n",
       "      <th>Fuel_Type</th>\n",
       "      <th>Mileage</th>\n",
       "      <th>Price</th>\n",
       "      <th>Type</th>\n",
       "    </tr>\n",
       "  </thead>\n",
       "  <tbody>\n",
       "    <tr>\n",
       "      <th>11</th>\n",
       "      <td>Mercedes</td>\n",
       "      <td>2020</td>\n",
       "      <td>White</td>\n",
       "      <td>Standard</td>\n",
       "      <td>NaN</td>\n",
       "      <td>Gas</td>\n",
       "      <td>20000</td>\n",
       "      <td>235000</td>\n",
       "      <td>CLA</td>\n",
       "    </tr>\n",
       "    <tr>\n",
       "      <th>37</th>\n",
       "      <td>Toyota</td>\n",
       "      <td>1993</td>\n",
       "      <td>Bronze</td>\n",
       "      <td>Semi Full</td>\n",
       "      <td>NaN</td>\n",
       "      <td>Gas</td>\n",
       "      <td>400</td>\n",
       "      <td>12000</td>\n",
       "      <td>Land Cruiser</td>\n",
       "    </tr>\n",
       "    <tr>\n",
       "      <th>66</th>\n",
       "      <td>Geely</td>\n",
       "      <td>2014</td>\n",
       "      <td>Golden</td>\n",
       "      <td>Full</td>\n",
       "      <td>NaN</td>\n",
       "      <td>Gas</td>\n",
       "      <td>161300</td>\n",
       "      <td>12000</td>\n",
       "      <td>EC7</td>\n",
       "    </tr>\n",
       "    <tr>\n",
       "      <th>68</th>\n",
       "      <td>Lexus</td>\n",
       "      <td>2019</td>\n",
       "      <td>Another Color</td>\n",
       "      <td>Full</td>\n",
       "      <td>NaN</td>\n",
       "      <td>Gas</td>\n",
       "      <td>26000</td>\n",
       "      <td>207000</td>\n",
       "      <td>ES</td>\n",
       "    </tr>\n",
       "    <tr>\n",
       "      <th>71</th>\n",
       "      <td>GMC</td>\n",
       "      <td>2016</td>\n",
       "      <td>White</td>\n",
       "      <td>Semi Full</td>\n",
       "      <td>NaN</td>\n",
       "      <td>Gas</td>\n",
       "      <td>63000</td>\n",
       "      <td>140000</td>\n",
       "      <td>Yukon</td>\n",
       "    </tr>\n",
       "    <tr>\n",
       "      <th>...</th>\n",
       "      <td>...</td>\n",
       "      <td>...</td>\n",
       "      <td>...</td>\n",
       "      <td>...</td>\n",
       "      <td>...</td>\n",
       "      <td>...</td>\n",
       "      <td>...</td>\n",
       "      <td>...</td>\n",
       "      <td>...</td>\n",
       "    </tr>\n",
       "    <tr>\n",
       "      <th>5633</th>\n",
       "      <td>Hyundai</td>\n",
       "      <td>2017</td>\n",
       "      <td>White</td>\n",
       "      <td>Standard</td>\n",
       "      <td>NaN</td>\n",
       "      <td>Gas</td>\n",
       "      <td>61000</td>\n",
       "      <td>34000</td>\n",
       "      <td>Accent</td>\n",
       "    </tr>\n",
       "    <tr>\n",
       "      <th>5637</th>\n",
       "      <td>Ford</td>\n",
       "      <td>2015</td>\n",
       "      <td>Green</td>\n",
       "      <td>Full</td>\n",
       "      <td>NaN</td>\n",
       "      <td>Gas</td>\n",
       "      <td>228000</td>\n",
       "      <td>68000</td>\n",
       "      <td>Expedition</td>\n",
       "    </tr>\n",
       "    <tr>\n",
       "      <th>5642</th>\n",
       "      <td>GMC</td>\n",
       "      <td>2019</td>\n",
       "      <td>Grey</td>\n",
       "      <td>Full</td>\n",
       "      <td>NaN</td>\n",
       "      <td>Gas</td>\n",
       "      <td>50000</td>\n",
       "      <td>1</td>\n",
       "      <td>Yukon</td>\n",
       "    </tr>\n",
       "    <tr>\n",
       "      <th>5648</th>\n",
       "      <td>Audi</td>\n",
       "      <td>2015</td>\n",
       "      <td>Silver</td>\n",
       "      <td>Full</td>\n",
       "      <td>NaN</td>\n",
       "      <td>Gas</td>\n",
       "      <td>77000</td>\n",
       "      <td>75000</td>\n",
       "      <td>A6</td>\n",
       "    </tr>\n",
       "    <tr>\n",
       "      <th>5649</th>\n",
       "      <td>Chevrolet</td>\n",
       "      <td>2010</td>\n",
       "      <td>Silver</td>\n",
       "      <td>Full</td>\n",
       "      <td>NaN</td>\n",
       "      <td>Gas</td>\n",
       "      <td>150000</td>\n",
       "      <td>53000</td>\n",
       "      <td>Camaro</td>\n",
       "    </tr>\n",
       "  </tbody>\n",
       "</table>\n",
       "<p>1228 rows × 9 columns</p>\n",
       "</div>"
      ],
      "text/plain": [
       "           Make  Year          Color    Options  Engine_Size Fuel_Type  \\\n",
       "11     Mercedes  2020          White   Standard          NaN       Gas   \n",
       "37       Toyota  1993         Bronze  Semi Full          NaN       Gas   \n",
       "66        Geely  2014         Golden       Full          NaN       Gas   \n",
       "68        Lexus  2019  Another Color       Full          NaN       Gas   \n",
       "71          GMC  2016          White  Semi Full          NaN       Gas   \n",
       "...         ...   ...            ...        ...          ...       ...   \n",
       "5633    Hyundai  2017          White   Standard          NaN       Gas   \n",
       "5637       Ford  2015          Green       Full          NaN       Gas   \n",
       "5642        GMC  2019           Grey       Full          NaN       Gas   \n",
       "5648       Audi  2015         Silver       Full          NaN       Gas   \n",
       "5649  Chevrolet  2010         Silver       Full          NaN       Gas   \n",
       "\n",
       "      Mileage   Price          Type  \n",
       "11      20000  235000           CLA  \n",
       "37        400   12000  Land Cruiser  \n",
       "66     161300   12000           EC7  \n",
       "68      26000  207000            ES  \n",
       "71      63000  140000         Yukon  \n",
       "...       ...     ...           ...  \n",
       "5633    61000   34000        Accent  \n",
       "5637   228000   68000    Expedition  \n",
       "5642    50000       1         Yukon  \n",
       "5648    77000   75000            A6  \n",
       "5649   150000   53000        Camaro  \n",
       "\n",
       "[1228 rows x 9 columns]"
      ]
     },
     "execution_count": 19,
     "metadata": {},
     "output_type": "execute_result"
    }
   ],
   "source": [
    "df[df.isnull().sum(axis=1)>0]"
   ]
  },
  {
   "cell_type": "markdown",
   "id": "75e95d16-4433-4c17-8811-8552253f00a7",
   "metadata": {
    "hidden": true
   },
   "source": [
    "<h3 style=\"text-align: left;\"><b>تمرين:</b> أوجد إجمالي عدد الصفوف في البيانات التي لدينا 📝</h3>"
   ]
  },
  {
   "cell_type": "code",
   "execution_count": 20,
   "id": "1260758e-9723-422e-9818-19d497ae03f5",
   "metadata": {
    "collapsed": false,
    "hidden": true,
    "jupyter": {
     "outputs_hidden": false
    }
   },
   "outputs": [
    {
     "data": {
      "text/plain": [
       "5652"
      ]
     },
     "execution_count": 20,
     "metadata": {},
     "output_type": "execute_result"
    }
   ],
   "source": [
    "### Your code goes here\n",
    "len(df)"
   ]
  },
  {
   "cell_type": "markdown",
   "id": "a9878a57-964a-44e1-914a-6c3bb453b2c8",
   "metadata": {
    "heading_collapsed": true,
    "hidden": true
   },
   "source": [
    "<h3 style=\"text-align: left;\"> 🤹 التعامل مع القيم المفقودة</h3>\n",
    "\n",
    "In the previous exercise you found that a small percentage of our dataset with a total of 1446 rows contain null/nan.  \n",
    "In this case we therefore remove the rows containing missing values. \n",
    "We do this with the method `dropna`:"
   ]
  },
  {
   "cell_type": "code",
   "execution_count": 21,
   "id": "8c77a2d2-bac7-4a9a-a2c4-81d60beb8dc0",
   "metadata": {
    "ExecuteTime": {
     "end_time": "2018-04-23T15:48:00.019295Z",
     "start_time": "2018-04-23T15:48:00.013303Z"
    },
    "collapsed": false,
    "hidden": true,
    "jupyter": {
     "outputs_hidden": false
    },
    "tags": []
   },
   "outputs": [],
   "source": [
    "# Use the method \"fill na\" on the DataFrame itself to force it to remove rows with null/nan-values:\n",
    "df['Engine_Size'].fillna(df['Engine_Size'].mean(), inplace=True)"
   ]
  },
  {
   "cell_type": "markdown",
   "id": "ebc89e1b-a05c-430e-868a-69738aabecff",
   "metadata": {
    "hidden": true,
    "tags": []
   },
   "source": [
    "<h3 style=\"text-align: left;\"><b>تمرين:</b> كم عدد الصفوف المتبقية الآن في البيانات؟ 📝</h3>"
   ]
  },
  {
   "cell_type": "code",
   "execution_count": 22,
   "id": "2f5a7375-e1d5-4d3d-8834-e67efbcf5c7e",
   "metadata": {
    "ExecuteTime": {
     "end_time": "2018-04-18T04:50:32.473383Z",
     "start_time": "2018-04-18T04:50:32.470399Z"
    },
    "collapsed": false,
    "hidden": true,
    "jupyter": {
     "outputs_hidden": false
    }
   },
   "outputs": [
    {
     "data": {
      "text/plain": [
       "5652"
      ]
     },
     "execution_count": 22,
     "metadata": {},
     "output_type": "execute_result"
    }
   ],
   "source": [
    "### Your code goes here\n",
    "len(df)"
   ]
  },
  {
   "cell_type": "markdown",
   "id": "10139bc2-c09b-4e06-a873-74c4110b327f",
   "metadata": {
    "hidden": true
   },
   "source": [
    "كده نكون خلصنا من تنظيف البيانات! 🎉 مبروك\n",
    "\n",
    "**الآن حنبدأ باكتشاف الميزات المختلفة في البيانات بشكل أعملق أكثر** "
   ]
  },
  {
   "cell_type": "code",
   "execution_count": null,
   "id": "cbae28b1-423e-4735-b5a5-ada49ec4f473",
   "metadata": {},
   "outputs": [],
   "source": []
  },
  {
   "cell_type": "markdown",
   "id": "1b5201d4-aca1-47fb-bd21-97dc9451cb2e",
   "metadata": {
    "tags": []
   },
   "source": [
    "<h2 style=\"text-align: left;\"> 🔬 ألقِ نظرة عن كثب على كل عمود/ميزة في البيانات</h2>\n",
    "\n",
    "To plot a histogram for one column (feature) in a Pandas `DataFrame`:\n",
    "\n",
    "\n",
    "\n",
    "\n",
    "\n",
    "\n",
    "\n",
    "\n",
    "```python\n",
    "df['column'].plot(kind='hist')\n",
    "```\n",
    "\n",
    "The bin size is crucial to get an informative histogram. Luckily it is very easy to specify the bins we want in the histogram:  \n",
    "\n",
    "```python\n",
    "df['column'].plot(kind='hist', bins=array)\n",
    "```\n",
    "\n",
    "There is two main ways to make the array used as bins. Both use the library `NumPy` which we imported with the nickname `np`.  \n",
    "It's up to you to decide which method you want to use. We find that np.linspace is easier to use in some cases and np.arange in other.\n",
    "\n",
    "```python\n",
    "bins = np.linspace(start, stop, num_points)\n",
    "# or\n",
    "bins = np.arange(start, stop, step)\n",
    "```\n",
    "\n",
    "(In general `np.linspace` is most convenient when we know how many bins we want and `np.arange` is best if we know the bin width.)"
   ]
  },
  {
   "cell_type": "markdown",
   "id": "3ca9f761-11c8-4cb5-b419-5f7bfd58c7d4",
   "metadata": {
    "tags": []
   },
   "source": [
    "<h3 style=\"text-align: left;\"> 💰 السعر</h3>\n",
    "\n",
    "<h3 style=\"text-align: left;\"><b>تمرين:</b> ارسم توزيع أسعار السيارات باستخدام مخطط المدرج التكراري. تحكم بعدد الأعمدة المعروضة في الرسمة بحيث يكون عرض العمود عشرة آلاف ريال سعودي📝</h3>\n",
    "\n",
    "Remember (or check, using df.Price.max()) that the maximum value in this column is 1150000 SAR.\n"
   ]
  },
  {
   "cell_type": "code",
   "execution_count": 23,
   "id": "87f04ac0-f344-44aa-a546-dc5f7b8da2b5",
   "metadata": {},
   "outputs": [
    {
     "data": {
      "text/plain": [
       "<AxesSubplot: ylabel='Frequency'>"
      ]
     },
     "execution_count": 23,
     "metadata": {},
     "output_type": "execute_result"
    },
    {
     "data": {
      "image/png": "[encoded data removed]",
      "text/plain": [
       "<Figure size 640x480 with 1 Axes>"
      ]
     },
     "metadata": {},
     "output_type": "display_data"
    }
   ],
   "source": [
    "# Your code goes here\n",
    "df['Price'].plot(kind='hist')"
   ]
  },
  {
   "cell_type": "code",
   "execution_count": 24,
   "id": "3fbe3ed5-af2a-4783-b4d2-79bc70305470",
   "metadata": {
    "collapsed": false,
    "jupyter": {
     "outputs_hidden": false
    }
   },
   "outputs": [
    {
     "data": {
      "text/plain": [
       "<AxesSubplot: ylabel='Frequency'>"
      ]
     },
     "execution_count": 24,
     "metadata": {},
     "output_type": "execute_result"
    },
    {
     "data": {
      "image/png": "[encoded data removed]",
      "text/plain": [
       "<Figure size 640x480 with 1 Axes>"
      ]
     },
     "metadata": {},
     "output_type": "display_data"
    }
   ],
   "source": [
    "df['Price'].plot(kind='hist',bins=np.arange(0, df.Price.max(), 10000))"
   ]
  },
  {
   "cell_type": "markdown",
   "id": "03a00636-d11e-49b2-9a73-d29796ca45de",
   "metadata": {},
   "source": [
    "**مبروك 🎉**\n",
    "\n",
    "جرب الآن إنك تلعب بقيمة عدد الأعمدة وشوف كيف حيغير شكل الرسمة"
   ]
  },
  {
   "cell_type": "markdown",
   "id": "3771e3a4-e37e-4616-8fe2-65f5f8fcc780",
   "metadata": {
    "heading_collapsed": true,
    "hidden": true,
    "tags": []
   },
   "source": [
    "<h3 style=\"text-align: left;\"> 🛣️ الممشى</h3>\n",
    "\n",
    "<h3 style=\"text-align: left;\"><b>تمرين:</b> ارسم توزيع الكيلومترات التي قطعتها السيارات. تذكر أن أكبر ممشى في البيانات هو ٢٠ مليون كيلومتر 📝</h3>"
   ]
  },
  {
   "cell_type": "code",
   "execution_count": 25,
   "id": "b43c7882-faf1-497f-9ee9-eabe2f10e582",
   "metadata": {
    "ExecuteTime": {
     "end_time": "2018-04-17T18:41:09.164962Z",
     "start_time": "2018-04-17T18:41:08.739816Z"
    },
    "collapsed": false,
    "hidden": true,
    "jupyter": {
     "outputs_hidden": false
    }
   },
   "outputs": [
    {
     "data": {
      "text/plain": [
       "<AxesSubplot: ylabel='Frequency'>"
      ]
     },
     "execution_count": 25,
     "metadata": {},
     "output_type": "execute_result"
    },
    {
     "data": {
      "image/png": "[encoded data removed]",
      "text/plain": [
       "<Figure size 640x480 with 1 Axes>"
      ]
     },
     "metadata": {},
     "output_type": "display_data"
    }
   ],
   "source": [
    "# Your code goes here\n",
    "df['Mileage'].plot(kind='hist',bins=np.arange(0, df.Mileage.max(), 100000))"
   ]
  },
  {
   "cell_type": "markdown",
   "id": "4f39d9f9-d823-4d80-b5b9-69819b212955",
   "metadata": {
    "tags": []
   },
   "source": [
    "اللي قد يكون أكثر أهمية من توزيع الكيلومترات هو العلاقة بين ممشى سيارة وسعرها\n",
    "\n",
    "عشان نصور هذه العلاقة، ممكن نستخدم مخطط اسمه مخطط الانتشار\n",
    "\n",
    "The syntax is as follows:\n",
    "\n",
    "```python\n",
    "dataframe.plot(kind='scatter', x='ColumnName_1', y='ColumnName_2')\n",
    "```\n",
    "\n",
    "<h3 style=\"text-align: left;\"><b>تمرين:</b> ارسم مخطط الانتشار بحيث تظهر توزيع كل من ميزتي الممشى والسعر والعلاقة بينهما📝</h3>"
   ]
  },
  {
   "cell_type": "code",
   "execution_count": 26,
   "id": "31eac1c7-cf96-49e3-a2c2-4531e655e5fb",
   "metadata": {
    "ExecuteTime": {
     "end_time": "2018-04-18T04:59:57.853553Z",
     "start_time": "2018-04-18T04:59:57.480021Z"
    },
    "collapsed": false,
    "hidden": true,
    "jupyter": {
     "outputs_hidden": false
    }
   },
   "outputs": [
    {
     "data": {
      "text/plain": [
       "<AxesSubplot: xlabel='Price', ylabel='Year'>"
      ]
     },
     "execution_count": 26,
     "metadata": {},
     "output_type": "execute_result"
    },
    {
     "data": {
      "image/png": "[encoded data removed]",
      "text/plain": [
       "<Figure size 640x480 with 1 Axes>"
      ]
     },
     "metadata": {},
     "output_type": "display_data"
    }
   ],
   "source": [
    "### Your code goes here\n",
    "df.plot(kind='scatter',x='Price',y='Year')"
   ]
  },
  {
   "cell_type": "markdown",
   "id": "a17af5a8-adfd-42a3-8e27-4dd7e7f2e435",
   "metadata": {
    "tags": []
   },
   "source": [
    "<h3 style=\"text-align: left;\"><b>سؤال :</b> كيف تفسر العلاقة بين الممشى والسعر؟ هل هي متوافقة مع كما كنت تتوقعه؟ ❓</h3>"
   ]
  },
  {
   "cell_type": "markdown",
   "id": "89117130-de62-4fd1-b757-b12b8a32d60b",
   "metadata": {
    "tags": []
   },
   "source": [
    "<h3 style=\"text-align: left;\"><b>اكتب إجابتك في هذه الخلية</b></h3>\n",
    "\n",
    "<div style=\"text-align: left;\">:الإجابة -</div>\n",
    "هناك علاقة خطية سالبة بين الممشى والسعر، كلما قطعت السيارة كيلومترات أكثر، كلما قل سعرها.\n",
    "{اكتب هنا}"
   ]
  },
  {
   "cell_type": "code",
   "execution_count": null,
   "id": "08d709c4-39a1-439a-bd1d-63d3cc09fe5c",
   "metadata": {},
   "outputs": [],
   "source": []
  },
  {
   "cell_type": "markdown",
   "id": "e7504d8f-023b-49bc-bb53-20b768493c89",
   "metadata": {
    "jp-MarkdownHeadingCollapsed": true,
    "tags": []
   },
   "source": [
    "<h3 style=\"text-align: left;\"> 🎨 اللون الخارجي</h3>"
   ]
  },
  {
   "cell_type": "markdown",
   "id": "4423671c-c11b-4b2b-b169-61fc41880900",
   "metadata": {
    "tags": []
   },
   "source": [
    "<h3 style=\"text-align: left;\"><b>تمرين:</b> اطبع كل الألوان المتفردة للسيارات المستعملة📝</h3>"
   ]
  },
  {
   "cell_type": "code",
   "execution_count": 27,
   "id": "011ea9fc-37ea-46a6-ac3a-bd829f4a2dab",
   "metadata": {
    "tags": []
   },
   "outputs": [
    {
     "data": {
      "text/plain": [
       "array(['Black', 'Silver', 'Grey', 'Navy', 'White', 'Bronze',\n",
       "       'Another Color', 'Golden', 'Brown', 'Blue', 'Red', 'Oily', 'Green',\n",
       "       'Orange', 'Yellow'], dtype=object)"
      ]
     },
     "execution_count": 27,
     "metadata": {},
     "output_type": "execute_result"
    }
   ],
   "source": [
    "df.Color.unique()"
   ]
  },
  {
   "cell_type": "markdown",
   "id": "0406623e-5614-4533-99d2-f861e54210b5",
   "metadata": {
    "tags": []
   },
   "source": [
    "<h3 style=\"text-align: left;\"><b>تمرين:</b> ارسم مخطط شريطي لألوان السيارات المستعملة📝</h3>"
   ]
  },
  {
   "cell_type": "code",
   "execution_count": 28,
   "id": "14b7aeb1-85b3-45de-b660-cbb6e2a810f9",
   "metadata": {
    "tags": []
   },
   "outputs": [
    {
     "data": {
      "text/plain": [
       "<AxesSubplot: >"
      ]
     },
     "execution_count": 28,
     "metadata": {},
     "output_type": "execute_result"
    },
    {
     "data": {
      "image/png": "[encoded data removed]",
      "text/plain": [
       "<Figure size 640x480 with 1 Axes>"
      ]
     },
     "metadata": {},
     "output_type": "display_data"
    }
   ],
   "source": [
    "### Your code goes here\n",
    "df['Color'].value_counts().plot(kind='bar')"
   ]
  },
  {
   "cell_type": "markdown",
   "id": "48e41b0b-9b17-4cf8-8589-8589fa812ea0",
   "metadata": {},
   "source": [
    "<h2 style=\"text-align: left;\"> 🤜🤛 الترابط</h2>"
   ]
  },
  {
   "cell_type": "markdown",
   "id": "26043464-bf73-4f48-9420-1ed6b21cfce6",
   "metadata": {},
   "source": [
    "<h3 style=\"text-align: left;\"> 🎛️ مصفوفة الترابط</h3>"
   ]
  },
  {
   "cell_type": "markdown",
   "id": "d5313009-b66f-47a5-91e3-778e9606f81f",
   "metadata": {
    "ExecuteTime": {
     "end_time": "2018-04-17T17:12:20.272657Z",
     "start_time": "2018-04-17T17:12:20.258621Z"
    },
    "hidden": true
   },
   "source": [
    "Using Pandas it is very easy to calculate the correlations between all features:\n",
    "\n",
    "```python\n",
    "dataframe.corr()\n",
    "```\n",
    "\n",
    "We only want the correlation for features that are not categorical (remember that we consider binary features as categorical).   \n",
    "In our dataset this corresponds to the features Age, KM, Weight, CC and HP.\n",
    "\n",
    "Remember that we can select a subset of a DataFrame like this:\n",
    "```python\n",
    "dataframe[['column1', 'column2', 'column3']]\n",
    "```\n",
    "\n",
    "__Exercise:__ Calculate the correlation matrix for all features that are not categorical. Remember to include `Price` since we also want the correlations between the features and the sales price.\n",
    "\n",
    "<h3 style=\"text-align: left;\"><b>تمرين:</b> احسب مصفوفة الترابط لكل الميزات/المتغيرات الغير نوعية. تذكر أن تضمن في المصفوفة ميزة السعر، لأنه هو المتغير الذي نستهدفه ونريد حساب علاقته مع بقية المتغيرات 📝</h3>"
   ]
  },
  {
   "cell_type": "code",
   "execution_count": 29,
   "id": "bbba3470-967b-49e9-875c-961a71de1f20",
   "metadata": {
    "tags": []
   },
   "outputs": [
    {
     "data": {
      "text/html": [
       "<div>\n",
       "<style scoped>\n",
       "    .dataframe tbody tr th:only-of-type {\n",
       "        vertical-align: middle;\n",
       "    }\n",
       "\n",
       "    .dataframe tbody tr th {\n",
       "        vertical-align: top;\n",
       "    }\n",
       "\n",
       "    .dataframe thead th {\n",
       "        text-align: right;\n",
       "    }\n",
       "</style>\n",
       "<table border=\"1\" class=\"dataframe\">\n",
       "  <thead>\n",
       "    <tr style=\"text-align: right;\">\n",
       "      <th></th>\n",
       "      <th>Make</th>\n",
       "      <th>Year</th>\n",
       "      <th>Color</th>\n",
       "      <th>Options</th>\n",
       "      <th>Engine_Size</th>\n",
       "      <th>Fuel_Type</th>\n",
       "      <th>Mileage</th>\n",
       "      <th>Price</th>\n",
       "      <th>Type</th>\n",
       "    </tr>\n",
       "  </thead>\n",
       "  <tbody>\n",
       "    <tr>\n",
       "      <th>0</th>\n",
       "      <td>Chrysler</td>\n",
       "      <td>2018</td>\n",
       "      <td>Black</td>\n",
       "      <td>Full</td>\n",
       "      <td>5.700000</td>\n",
       "      <td>Gas</td>\n",
       "      <td>103000</td>\n",
       "      <td>114000</td>\n",
       "      <td>C300</td>\n",
       "    </tr>\n",
       "    <tr>\n",
       "      <th>1</th>\n",
       "      <td>Nissan</td>\n",
       "      <td>2019</td>\n",
       "      <td>Silver</td>\n",
       "      <td>Standard</td>\n",
       "      <td>1.500000</td>\n",
       "      <td>Gas</td>\n",
       "      <td>72418</td>\n",
       "      <td>27500</td>\n",
       "      <td>Sunny</td>\n",
       "    </tr>\n",
       "    <tr>\n",
       "      <th>2</th>\n",
       "      <td>Hyundai</td>\n",
       "      <td>2019</td>\n",
       "      <td>Grey</td>\n",
       "      <td>Standard</td>\n",
       "      <td>1.600000</td>\n",
       "      <td>Gas</td>\n",
       "      <td>114154</td>\n",
       "      <td>43000</td>\n",
       "      <td>Elantra</td>\n",
       "    </tr>\n",
       "    <tr>\n",
       "      <th>3</th>\n",
       "      <td>Hyundai</td>\n",
       "      <td>2019</td>\n",
       "      <td>Silver</td>\n",
       "      <td>Semi Full</td>\n",
       "      <td>2.000000</td>\n",
       "      <td>Gas</td>\n",
       "      <td>41912</td>\n",
       "      <td>59500</td>\n",
       "      <td>Elantra</td>\n",
       "    </tr>\n",
       "    <tr>\n",
       "      <th>4</th>\n",
       "      <td>Honda</td>\n",
       "      <td>2018</td>\n",
       "      <td>Navy</td>\n",
       "      <td>Full</td>\n",
       "      <td>1.500000</td>\n",
       "      <td>Gas</td>\n",
       "      <td>39000</td>\n",
       "      <td>72000</td>\n",
       "      <td>Accord</td>\n",
       "    </tr>\n",
       "    <tr>\n",
       "      <th>...</th>\n",
       "      <td>...</td>\n",
       "      <td>...</td>\n",
       "      <td>...</td>\n",
       "      <td>...</td>\n",
       "      <td>...</td>\n",
       "      <td>...</td>\n",
       "      <td>...</td>\n",
       "      <td>...</td>\n",
       "      <td>...</td>\n",
       "    </tr>\n",
       "    <tr>\n",
       "      <th>5647</th>\n",
       "      <td>Kia</td>\n",
       "      <td>2006</td>\n",
       "      <td>Navy</td>\n",
       "      <td>Full</td>\n",
       "      <td>3.500000</td>\n",
       "      <td>Gas</td>\n",
       "      <td>257000</td>\n",
       "      <td>15000</td>\n",
       "      <td>Sorento</td>\n",
       "    </tr>\n",
       "    <tr>\n",
       "      <th>5648</th>\n",
       "      <td>Audi</td>\n",
       "      <td>2015</td>\n",
       "      <td>Silver</td>\n",
       "      <td>Full</td>\n",
       "      <td>3.089695</td>\n",
       "      <td>Gas</td>\n",
       "      <td>77000</td>\n",
       "      <td>75000</td>\n",
       "      <td>A6</td>\n",
       "    </tr>\n",
       "    <tr>\n",
       "      <th>5649</th>\n",
       "      <td>Chevrolet</td>\n",
       "      <td>2010</td>\n",
       "      <td>Silver</td>\n",
       "      <td>Full</td>\n",
       "      <td>3.089695</td>\n",
       "      <td>Gas</td>\n",
       "      <td>150000</td>\n",
       "      <td>53000</td>\n",
       "      <td>Camaro</td>\n",
       "    </tr>\n",
       "    <tr>\n",
       "      <th>5650</th>\n",
       "      <td>Nissan</td>\n",
       "      <td>2011</td>\n",
       "      <td>Silver</td>\n",
       "      <td>Full</td>\n",
       "      <td>2.500000</td>\n",
       "      <td>Gas</td>\n",
       "      <td>18500</td>\n",
       "      <td>22000</td>\n",
       "      <td>Altima</td>\n",
       "    </tr>\n",
       "    <tr>\n",
       "      <th>5651</th>\n",
       "      <td>Cadillac</td>\n",
       "      <td>2013</td>\n",
       "      <td>White</td>\n",
       "      <td>Full</td>\n",
       "      <td>3.600000</td>\n",
       "      <td>Gas</td>\n",
       "      <td>256000</td>\n",
       "      <td>40000</td>\n",
       "      <td>Other</td>\n",
       "    </tr>\n",
       "  </tbody>\n",
       "</table>\n",
       "<p>5652 rows × 9 columns</p>\n",
       "</div>"
      ],
      "text/plain": [
       "           Make  Year   Color    Options  Engine_Size Fuel_Type  Mileage  \\\n",
       "0      Chrysler  2018   Black       Full     5.700000       Gas   103000   \n",
       "1        Nissan  2019  Silver   Standard     1.500000       Gas    72418   \n",
       "2       Hyundai  2019    Grey   Standard     1.600000       Gas   114154   \n",
       "3       Hyundai  2019  Silver  Semi Full     2.000000       Gas    41912   \n",
       "4         Honda  2018    Navy       Full     1.500000       Gas    39000   \n",
       "...         ...   ...     ...        ...          ...       ...      ...   \n",
       "5647        Kia  2006    Navy       Full     3.500000       Gas   257000   \n",
       "5648       Audi  2015  Silver       Full     3.089695       Gas    77000   \n",
       "5649  Chevrolet  2010  Silver       Full     3.089695       Gas   150000   \n",
       "5650     Nissan  2011  Silver       Full     2.500000       Gas    18500   \n",
       "5651   Cadillac  2013   White       Full     3.600000       Gas   256000   \n",
       "\n",
       "       Price     Type  \n",
       "0     114000     C300  \n",
       "1      27500    Sunny  \n",
       "2      43000  Elantra  \n",
       "3      59500  Elantra  \n",
       "4      72000   Accord  \n",
       "...      ...      ...  \n",
       "5647   15000  Sorento  \n",
       "5648   75000       A6  \n",
       "5649   53000   Camaro  \n",
       "5650   22000   Altima  \n",
       "5651   40000    Other  \n",
       "\n",
       "[5652 rows x 9 columns]"
      ]
     },
     "execution_count": 29,
     "metadata": {},
     "output_type": "execute_result"
    }
   ],
   "source": [
    "df"
   ]
  },
  {
   "cell_type": "code",
   "execution_count": 30,
   "id": "fbab907a-e03b-442d-8354-70dc1ac635df",
   "metadata": {
    "ExecuteTime": {
     "end_time": "2018-04-17T18:41:19.762881Z",
     "start_time": "2018-04-17T18:41:19.749872Z"
    },
    "collapsed": false,
    "hidden": true,
    "jupyter": {
     "outputs_hidden": false
    }
   },
   "outputs": [
    {
     "name": "stderr",
     "output_type": "stream",
     "text": [
      "/var/folders/86/6r0hhr297j965f3x7fr1_mdm0000gn/T/ipykernel_56176/1743864691.py:2: FutureWarning: The default value of numeric_only in DataFrame.corr is deprecated. In a future version, it will default to False. Select only valid columns or specify the value of numeric_only to silence this warning.\n",
      "  df.drop(columns=['Color','Fuel_Type']).corr()\n"
     ]
    },
    {
     "data": {
      "text/html": [
       "<div>\n",
       "<style scoped>\n",
       "    .dataframe tbody tr th:only-of-type {\n",
       "        vertical-align: middle;\n",
       "    }\n",
       "\n",
       "    .dataframe tbody tr th {\n",
       "        vertical-align: top;\n",
       "    }\n",
       "\n",
       "    .dataframe thead th {\n",
       "        text-align: right;\n",
       "    }\n",
       "</style>\n",
       "<table border=\"1\" class=\"dataframe\">\n",
       "  <thead>\n",
       "    <tr style=\"text-align: right;\">\n",
       "      <th></th>\n",
       "      <th>Year</th>\n",
       "      <th>Engine_Size</th>\n",
       "      <th>Mileage</th>\n",
       "      <th>Price</th>\n",
       "    </tr>\n",
       "  </thead>\n",
       "  <tbody>\n",
       "    <tr>\n",
       "      <th>Year</th>\n",
       "      <td>1.000000</td>\n",
       "      <td>-0.173295</td>\n",
       "      <td>-0.187956</td>\n",
       "      <td>0.306240</td>\n",
       "    </tr>\n",
       "    <tr>\n",
       "      <th>Engine_Size</th>\n",
       "      <td>-0.173295</td>\n",
       "      <td>1.000000</td>\n",
       "      <td>0.047045</td>\n",
       "      <td>0.294311</td>\n",
       "    </tr>\n",
       "    <tr>\n",
       "      <th>Mileage</th>\n",
       "      <td>-0.187956</td>\n",
       "      <td>0.047045</td>\n",
       "      <td>1.000000</td>\n",
       "      <td>-0.119772</td>\n",
       "    </tr>\n",
       "    <tr>\n",
       "      <th>Price</th>\n",
       "      <td>0.306240</td>\n",
       "      <td>0.294311</td>\n",
       "      <td>-0.119772</td>\n",
       "      <td>1.000000</td>\n",
       "    </tr>\n",
       "  </tbody>\n",
       "</table>\n",
       "</div>"
      ],
      "text/plain": [
       "                 Year  Engine_Size   Mileage     Price\n",
       "Year         1.000000    -0.173295 -0.187956  0.306240\n",
       "Engine_Size -0.173295     1.000000  0.047045  0.294311\n",
       "Mileage     -0.187956     0.047045  1.000000 -0.119772\n",
       "Price        0.306240     0.294311 -0.119772  1.000000"
      ]
     },
     "execution_count": 30,
     "metadata": {},
     "output_type": "execute_result"
    }
   ],
   "source": [
    "### Your code goes here\n",
    "df.drop(columns=['Color','Fuel_Type']).corr()"
   ]
  },
  {
   "cell_type": "markdown",
   "id": "ee158a84-6928-498d-b434-0f04ec21d5f5",
   "metadata": {
    "editable": true,
    "hidden": true
   },
   "source": [
    "**Using Seaborn to enhance our plotting/graphing**\n",
    "\n",
    "We believe that the correlation matrix looks better in color so we plot it using a function called `heatmap` from the library `seaborn`. `seaborn` has some great \"shortcuts\" for providing insight into dataset statistics."
   ]
  },
  {
   "cell_type": "code",
   "execution_count": 31,
   "id": "730e2a3f-e81d-42b5-ab16-b767cd3ee1d2",
   "metadata": {
    "ExecuteTime": {
     "end_time": "2018-04-18T05:48:35.796220Z",
     "start_time": "2018-04-18T05:48:35.343043Z"
    },
    "collapsed": false,
    "hidden": true,
    "jupyter": {
     "outputs_hidden": false
    }
   },
   "outputs": [
    {
     "data": {
      "text/plain": [
       "<AxesSubplot: >"
      ]
     },
     "execution_count": 31,
     "metadata": {},
     "output_type": "execute_result"
    },
    {
     "data": {
      "image/png": "[encoded data removed]",
      "text/plain": [
       "<Figure size 640x480 with 2 Axes>"
      ]
     },
     "metadata": {},
     "output_type": "display_data"
    }
   ],
   "source": [
    "# Run this cell and a very nice matrix will hopefully appear\n",
    "sns.heatmap(df[['Price','Year', 'Mileage', 'Engine_Size']].corr(),annot=True, center=0, cmap='BrBG', annot_kws={\"size\": 14})"
   ]
  },
  {
   "cell_type": "markdown",
   "id": "e843eb7d-4fd1-48d4-a8af-f38d5d662901",
   "metadata": {
    "hidden": true
   },
   "source": [
    "As we expected `Year` have the highest correlation with `Price`, followed by mileage (`KM`) and `Weight`. \n",
    "\n",
    "But, take a closer look at: \n",
    "* The correlation between Year and Mileage.   \n",
    "* The correlation between Engine_Size and Mileage.\n",
    "\n",
    "**ايش الشي الغريب في قيم العلاقات بين هذه المتغيرات؟**"
   ]
  },
  {
   "cell_type": "markdown",
   "id": "2ba457d8-0040-4323-92dc-ba681d1e47f9",
   "metadata": {
    "tags": []
   },
   "source": [
    "<h3 style=\"text-align: left;\"><b>تمرين:</b> ليش الترابط بين السنة والممشى كبير نسبيًا وسالب؟ لكن القيمة بين حجم المحرك والممشى صغيرة؟ هل عندك أية أفكار؟ 📝</h3>"
   ]
  },
  {
   "cell_type": "markdown",
   "id": "b71a4cde-f27a-4c17-88da-a09d7d6c4459",
   "metadata": {
    "tags": []
   },
   "source": [
    "<h3 style=\"text-align: left;\"><b>اكتب إجابتك في هذه الخلية</b></h3>\n",
    "\n",
    "<div style=\"text-align: left;\">:الإجابة -</div>\n",
    "الترابط بين سنة التصنيع والممشى كبير نسبيًا هو أمر طبيعي لأنه كل زاد عمر السيارة، كلما اُستهلكت بشكل أكبر. بينما هو صغير بين حجم المحرك والممشى لأنه ليس بينهم أي ترابط، قدرات السيارة ليس له علاقة مع المسافة التي ستقطعها على مدار فترة استخدامها\n",
    "\n",
    "{اكتب هنا}"
   ]
  },
  {
   "cell_type": "markdown",
   "id": "da3b8cc9-5af8-48ed-8e10-a2d59dac27b7",
   "metadata": {
    "tags": []
   },
   "source": [
    "<h2 style=\"text-align: left;\"> 💎 فوائد مُستنبطة</h2>"
   ]
  },
  {
   "cell_type": "markdown",
   "id": "399d6b58-8b42-411b-a4a9-dc9612bd8297",
   "metadata": {
    "hidden": true
   },
   "source": [
    "In the presentation we said that there are four goals in an EDA.   \n",
    "To sum up the lab so far let's evaluate how well we met those goals:\n",
    "\n",
    "* __Data Insight__:\n",
    "    * We found the relationship between all features and Price\n",
    "        * A key finding is that Year is the feature that by itself is most important\n",
    "    * Your points goes here:\n",
    "    * \n",
    "   \n",
    "     \n",
    "     \n",
    "     \n",
    "* __Data Summary__:\n",
    "    * We calculated the correlation matrix\n",
    "    * Your points goes here:\n",
    "    * \n",
    "    \n",
    "\n",
    "\n",
    "\n",
    "* __List of outliers__:\n",
    "    * Possible outliers found in Mileage feature\n",
    "    * Possible outliers found in price distribution\n",
    "    * Your points goes here:\n",
    "    * \n",
    "   \n",
    "    \n",
    "* __Dataset ready for modeling__:\n",
    "    * We made a dataset free of inconcistencies\n",
    "    * We removed missing values\n",
    "    * We scaled the dataset\n",
    "\n",
    "   \n"
   ]
  },
  {
   "cell_type": "markdown",
   "id": "01717a51-7708-411f-977e-f2cb3de2a184",
   "metadata": {
    "tags": []
   },
   "source": [
    "<h3 style=\"text-align: left;\"><b>تمرين:</b> اكتب فوائد أخرى حصلت من التحليلات اللي قمت فيها فوق. المجال لك تحت إنك تكتشف البيانات بشكل أعمق وتطلع فوائد أخرى. متأكدين إنك بتشوف أشياء في البيانات حتكون رهيبة وجديدة علينا وممكن تشاركها معانا 📝</h3>"
   ]
  },
  {
   "cell_type": "markdown",
   "id": "4ea1e2c0-007b-4cb6-9523-fa9cac91a36a",
   "metadata": {
    "tags": []
   },
   "source": [
    "<h3 style=\"text-align: left;\"><b>اكتب إجابتك في هذه الخلية</b></h3>\n",
    "{اكتب هنا}"
   ]
  },
  {
   "cell_type": "code",
   "execution_count": null,
   "id": "9a2eb762-919d-40e1-905c-a5f08a6dd857",
   "metadata": {},
   "outputs": [],
   "source": []
  },
  {
   "cell_type": "markdown",
   "id": "40682e6a-7eb8-4846-a36a-49909776e0e1",
   "metadata": {},
   "source": [
    "<h2 style=\"text-align: left;\"> 🕸️ نمذجة البيانات</h2>"
   ]
  },
  {
   "cell_type": "markdown",
   "id": "cc0b2e9e-05b9-47fb-87ea-ae8d0ea566d9",
   "metadata": {},
   "source": [
    "بكده نكون انتهينا من مرحلة اكتشاف البيانات، الآن حان وقت النمذجة. حناقش في هذا القسم النقاط التالية\n",
    "\n",
    "* تطوير نموذج مبدئي يكون مرجع لنا\n",
    "* ترميز البيانات\n",
    "* تسوية الخصائص\n",
    "* تقليص الأبعاد\n",
    "* حساب أهمية الميزات من خلال تدريب خوارزمية غابة عشوائية\n",
    "\n",
    "هذا القسم حيكون أغلب الكود مكتوب بما إنه ما اتعمقنا فيه كثير في المحاضرة، اللي عليك هو أن تفهم النتائج وتقيمها "
   ]
  },
  {
   "cell_type": "code",
   "execution_count": 32,
   "id": "7707e850-42b0-4dcd-a0cc-4ece21e527b5",
   "metadata": {
    "tags": []
   },
   "outputs": [
    {
     "data": {
      "text/html": [
       "<div>\n",
       "<style scoped>\n",
       "    .dataframe tbody tr th:only-of-type {\n",
       "        vertical-align: middle;\n",
       "    }\n",
       "\n",
       "    .dataframe tbody tr th {\n",
       "        vertical-align: top;\n",
       "    }\n",
       "\n",
       "    .dataframe thead th {\n",
       "        text-align: right;\n",
       "    }\n",
       "</style>\n",
       "<table border=\"1\" class=\"dataframe\">\n",
       "  <thead>\n",
       "    <tr style=\"text-align: right;\">\n",
       "      <th></th>\n",
       "      <th>Make</th>\n",
       "      <th>Year</th>\n",
       "      <th>Color</th>\n",
       "      <th>Options</th>\n",
       "      <th>Engine_Size</th>\n",
       "      <th>Fuel_Type</th>\n",
       "      <th>Mileage</th>\n",
       "      <th>Price</th>\n",
       "      <th>Type</th>\n",
       "      <th>Age</th>\n",
       "      <th>&gt;=70k</th>\n",
       "    </tr>\n",
       "  </thead>\n",
       "  <tbody>\n",
       "    <tr>\n",
       "      <th>0</th>\n",
       "      <td>Ford</td>\n",
       "      <td>2013</td>\n",
       "      <td>Black</td>\n",
       "      <td>Standard</td>\n",
       "      <td>5.4</td>\n",
       "      <td>Gas</td>\n",
       "      <td>348000</td>\n",
       "      <td>51200.0</td>\n",
       "      <td>Expedition</td>\n",
       "      <td>81.518608</td>\n",
       "      <td>False</td>\n",
       "    </tr>\n",
       "    <tr>\n",
       "      <th>1</th>\n",
       "      <td>Ford</td>\n",
       "      <td>2018</td>\n",
       "      <td>White</td>\n",
       "      <td>Standard</td>\n",
       "      <td>2.0</td>\n",
       "      <td>gas</td>\n",
       "      <td>82000</td>\n",
       "      <td>84750.0</td>\n",
       "      <td>Taurus</td>\n",
       "      <td>73.048917</td>\n",
       "      <td>True</td>\n",
       "    </tr>\n",
       "    <tr>\n",
       "      <th>2</th>\n",
       "      <td>Ford</td>\n",
       "      <td>2016</td>\n",
       "      <td>White</td>\n",
       "      <td>Full</td>\n",
       "      <td>3.5</td>\n",
       "      <td>gas</td>\n",
       "      <td>104000</td>\n",
       "      <td>73400.0</td>\n",
       "      <td>Expedition</td>\n",
       "      <td>103.506157</td>\n",
       "      <td>True</td>\n",
       "    </tr>\n",
       "    <tr>\n",
       "      <th>3</th>\n",
       "      <td>Ford</td>\n",
       "      <td>2016</td>\n",
       "      <td>Red</td>\n",
       "      <td>Full</td>\n",
       "      <td>NaN</td>\n",
       "      <td>gas</td>\n",
       "      <td>93000</td>\n",
       "      <td>82900.0</td>\n",
       "      <td>Explorer</td>\n",
       "      <td>66.470152</td>\n",
       "      <td>True</td>\n",
       "    </tr>\n",
       "    <tr>\n",
       "      <th>4</th>\n",
       "      <td>Ford</td>\n",
       "      <td>2017</td>\n",
       "      <td>White</td>\n",
       "      <td>Full</td>\n",
       "      <td>NaN</td>\n",
       "      <td>Gas</td>\n",
       "      <td>34000</td>\n",
       "      <td>69425.0</td>\n",
       "      <td>Expedition</td>\n",
       "      <td>46.452951</td>\n",
       "      <td>False</td>\n",
       "    </tr>\n",
       "  </tbody>\n",
       "</table>\n",
       "</div>"
      ],
      "text/plain": [
       "   Make  Year  Color   Options  Engine_Size Fuel_Type  Mileage    Price  \\\n",
       "0  Ford  2013  Black  Standard          5.4       Gas   348000  51200.0   \n",
       "1  Ford  2018  White  Standard          2.0       gas    82000  84750.0   \n",
       "2  Ford  2016  White      Full          3.5       gas   104000  73400.0   \n",
       "3  Ford  2016    Red      Full          NaN       gas    93000  82900.0   \n",
       "4  Ford  2017  White      Full          NaN       Gas    34000  69425.0   \n",
       "\n",
       "         Type         Age  >=70k  \n",
       "0  Expedition   81.518608  False  \n",
       "1      Taurus   73.048917   True  \n",
       "2  Expedition  103.506157   True  \n",
       "3    Explorer   66.470152   True  \n",
       "4  Expedition   46.452951  False  "
      ]
     },
     "execution_count": 32,
     "metadata": {},
     "output_type": "execute_result"
    }
   ],
   "source": [
    "df = read_ford_used_cars_dataset()\n",
    "df.head()"
   ]
  },
  {
   "cell_type": "markdown",
   "id": "e8bea9c4-84e9-401f-88d2-6db7eca027d8",
   "metadata": {},
   "source": [
    "### Linear Regression with one feature"
   ]
  },
  {
   "cell_type": "code",
   "execution_count": 33,
   "id": "07875b91-c5f8-48db-990b-8bad25054e9d",
   "metadata": {
    "tags": []
   },
   "outputs": [
    {
     "name": "stdout",
     "output_type": "stream",
     "text": [
      "\n",
      "****************\n",
      "R2 Score: 0.596\n",
      "****************\n"
     ]
    },
    {
     "data": {
      "image/png": "[encoded data removed]",
      "text/plain": [
       "<Figure size 1800x500 with 3 Axes>"
      ]
     },
     "metadata": {},
     "output_type": "display_data"
    }
   ],
   "source": [
    "from sklearn.linear_model import LinearRegression\n",
    "from sklearn.model_selection import train_test_split\n",
    "from sklearn.ensemble import RandomForestRegressor\n",
    "\n",
    "#Based on the scatter plots it seems like Age is the single most important feature\n",
    "features = ['Age']\n",
    "\n",
    "# Create train and test data\n",
    "X = df[features].values.reshape(-1,1)\n",
    "y = df['Price'].values\n",
    "X_train, X_test, y_train, y_test = train_test_split(X, y, random_state=0)\n",
    "\n",
    "# Initialize linear regressor model\n",
    "# 'Train' the model\n",
    "# Predict price based on data in test - set\n",
    "# LinReg = RandomForestRegressor(n_estimators=10)\n",
    "LinReg = LinearRegression()\n",
    "LinReg.fit(X_train, y_train)\n",
    "y_pred = LinReg.predict(X_test)\n",
    "abs_error = np.abs(y_pred - y_test)\n",
    "print('\\n****************\\nR2 Score: {:.3f}\\n****************'.format( LinReg.score(X_test, y_test)))\n",
    "\n",
    "fig, (ax1, ax2, ax3) = plt.subplots(1,3,figsize=(18,5))\n",
    "ax1.plot(X_train[:,0], y_train, 'o')\n",
    "ax1.plot(X_test[:,0], y_pred, 'r.')\n",
    "ax1.set_xlabel('Age')\n",
    "ax1.set_ylabel('Price')\n",
    "ax1.set_title('Predictions and actual data')\n",
    "ax2.plot(np.arange(len(y_pred)), abs_error, 'x')\n",
    "ax2.set_title('The absolute error in the predictions')\n",
    "ax3.hist(abs_error)\n",
    "ax3.set_title('Distribution of the absolute error')\n",
    "plt.show()"
   ]
  },
  {
   "cell_type": "markdown",
   "id": "96c4704f-304d-4bd8-85ee-a67e9072a726",
   "metadata": {
    "heading_collapsed": true,
    "hidden": true,
    "tags": []
   },
   "source": [
    "### One hot encoding and feature scaling"
   ]
  },
  {
   "cell_type": "markdown",
   "id": "30df00f3-fa8c-4359-ab54-2cfbb8179eb3",
   "metadata": {
    "hidden": true
   },
   "source": [
    "Until now we have not encoded the feature FuelType, but before we can use this feature as input to a model or a dimensionality reduction we need to apply one hot encoding. \n",
    "Running the next cell will store an encoded version of the dataset in a new dataframe called `df_ohe`."
   ]
  },
  {
   "cell_type": "code",
   "execution_count": 34,
   "id": "4dc114c1-1d49-4254-bfac-b3e00be86878",
   "metadata": {
    "ExecuteTime": {
     "end_time": "2018-04-23T15:48:50.873331Z",
     "start_time": "2018-04-23T15:48:50.835201Z"
    },
    "collapsed": false,
    "hidden": true,
    "jupyter": {
     "outputs_hidden": false
    },
    "tags": []
   },
   "outputs": [],
   "source": [
    "df_ohe = df.copy(deep=True)\n",
    "df_ohe['Type'] = df_ohe['Type'].astype('category')\n",
    "df_ohe['Options'] = df_ohe['Options'].astype('category')\n",
    "df_ohe['Fuel_Type'] = df_ohe['Fuel_Type'].astype('category')\n",
    "df_ohe = pd.get_dummies(df_ohe)"
   ]
  },
  {
   "cell_type": "markdown",
   "id": "7ba69970-0fb6-4a43-a077-ee74cc8e32f3",
   "metadata": {
    "hidden": true
   },
   "source": [
    "__Exercise__: Print the first 15 rows of the encoded dataframe to see how FuelType is encoded"
   ]
  },
  {
   "cell_type": "code",
   "execution_count": 35,
   "id": "91e5e866-57ec-43e2-92c9-483a852a7aa0",
   "metadata": {
    "ExecuteTime": {
     "end_time": "2018-04-18T06:03:52.266684Z",
     "start_time": "2018-04-18T06:03:52.264678Z"
    },
    "collapsed": false,
    "hidden": true,
    "jupyter": {
     "outputs_hidden": false
    }
   },
   "outputs": [
    {
     "data": {
      "text/html": [
       "<div>\n",
       "<style scoped>\n",
       "    .dataframe tbody tr th:only-of-type {\n",
       "        vertical-align: middle;\n",
       "    }\n",
       "\n",
       "    .dataframe tbody tr th {\n",
       "        vertical-align: top;\n",
       "    }\n",
       "\n",
       "    .dataframe thead th {\n",
       "        text-align: right;\n",
       "    }\n",
       "</style>\n",
       "<table border=\"1\" class=\"dataframe\">\n",
       "  <thead>\n",
       "    <tr style=\"text-align: right;\">\n",
       "      <th></th>\n",
       "      <th>Year</th>\n",
       "      <th>Engine_Size</th>\n",
       "      <th>Mileage</th>\n",
       "      <th>Price</th>\n",
       "      <th>Age</th>\n",
       "      <th>&gt;=70k</th>\n",
       "      <th>Make_Ford</th>\n",
       "      <th>Color_Another Color</th>\n",
       "      <th>Color_Black</th>\n",
       "      <th>Color_Blue</th>\n",
       "      <th>...</th>\n",
       "      <th>Type_Focus</th>\n",
       "      <th>Type_Fusion</th>\n",
       "      <th>Type_Marquis</th>\n",
       "      <th>Type_Mustang</th>\n",
       "      <th>Type_Other</th>\n",
       "      <th>Type_Ranger</th>\n",
       "      <th>Type_Taurus</th>\n",
       "      <th>Type_Van</th>\n",
       "      <th>Type_Vego</th>\n",
       "      <th>Type_Victoria</th>\n",
       "    </tr>\n",
       "  </thead>\n",
       "  <tbody>\n",
       "    <tr>\n",
       "      <th>0</th>\n",
       "      <td>2013</td>\n",
       "      <td>5.4</td>\n",
       "      <td>348000</td>\n",
       "      <td>51200.0</td>\n",
       "      <td>81.518608</td>\n",
       "      <td>False</td>\n",
       "      <td>1</td>\n",
       "      <td>0</td>\n",
       "      <td>1</td>\n",
       "      <td>0</td>\n",
       "      <td>...</td>\n",
       "      <td>0</td>\n",
       "      <td>0</td>\n",
       "      <td>0</td>\n",
       "      <td>0</td>\n",
       "      <td>0</td>\n",
       "      <td>0</td>\n",
       "      <td>0</td>\n",
       "      <td>0</td>\n",
       "      <td>0</td>\n",
       "      <td>0</td>\n",
       "    </tr>\n",
       "    <tr>\n",
       "      <th>1</th>\n",
       "      <td>2018</td>\n",
       "      <td>2.0</td>\n",
       "      <td>82000</td>\n",
       "      <td>84750.0</td>\n",
       "      <td>73.048917</td>\n",
       "      <td>True</td>\n",
       "      <td>1</td>\n",
       "      <td>0</td>\n",
       "      <td>0</td>\n",
       "      <td>0</td>\n",
       "      <td>...</td>\n",
       "      <td>0</td>\n",
       "      <td>0</td>\n",
       "      <td>0</td>\n",
       "      <td>0</td>\n",
       "      <td>0</td>\n",
       "      <td>0</td>\n",
       "      <td>1</td>\n",
       "      <td>0</td>\n",
       "      <td>0</td>\n",
       "      <td>0</td>\n",
       "    </tr>\n",
       "    <tr>\n",
       "      <th>2</th>\n",
       "      <td>2016</td>\n",
       "      <td>3.5</td>\n",
       "      <td>104000</td>\n",
       "      <td>73400.0</td>\n",
       "      <td>103.506157</td>\n",
       "      <td>True</td>\n",
       "      <td>1</td>\n",
       "      <td>0</td>\n",
       "      <td>0</td>\n",
       "      <td>0</td>\n",
       "      <td>...</td>\n",
       "      <td>0</td>\n",
       "      <td>0</td>\n",
       "      <td>0</td>\n",
       "      <td>0</td>\n",
       "      <td>0</td>\n",
       "      <td>0</td>\n",
       "      <td>0</td>\n",
       "      <td>0</td>\n",
       "      <td>0</td>\n",
       "      <td>0</td>\n",
       "    </tr>\n",
       "    <tr>\n",
       "      <th>3</th>\n",
       "      <td>2016</td>\n",
       "      <td>NaN</td>\n",
       "      <td>93000</td>\n",
       "      <td>82900.0</td>\n",
       "      <td>66.470152</td>\n",
       "      <td>True</td>\n",
       "      <td>1</td>\n",
       "      <td>0</td>\n",
       "      <td>0</td>\n",
       "      <td>0</td>\n",
       "      <td>...</td>\n",
       "      <td>0</td>\n",
       "      <td>0</td>\n",
       "      <td>0</td>\n",
       "      <td>0</td>\n",
       "      <td>0</td>\n",
       "      <td>0</td>\n",
       "      <td>0</td>\n",
       "      <td>0</td>\n",
       "      <td>0</td>\n",
       "      <td>0</td>\n",
       "    </tr>\n",
       "    <tr>\n",
       "      <th>4</th>\n",
       "      <td>2017</td>\n",
       "      <td>NaN</td>\n",
       "      <td>34000</td>\n",
       "      <td>69425.0</td>\n",
       "      <td>46.452951</td>\n",
       "      <td>False</td>\n",
       "      <td>1</td>\n",
       "      <td>0</td>\n",
       "      <td>0</td>\n",
       "      <td>0</td>\n",
       "      <td>...</td>\n",
       "      <td>0</td>\n",
       "      <td>0</td>\n",
       "      <td>0</td>\n",
       "      <td>0</td>\n",
       "      <td>0</td>\n",
       "      <td>0</td>\n",
       "      <td>0</td>\n",
       "      <td>0</td>\n",
       "      <td>0</td>\n",
       "      <td>0</td>\n",
       "    </tr>\n",
       "    <tr>\n",
       "      <th>5</th>\n",
       "      <td>2018</td>\n",
       "      <td>NaN</td>\n",
       "      <td>100000</td>\n",
       "      <td>84150.0</td>\n",
       "      <td>32.947363</td>\n",
       "      <td>True</td>\n",
       "      <td>1</td>\n",
       "      <td>0</td>\n",
       "      <td>1</td>\n",
       "      <td>0</td>\n",
       "      <td>...</td>\n",
       "      <td>0</td>\n",
       "      <td>0</td>\n",
       "      <td>0</td>\n",
       "      <td>0</td>\n",
       "      <td>0</td>\n",
       "      <td>0</td>\n",
       "      <td>1</td>\n",
       "      <td>0</td>\n",
       "      <td>0</td>\n",
       "      <td>0</td>\n",
       "    </tr>\n",
       "    <tr>\n",
       "      <th>6</th>\n",
       "      <td>2015</td>\n",
       "      <td>NaN</td>\n",
       "      <td>103000</td>\n",
       "      <td>66650.0</td>\n",
       "      <td>90.922429</td>\n",
       "      <td>False</td>\n",
       "      <td>1</td>\n",
       "      <td>0</td>\n",
       "      <td>1</td>\n",
       "      <td>0</td>\n",
       "      <td>...</td>\n",
       "      <td>0</td>\n",
       "      <td>0</td>\n",
       "      <td>0</td>\n",
       "      <td>0</td>\n",
       "      <td>0</td>\n",
       "      <td>0</td>\n",
       "      <td>1</td>\n",
       "      <td>0</td>\n",
       "      <td>0</td>\n",
       "      <td>0</td>\n",
       "    </tr>\n",
       "    <tr>\n",
       "      <th>7</th>\n",
       "      <td>2016</td>\n",
       "      <td>3.5</td>\n",
       "      <td>136000</td>\n",
       "      <td>81050.0</td>\n",
       "      <td>109.349147</td>\n",
       "      <td>True</td>\n",
       "      <td>1</td>\n",
       "      <td>1</td>\n",
       "      <td>0</td>\n",
       "      <td>0</td>\n",
       "      <td>...</td>\n",
       "      <td>0</td>\n",
       "      <td>0</td>\n",
       "      <td>0</td>\n",
       "      <td>0</td>\n",
       "      <td>0</td>\n",
       "      <td>0</td>\n",
       "      <td>1</td>\n",
       "      <td>0</td>\n",
       "      <td>0</td>\n",
       "      <td>0</td>\n",
       "    </tr>\n",
       "    <tr>\n",
       "      <th>8</th>\n",
       "      <td>2012</td>\n",
       "      <td>3.0</td>\n",
       "      <td>352000</td>\n",
       "      <td>36350.0</td>\n",
       "      <td>121.987159</td>\n",
       "      <td>False</td>\n",
       "      <td>1</td>\n",
       "      <td>0</td>\n",
       "      <td>1</td>\n",
       "      <td>0</td>\n",
       "      <td>...</td>\n",
       "      <td>0</td>\n",
       "      <td>0</td>\n",
       "      <td>0</td>\n",
       "      <td>0</td>\n",
       "      <td>0</td>\n",
       "      <td>0</td>\n",
       "      <td>0</td>\n",
       "      <td>0</td>\n",
       "      <td>0</td>\n",
       "      <td>0</td>\n",
       "    </tr>\n",
       "    <tr>\n",
       "      <th>9</th>\n",
       "      <td>2016</td>\n",
       "      <td>NaN</td>\n",
       "      <td>112000</td>\n",
       "      <td>74000.0</td>\n",
       "      <td>70.568791</td>\n",
       "      <td>True</td>\n",
       "      <td>1</td>\n",
       "      <td>0</td>\n",
       "      <td>0</td>\n",
       "      <td>0</td>\n",
       "      <td>...</td>\n",
       "      <td>0</td>\n",
       "      <td>0</td>\n",
       "      <td>0</td>\n",
       "      <td>0</td>\n",
       "      <td>0</td>\n",
       "      <td>0</td>\n",
       "      <td>0</td>\n",
       "      <td>0</td>\n",
       "      <td>0</td>\n",
       "      <td>0</td>\n",
       "    </tr>\n",
       "    <tr>\n",
       "      <th>10</th>\n",
       "      <td>2018</td>\n",
       "      <td>2.0</td>\n",
       "      <td>71000</td>\n",
       "      <td>84750.0</td>\n",
       "      <td>85.507810</td>\n",
       "      <td>True</td>\n",
       "      <td>1</td>\n",
       "      <td>0</td>\n",
       "      <td>0</td>\n",
       "      <td>0</td>\n",
       "      <td>...</td>\n",
       "      <td>0</td>\n",
       "      <td>0</td>\n",
       "      <td>0</td>\n",
       "      <td>0</td>\n",
       "      <td>0</td>\n",
       "      <td>0</td>\n",
       "      <td>1</td>\n",
       "      <td>0</td>\n",
       "      <td>0</td>\n",
       "      <td>0</td>\n",
       "    </tr>\n",
       "    <tr>\n",
       "      <th>11</th>\n",
       "      <td>2012</td>\n",
       "      <td>3.5</td>\n",
       "      <td>277000</td>\n",
       "      <td>36750.0</td>\n",
       "      <td>140.846377</td>\n",
       "      <td>False</td>\n",
       "      <td>1</td>\n",
       "      <td>0</td>\n",
       "      <td>0</td>\n",
       "      <td>0</td>\n",
       "      <td>...</td>\n",
       "      <td>0</td>\n",
       "      <td>0</td>\n",
       "      <td>0</td>\n",
       "      <td>0</td>\n",
       "      <td>0</td>\n",
       "      <td>0</td>\n",
       "      <td>0</td>\n",
       "      <td>0</td>\n",
       "      <td>0</td>\n",
       "      <td>0</td>\n",
       "    </tr>\n",
       "    <tr>\n",
       "      <th>12</th>\n",
       "      <td>2019</td>\n",
       "      <td>2.0</td>\n",
       "      <td>49000</td>\n",
       "      <td>89375.0</td>\n",
       "      <td>71.312092</td>\n",
       "      <td>True</td>\n",
       "      <td>1</td>\n",
       "      <td>0</td>\n",
       "      <td>1</td>\n",
       "      <td>0</td>\n",
       "      <td>...</td>\n",
       "      <td>0</td>\n",
       "      <td>0</td>\n",
       "      <td>0</td>\n",
       "      <td>0</td>\n",
       "      <td>0</td>\n",
       "      <td>0</td>\n",
       "      <td>1</td>\n",
       "      <td>0</td>\n",
       "      <td>0</td>\n",
       "      <td>0</td>\n",
       "    </tr>\n",
       "    <tr>\n",
       "      <th>13</th>\n",
       "      <td>2013</td>\n",
       "      <td>5.4</td>\n",
       "      <td>235000</td>\n",
       "      <td>46200.0</td>\n",
       "      <td>102.753874</td>\n",
       "      <td>False</td>\n",
       "      <td>1</td>\n",
       "      <td>0</td>\n",
       "      <td>0</td>\n",
       "      <td>0</td>\n",
       "      <td>...</td>\n",
       "      <td>0</td>\n",
       "      <td>0</td>\n",
       "      <td>0</td>\n",
       "      <td>0</td>\n",
       "      <td>0</td>\n",
       "      <td>0</td>\n",
       "      <td>0</td>\n",
       "      <td>0</td>\n",
       "      <td>0</td>\n",
       "      <td>0</td>\n",
       "    </tr>\n",
       "    <tr>\n",
       "      <th>14</th>\n",
       "      <td>2017</td>\n",
       "      <td>2.5</td>\n",
       "      <td>110000</td>\n",
       "      <td>78175.0</td>\n",
       "      <td>87.654065</td>\n",
       "      <td>True</td>\n",
       "      <td>1</td>\n",
       "      <td>0</td>\n",
       "      <td>0</td>\n",
       "      <td>0</td>\n",
       "      <td>...</td>\n",
       "      <td>0</td>\n",
       "      <td>0</td>\n",
       "      <td>0</td>\n",
       "      <td>0</td>\n",
       "      <td>0</td>\n",
       "      <td>0</td>\n",
       "      <td>0</td>\n",
       "      <td>0</td>\n",
       "      <td>0</td>\n",
       "      <td>0</td>\n",
       "    </tr>\n",
       "  </tbody>\n",
       "</table>\n",
       "<p>15 rows × 44 columns</p>\n",
       "</div>"
      ],
      "text/plain": [
       "    Year  Engine_Size  Mileage    Price         Age  >=70k  Make_Ford  \\\n",
       "0   2013          5.4   348000  51200.0   81.518608  False          1   \n",
       "1   2018          2.0    82000  84750.0   73.048917   True          1   \n",
       "2   2016          3.5   104000  73400.0  103.506157   True          1   \n",
       "3   2016          NaN    93000  82900.0   66.470152   True          1   \n",
       "4   2017          NaN    34000  69425.0   46.452951  False          1   \n",
       "5   2018          NaN   100000  84150.0   32.947363   True          1   \n",
       "6   2015          NaN   103000  66650.0   90.922429  False          1   \n",
       "7   2016          3.5   136000  81050.0  109.349147   True          1   \n",
       "8   2012          3.0   352000  36350.0  121.987159  False          1   \n",
       "9   2016          NaN   112000  74000.0   70.568791   True          1   \n",
       "10  2018          2.0    71000  84750.0   85.507810   True          1   \n",
       "11  2012          3.5   277000  36750.0  140.846377  False          1   \n",
       "12  2019          2.0    49000  89375.0   71.312092   True          1   \n",
       "13  2013          5.4   235000  46200.0  102.753874  False          1   \n",
       "14  2017          2.5   110000  78175.0   87.654065   True          1   \n",
       "\n",
       "    Color_Another Color  Color_Black  Color_Blue  ...  Type_Focus  \\\n",
       "0                     0            1           0  ...           0   \n",
       "1                     0            0           0  ...           0   \n",
       "2                     0            0           0  ...           0   \n",
       "3                     0            0           0  ...           0   \n",
       "4                     0            0           0  ...           0   \n",
       "5                     0            1           0  ...           0   \n",
       "6                     0            1           0  ...           0   \n",
       "7                     1            0           0  ...           0   \n",
       "8                     0            1           0  ...           0   \n",
       "9                     0            0           0  ...           0   \n",
       "10                    0            0           0  ...           0   \n",
       "11                    0            0           0  ...           0   \n",
       "12                    0            1           0  ...           0   \n",
       "13                    0            0           0  ...           0   \n",
       "14                    0            0           0  ...           0   \n",
       "\n",
       "    Type_Fusion  Type_Marquis  Type_Mustang  Type_Other  Type_Ranger  \\\n",
       "0             0             0             0           0            0   \n",
       "1             0             0             0           0            0   \n",
       "2             0             0             0           0            0   \n",
       "3             0             0             0           0            0   \n",
       "4             0             0             0           0            0   \n",
       "5             0             0             0           0            0   \n",
       "6             0             0             0           0            0   \n",
       "7             0             0             0           0            0   \n",
       "8             0             0             0           0            0   \n",
       "9             0             0             0           0            0   \n",
       "10            0             0             0           0            0   \n",
       "11            0             0             0           0            0   \n",
       "12            0             0             0           0            0   \n",
       "13            0             0             0           0            0   \n",
       "14            0             0             0           0            0   \n",
       "\n",
       "    Type_Taurus  Type_Van  Type_Vego  Type_Victoria  \n",
       "0             0         0          0              0  \n",
       "1             1         0          0              0  \n",
       "2             0         0          0              0  \n",
       "3             0         0          0              0  \n",
       "4             0         0          0              0  \n",
       "5             1         0          0              0  \n",
       "6             1         0          0              0  \n",
       "7             1         0          0              0  \n",
       "8             0         0          0              0  \n",
       "9             0         0          0              0  \n",
       "10            1         0          0              0  \n",
       "11            0         0          0              0  \n",
       "12            1         0          0              0  \n",
       "13            0         0          0              0  \n",
       "14            0         0          0              0  \n",
       "\n",
       "[15 rows x 44 columns]"
      ]
     },
     "execution_count": 35,
     "metadata": {},
     "output_type": "execute_result"
    }
   ],
   "source": [
    "### Your code goes here\n",
    "df_ohe.head(15)"
   ]
  },
  {
   "cell_type": "markdown",
   "id": "71dbd9cc-bc8d-442a-9212-f92bdeb52504",
   "metadata": {
    "hidden": true
   },
   "source": [
    "To be prepared for any model in the modelling phase, we also make a scaled dataset.    \n",
    "The code below makes a new dataframe called `df_ohe_scaled` "
   ]
  },
  {
   "cell_type": "code",
   "execution_count": 36,
   "id": "a8068361-ec49-4996-b1c2-5e6eb999f4d7",
   "metadata": {
    "ExecuteTime": {
     "end_time": "2018-04-23T15:49:20.536029Z",
     "start_time": "2018-04-23T15:49:20.083770Z"
    },
    "collapsed": false,
    "hidden": true,
    "jupyter": {
     "outputs_hidden": false
    },
    "tags": []
   },
   "outputs": [],
   "source": [
    "from sklearn.preprocessing import StandardScaler\n",
    "scaler = StandardScaler()\n",
    "columns_to_scale = ['Year', 'Mileage', 'Engine_Size']\n",
    "df_ohe_scaled = df_ohe.dropna().copy()\n",
    "df_ohe_scaled[columns_to_scale] = scaler.fit_transform(df_ohe.dropna()[columns_to_scale])"
   ]
  },
  {
   "cell_type": "markdown",
   "id": "e0fa9563-6d48-44cb-84cd-4de9648348ea",
   "metadata": {
    "hidden": true
   },
   "source": [
    "__Exercise__: Print the first 15 rows of the scaled dataframe to see that alle features are in the same range. "
   ]
  },
  {
   "cell_type": "code",
   "execution_count": 37,
   "id": "6e3584d2-41ec-4c0b-a86e-1dfd44345f67",
   "metadata": {
    "ExecuteTime": {
     "end_time": "2018-04-18T06:03:52.266684Z",
     "start_time": "2018-04-18T06:03:52.264678Z"
    },
    "collapsed": false,
    "hidden": true,
    "jupyter": {
     "outputs_hidden": false
    }
   },
   "outputs": [
    {
     "data": {
      "text/html": [
       "<div>\n",
       "<style scoped>\n",
       "    .dataframe tbody tr th:only-of-type {\n",
       "        vertical-align: middle;\n",
       "    }\n",
       "\n",
       "    .dataframe tbody tr th {\n",
       "        vertical-align: top;\n",
       "    }\n",
       "\n",
       "    .dataframe thead th {\n",
       "        text-align: right;\n",
       "    }\n",
       "</style>\n",
       "<table border=\"1\" class=\"dataframe\">\n",
       "  <thead>\n",
       "    <tr style=\"text-align: right;\">\n",
       "      <th></th>\n",
       "      <th>Year</th>\n",
       "      <th>Engine_Size</th>\n",
       "      <th>Mileage</th>\n",
       "      <th>Price</th>\n",
       "      <th>Age</th>\n",
       "      <th>&gt;=70k</th>\n",
       "      <th>Make_Ford</th>\n",
       "      <th>Color_Another Color</th>\n",
       "      <th>Color_Black</th>\n",
       "      <th>Color_Blue</th>\n",
       "      <th>...</th>\n",
       "      <th>Type_Focus</th>\n",
       "      <th>Type_Fusion</th>\n",
       "      <th>Type_Marquis</th>\n",
       "      <th>Type_Mustang</th>\n",
       "      <th>Type_Other</th>\n",
       "      <th>Type_Ranger</th>\n",
       "      <th>Type_Taurus</th>\n",
       "      <th>Type_Van</th>\n",
       "      <th>Type_Vego</th>\n",
       "      <th>Type_Victoria</th>\n",
       "    </tr>\n",
       "  </thead>\n",
       "  <tbody>\n",
       "    <tr>\n",
       "      <th>0</th>\n",
       "      <td>-0.311613</td>\n",
       "      <td>1.338945</td>\n",
       "      <td>1.975521</td>\n",
       "      <td>51200.0</td>\n",
       "      <td>81.518608</td>\n",
       "      <td>False</td>\n",
       "      <td>1</td>\n",
       "      <td>0</td>\n",
       "      <td>1</td>\n",
       "      <td>0</td>\n",
       "      <td>...</td>\n",
       "      <td>0</td>\n",
       "      <td>0</td>\n",
       "      <td>0</td>\n",
       "      <td>0</td>\n",
       "      <td>0</td>\n",
       "      <td>0</td>\n",
       "      <td>0</td>\n",
       "      <td>0</td>\n",
       "      <td>0</td>\n",
       "      <td>0</td>\n",
       "    </tr>\n",
       "    <tr>\n",
       "      <th>1</th>\n",
       "      <td>0.964094</td>\n",
       "      <td>-1.206009</td>\n",
       "      <td>-0.580992</td>\n",
       "      <td>84750.0</td>\n",
       "      <td>73.048917</td>\n",
       "      <td>True</td>\n",
       "      <td>1</td>\n",
       "      <td>0</td>\n",
       "      <td>0</td>\n",
       "      <td>0</td>\n",
       "      <td>...</td>\n",
       "      <td>0</td>\n",
       "      <td>0</td>\n",
       "      <td>0</td>\n",
       "      <td>0</td>\n",
       "      <td>0</td>\n",
       "      <td>0</td>\n",
       "      <td>1</td>\n",
       "      <td>0</td>\n",
       "      <td>0</td>\n",
       "      <td>0</td>\n",
       "    </tr>\n",
       "    <tr>\n",
       "      <th>2</th>\n",
       "      <td>0.453811</td>\n",
       "      <td>-0.083235</td>\n",
       "      <td>-0.369551</td>\n",
       "      <td>73400.0</td>\n",
       "      <td>103.506157</td>\n",
       "      <td>True</td>\n",
       "      <td>1</td>\n",
       "      <td>0</td>\n",
       "      <td>0</td>\n",
       "      <td>0</td>\n",
       "      <td>...</td>\n",
       "      <td>0</td>\n",
       "      <td>0</td>\n",
       "      <td>0</td>\n",
       "      <td>0</td>\n",
       "      <td>0</td>\n",
       "      <td>0</td>\n",
       "      <td>0</td>\n",
       "      <td>0</td>\n",
       "      <td>0</td>\n",
       "      <td>0</td>\n",
       "    </tr>\n",
       "    <tr>\n",
       "      <th>7</th>\n",
       "      <td>0.453811</td>\n",
       "      <td>-0.083235</td>\n",
       "      <td>-0.062001</td>\n",
       "      <td>81050.0</td>\n",
       "      <td>109.349147</td>\n",
       "      <td>True</td>\n",
       "      <td>1</td>\n",
       "      <td>1</td>\n",
       "      <td>0</td>\n",
       "      <td>0</td>\n",
       "      <td>...</td>\n",
       "      <td>0</td>\n",
       "      <td>0</td>\n",
       "      <td>0</td>\n",
       "      <td>0</td>\n",
       "      <td>0</td>\n",
       "      <td>0</td>\n",
       "      <td>1</td>\n",
       "      <td>0</td>\n",
       "      <td>0</td>\n",
       "      <td>0</td>\n",
       "    </tr>\n",
       "    <tr>\n",
       "      <th>8</th>\n",
       "      <td>-0.566754</td>\n",
       "      <td>-0.457493</td>\n",
       "      <td>2.013965</td>\n",
       "      <td>36350.0</td>\n",
       "      <td>121.987159</td>\n",
       "      <td>False</td>\n",
       "      <td>1</td>\n",
       "      <td>0</td>\n",
       "      <td>1</td>\n",
       "      <td>0</td>\n",
       "      <td>...</td>\n",
       "      <td>0</td>\n",
       "      <td>0</td>\n",
       "      <td>0</td>\n",
       "      <td>0</td>\n",
       "      <td>0</td>\n",
       "      <td>0</td>\n",
       "      <td>0</td>\n",
       "      <td>0</td>\n",
       "      <td>0</td>\n",
       "      <td>0</td>\n",
       "    </tr>\n",
       "    <tr>\n",
       "      <th>10</th>\n",
       "      <td>0.964094</td>\n",
       "      <td>-1.206009</td>\n",
       "      <td>-0.686713</td>\n",
       "      <td>84750.0</td>\n",
       "      <td>85.507810</td>\n",
       "      <td>True</td>\n",
       "      <td>1</td>\n",
       "      <td>0</td>\n",
       "      <td>0</td>\n",
       "      <td>0</td>\n",
       "      <td>...</td>\n",
       "      <td>0</td>\n",
       "      <td>0</td>\n",
       "      <td>0</td>\n",
       "      <td>0</td>\n",
       "      <td>0</td>\n",
       "      <td>0</td>\n",
       "      <td>1</td>\n",
       "      <td>0</td>\n",
       "      <td>0</td>\n",
       "      <td>0</td>\n",
       "    </tr>\n",
       "    <tr>\n",
       "      <th>11</th>\n",
       "      <td>-0.566754</td>\n",
       "      <td>-0.083235</td>\n",
       "      <td>1.293144</td>\n",
       "      <td>36750.0</td>\n",
       "      <td>140.846377</td>\n",
       "      <td>False</td>\n",
       "      <td>1</td>\n",
       "      <td>0</td>\n",
       "      <td>0</td>\n",
       "      <td>0</td>\n",
       "      <td>...</td>\n",
       "      <td>0</td>\n",
       "      <td>0</td>\n",
       "      <td>0</td>\n",
       "      <td>0</td>\n",
       "      <td>0</td>\n",
       "      <td>0</td>\n",
       "      <td>0</td>\n",
       "      <td>0</td>\n",
       "      <td>0</td>\n",
       "      <td>0</td>\n",
       "    </tr>\n",
       "    <tr>\n",
       "      <th>12</th>\n",
       "      <td>1.219235</td>\n",
       "      <td>-1.206009</td>\n",
       "      <td>-0.898154</td>\n",
       "      <td>89375.0</td>\n",
       "      <td>71.312092</td>\n",
       "      <td>True</td>\n",
       "      <td>1</td>\n",
       "      <td>0</td>\n",
       "      <td>1</td>\n",
       "      <td>0</td>\n",
       "      <td>...</td>\n",
       "      <td>0</td>\n",
       "      <td>0</td>\n",
       "      <td>0</td>\n",
       "      <td>0</td>\n",
       "      <td>0</td>\n",
       "      <td>0</td>\n",
       "      <td>1</td>\n",
       "      <td>0</td>\n",
       "      <td>0</td>\n",
       "      <td>0</td>\n",
       "    </tr>\n",
       "    <tr>\n",
       "      <th>13</th>\n",
       "      <td>-0.311613</td>\n",
       "      <td>1.338945</td>\n",
       "      <td>0.889484</td>\n",
       "      <td>46200.0</td>\n",
       "      <td>102.753874</td>\n",
       "      <td>False</td>\n",
       "      <td>1</td>\n",
       "      <td>0</td>\n",
       "      <td>0</td>\n",
       "      <td>0</td>\n",
       "      <td>...</td>\n",
       "      <td>0</td>\n",
       "      <td>0</td>\n",
       "      <td>0</td>\n",
       "      <td>0</td>\n",
       "      <td>0</td>\n",
       "      <td>0</td>\n",
       "      <td>0</td>\n",
       "      <td>0</td>\n",
       "      <td>0</td>\n",
       "      <td>0</td>\n",
       "    </tr>\n",
       "    <tr>\n",
       "      <th>14</th>\n",
       "      <td>0.708952</td>\n",
       "      <td>-0.831751</td>\n",
       "      <td>-0.311886</td>\n",
       "      <td>78175.0</td>\n",
       "      <td>87.654065</td>\n",
       "      <td>True</td>\n",
       "      <td>1</td>\n",
       "      <td>0</td>\n",
       "      <td>0</td>\n",
       "      <td>0</td>\n",
       "      <td>...</td>\n",
       "      <td>0</td>\n",
       "      <td>0</td>\n",
       "      <td>0</td>\n",
       "      <td>0</td>\n",
       "      <td>0</td>\n",
       "      <td>0</td>\n",
       "      <td>0</td>\n",
       "      <td>0</td>\n",
       "      <td>0</td>\n",
       "      <td>0</td>\n",
       "    </tr>\n",
       "    <tr>\n",
       "      <th>15</th>\n",
       "      <td>0.453811</td>\n",
       "      <td>-0.083235</td>\n",
       "      <td>-0.302275</td>\n",
       "      <td>81900.0</td>\n",
       "      <td>81.409718</td>\n",
       "      <td>True</td>\n",
       "      <td>1</td>\n",
       "      <td>0</td>\n",
       "      <td>1</td>\n",
       "      <td>0</td>\n",
       "      <td>...</td>\n",
       "      <td>0</td>\n",
       "      <td>0</td>\n",
       "      <td>0</td>\n",
       "      <td>0</td>\n",
       "      <td>0</td>\n",
       "      <td>0</td>\n",
       "      <td>0</td>\n",
       "      <td>0</td>\n",
       "      <td>0</td>\n",
       "      <td>0</td>\n",
       "    </tr>\n",
       "    <tr>\n",
       "      <th>16</th>\n",
       "      <td>-2.097601</td>\n",
       "      <td>0.740132</td>\n",
       "      <td>1.706415</td>\n",
       "      <td>24500.0</td>\n",
       "      <td>179.711162</td>\n",
       "      <td>False</td>\n",
       "      <td>1</td>\n",
       "      <td>0</td>\n",
       "      <td>0</td>\n",
       "      <td>0</td>\n",
       "      <td>...</td>\n",
       "      <td>0</td>\n",
       "      <td>0</td>\n",
       "      <td>0</td>\n",
       "      <td>0</td>\n",
       "      <td>0</td>\n",
       "      <td>0</td>\n",
       "      <td>0</td>\n",
       "      <td>0</td>\n",
       "      <td>0</td>\n",
       "      <td>1</td>\n",
       "    </tr>\n",
       "    <tr>\n",
       "      <th>17</th>\n",
       "      <td>0.453811</td>\n",
       "      <td>-0.083235</td>\n",
       "      <td>-0.302275</td>\n",
       "      <td>74400.0</td>\n",
       "      <td>61.709689</td>\n",
       "      <td>True</td>\n",
       "      <td>1</td>\n",
       "      <td>0</td>\n",
       "      <td>1</td>\n",
       "      <td>0</td>\n",
       "      <td>...</td>\n",
       "      <td>0</td>\n",
       "      <td>0</td>\n",
       "      <td>0</td>\n",
       "      <td>0</td>\n",
       "      <td>0</td>\n",
       "      <td>0</td>\n",
       "      <td>0</td>\n",
       "      <td>0</td>\n",
       "      <td>0</td>\n",
       "      <td>0</td>\n",
       "    </tr>\n",
       "    <tr>\n",
       "      <th>18</th>\n",
       "      <td>-1.587319</td>\n",
       "      <td>1.338945</td>\n",
       "      <td>1.956299</td>\n",
       "      <td>24875.0</td>\n",
       "      <td>171.656189</td>\n",
       "      <td>False</td>\n",
       "      <td>1</td>\n",
       "      <td>0</td>\n",
       "      <td>0</td>\n",
       "      <td>1</td>\n",
       "      <td>...</td>\n",
       "      <td>0</td>\n",
       "      <td>0</td>\n",
       "      <td>0</td>\n",
       "      <td>0</td>\n",
       "      <td>0</td>\n",
       "      <td>0</td>\n",
       "      <td>0</td>\n",
       "      <td>0</td>\n",
       "      <td>0</td>\n",
       "      <td>0</td>\n",
       "    </tr>\n",
       "    <tr>\n",
       "      <th>19</th>\n",
       "      <td>-0.056471</td>\n",
       "      <td>-1.580267</td>\n",
       "      <td>-0.648269</td>\n",
       "      <td>53350.0</td>\n",
       "      <td>123.485370</td>\n",
       "      <td>False</td>\n",
       "      <td>1</td>\n",
       "      <td>0</td>\n",
       "      <td>1</td>\n",
       "      <td>0</td>\n",
       "      <td>...</td>\n",
       "      <td>1</td>\n",
       "      <td>0</td>\n",
       "      <td>0</td>\n",
       "      <td>0</td>\n",
       "      <td>0</td>\n",
       "      <td>0</td>\n",
       "      <td>0</td>\n",
       "      <td>0</td>\n",
       "      <td>0</td>\n",
       "      <td>0</td>\n",
       "    </tr>\n",
       "  </tbody>\n",
       "</table>\n",
       "<p>15 rows × 44 columns</p>\n",
       "</div>"
      ],
      "text/plain": [
       "        Year  Engine_Size   Mileage    Price         Age  >=70k  Make_Ford  \\\n",
       "0  -0.311613     1.338945  1.975521  51200.0   81.518608  False          1   \n",
       "1   0.964094    -1.206009 -0.580992  84750.0   73.048917   True          1   \n",
       "2   0.453811    -0.083235 -0.369551  73400.0  103.506157   True          1   \n",
       "7   0.453811    -0.083235 -0.062001  81050.0  109.349147   True          1   \n",
       "8  -0.566754    -0.457493  2.013965  36350.0  121.987159  False          1   \n",
       "10  0.964094    -1.206009 -0.686713  84750.0   85.507810   True          1   \n",
       "11 -0.566754    -0.083235  1.293144  36750.0  140.846377  False          1   \n",
       "12  1.219235    -1.206009 -0.898154  89375.0   71.312092   True          1   \n",
       "13 -0.311613     1.338945  0.889484  46200.0  102.753874  False          1   \n",
       "14  0.708952    -0.831751 -0.311886  78175.0   87.654065   True          1   \n",
       "15  0.453811    -0.083235 -0.302275  81900.0   81.409718   True          1   \n",
       "16 -2.097601     0.740132  1.706415  24500.0  179.711162  False          1   \n",
       "17  0.453811    -0.083235 -0.302275  74400.0   61.709689   True          1   \n",
       "18 -1.587319     1.338945  1.956299  24875.0  171.656189  False          1   \n",
       "19 -0.056471    -1.580267 -0.648269  53350.0  123.485370  False          1   \n",
       "\n",
       "    Color_Another Color  Color_Black  Color_Blue  ...  Type_Focus  \\\n",
       "0                     0            1           0  ...           0   \n",
       "1                     0            0           0  ...           0   \n",
       "2                     0            0           0  ...           0   \n",
       "7                     1            0           0  ...           0   \n",
       "8                     0            1           0  ...           0   \n",
       "10                    0            0           0  ...           0   \n",
       "11                    0            0           0  ...           0   \n",
       "12                    0            1           0  ...           0   \n",
       "13                    0            0           0  ...           0   \n",
       "14                    0            0           0  ...           0   \n",
       "15                    0            1           0  ...           0   \n",
       "16                    0            0           0  ...           0   \n",
       "17                    0            1           0  ...           0   \n",
       "18                    0            0           1  ...           0   \n",
       "19                    0            1           0  ...           1   \n",
       "\n",
       "    Type_Fusion  Type_Marquis  Type_Mustang  Type_Other  Type_Ranger  \\\n",
       "0             0             0             0           0            0   \n",
       "1             0             0             0           0            0   \n",
       "2             0             0             0           0            0   \n",
       "7             0             0             0           0            0   \n",
       "8             0             0             0           0            0   \n",
       "10            0             0             0           0            0   \n",
       "11            0             0             0           0            0   \n",
       "12            0             0             0           0            0   \n",
       "13            0             0             0           0            0   \n",
       "14            0             0             0           0            0   \n",
       "15            0             0             0           0            0   \n",
       "16            0             0             0           0            0   \n",
       "17            0             0             0           0            0   \n",
       "18            0             0             0           0            0   \n",
       "19            0             0             0           0            0   \n",
       "\n",
       "    Type_Taurus  Type_Van  Type_Vego  Type_Victoria  \n",
       "0             0         0          0              0  \n",
       "1             1         0          0              0  \n",
       "2             0         0          0              0  \n",
       "7             1         0          0              0  \n",
       "8             0         0          0              0  \n",
       "10            1         0          0              0  \n",
       "11            0         0          0              0  \n",
       "12            1         0          0              0  \n",
       "13            0         0          0              0  \n",
       "14            0         0          0              0  \n",
       "15            0         0          0              0  \n",
       "16            0         0          0              1  \n",
       "17            0         0          0              0  \n",
       "18            0         0          0              0  \n",
       "19            0         0          0              0  \n",
       "\n",
       "[15 rows x 44 columns]"
      ]
     },
     "execution_count": 37,
     "metadata": {},
     "output_type": "execute_result"
    }
   ],
   "source": [
    "### Your code goes here\n",
    "df_ohe_scaled.head(15)"
   ]
  },
  {
   "cell_type": "markdown",
   "id": "7ee00534-8734-41a4-a0a7-b4fb370e0c85",
   "metadata": {},
   "source": [
    "### Classification "
   ]
  },
  {
   "cell_type": "code",
   "execution_count": 38,
   "id": "8bc1a9b5-6afa-4473-b8a3-6e7b150aabb2",
   "metadata": {
    "tags": []
   },
   "outputs": [
    {
     "name": "stdout",
     "output_type": "stream",
     "text": [
      "\n",
      "****************\n",
      "Accuracy: 0.903\n",
      "****************\n",
      "\n",
      "****************\n",
      "Accuracy: 0.809\n",
      "****************\n"
     ]
    }
   ],
   "source": [
    "from sklearn.linear_model import LinearRegression\n",
    "from sklearn.model_selection import train_test_split\n",
    "from sklearn.ensemble import RandomForestClassifier\n",
    "\n",
    "#Based on the scatter plots it seems like Age is the single most important feature\n",
    "features = df_ohe.columns\n",
    "\n",
    "# Create train and test data\n",
    "X = df_ohe[['Mileage']].values\n",
    "y = df_ohe['>=70k'].values\n",
    "\n",
    "X_train, X_test, y_train, y_test = train_test_split(X, y, random_state=0)\n",
    "\n",
    "# Initialize linear regressor model\n",
    "# 'Train' the model\n",
    "# Predict price based on data in test - set\n",
    "# LinReg = RandomForestRegressor(n_estimators=10)\n",
    "rf = RandomForestClassifier()\n",
    "rf.fit(X_train, y_train)\n",
    "y_pred = rf.predict(X_test)\n",
    "\n",
    "print('\\n****************\\nAccuracy: {:.3f}\\n****************'.format( rf.score(X_train, y_train)))\n",
    "print('\\n****************\\nAccuracy: {:.3f}\\n****************'.format( rf.score(X_test, y_test)))"
   ]
  },
  {
   "cell_type": "markdown",
   "id": "12261989-69f0-433c-933a-ab724cff6d78",
   "metadata": {
    "tags": []
   },
   "source": [
    "<br>\n",
    "<br>\n",
    "<br>\n",
    "<br>\n",
    "<div style=\"text-align: center; font-family: Arial; font-size: 2em;\">كده نكون وصلنا لنهاية رحلة اكتشاف البيانات وتطوير نماذج تعلم الآلة، إن شاء الله كانت ممتعة واستفدوا منها الشي الكثير 🎉🎉🎉🎉</div>"
   ]
  },
  {
   "cell_type": "code",
   "execution_count": null,
   "id": "fb1d471c-f828-4b0a-b125-0dc34ae1cf26",
   "metadata": {},
   "outputs": [],
   "source": []
  }
 ],
 "metadata": {
  "kernelspec": {
   "display_name": "Python 3 (ipykernel)",
   "language": "python",
   "name": "python3"
  },
  "language_info": {
   "codemirror_mode": {
    "name": "ipython",
    "version": 3
   },
   "file_extension": ".py",
   "mimetype": "text/x-python",
   "name": "python",
   "nbconvert_exporter": "python",
   "pygments_lexer": "ipython3",
   "version": "3.8.16"
  }
 },
 "nbformat": 4,
 "nbformat_minor": 5
}
