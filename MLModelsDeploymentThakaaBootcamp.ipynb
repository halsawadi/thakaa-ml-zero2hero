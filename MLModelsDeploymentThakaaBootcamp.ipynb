{
 "cells": [
  {
   "cell_type": "markdown",
   "id": "23571a1c-c158-4c15-803a-472e8696db63",
   "metadata": {},
   "source": [
    "<p>\n",
    "  <center><img src=\"https://drive.google.com/uc?id=10p3_7k3SlQSy0H9rUHieSdBWKI1_fArr\" width=\"500\" height=\"300\"></center>\n",
    "</p>\n",
    "\n",
    "<p>\n",
    "<br>\n",
    "  <center><img src=\"https://drive.google.com/uc?id=1nzy9UrGT3UCRQd58Q_oHzDK1ATAzGGLF\" width=\"600\" height=\"300\"></center>\n",
    "</p>\n",
    "<br>\n",
    "<h1 style='text-align: center;'> سلسلة معسكرات ذكاء: المعسكر الثالث | معسكر إطلاق و إدارة نماذج تعلم الآلة‎ </h1>\n",
    "<!-- <font size=\"+2\" style='text-align: center;'> تعلّم كيف تكتشف البيانات وتطوّر نماذج تعلّم الآلة </h2> -->\n",
    "<div style=\"text-align: center; font-family: Arial; font-size: 2em;\">تعرّف على أحدث الأساليب والممارسات لنشر نماذج تعلّم الآلة وإطلاقها</div>"
   ]
  },
  {
   "cell_type": "markdown",
   "id": "07305093-8b5a-4996-8584-87eac3f62611",
   "metadata": {
    "tags": []
   },
   "source": [
    "<h2 style=\"text-align: left;\"> 📚 استيراد المكتبات</h2>"
   ]
  },
  {
   "cell_type": "code",
   "execution_count": null,
   "id": "5abdf586-bf6b-4a60-8ea4-dc4374fd15ff",
   "metadata": {
    "tags": []
   },
   "outputs": [],
   "source": [
    "from pathlib import Path\n",
    "import pandas as pd\n",
    "import numpy as np\n",
    "\n",
    "from pathlib import Path\n",
    "from typing import List, Dict, Tuple\n",
    "\n",
    "from sklearn.preprocessing import MinMaxScaler\n",
    "from sklearn.impute import SimpleImputer\n",
    "from sklearn.ensemble import RandomForestClassifier\n",
    "from sklearn.tree import DecisionTreeClassifier\n",
    "\n",
    "import joblib\n",
    "\n",
    "from sklearn.pipeline import Pipeline"
   ]
  },
  {
   "cell_type": "markdown",
   "id": "adae4a01-fd38-4dc8-a385-a0fff3e6d3cd",
   "metadata": {
    "tags": []
   },
   "source": [
    "<h2 style=\"text-align: left;\">🚗 تحميل وتجهيز البيانات</h2>"
   ]
  },
  {
   "cell_type": "code",
   "execution_count": null,
   "id": "391748cd-bf76-42cc-adb6-abb3423f1b45",
   "metadata": {},
   "outputs": [],
   "source": [
    "url='https://drive.google.com/file/d/1qTcYk4dJzMfpxlba6lZ0XfbGHvmlqyLb/view?usp=sharing'\n",
    "url='https://drive.google.com/uc?id=' + url.split('/')[-2]\n",
    "df = pd.read_csv(url, usecols=['Mileage', 'Year', 'Price'])\n",
    "\n",
    "df = df[df['Price'] != 'Negotiable']\n",
    "df['Price'] = df['Price'].apply(int)\n",
    "df[\"class\"] = df[\"Price\"] > 50000\n",
    "df.drop(columns=\"Price\", inplace=True)\n",
    "df[\"class\"] = df[\"class\"].replace([False,True],[0,1])\n",
    "\n",
    "df.head()"
   ]
  },
  {
   "cell_type": "markdown",
   "id": "d575af2f-7ab6-4301-ad2c-7349c1aa0049",
   "metadata": {},
   "source": [
    "<h2 style=\"text-align: left;\">🔪 تقسيم البيانات إلى جزء للتدريب وآخر للتقييم</h2>"
   ]
  },
  {
   "cell_type": "code",
   "execution_count": null,
   "id": "cba9bdf4-e89e-4ff0-af9e-4a9f64234864",
   "metadata": {
    "tags": []
   },
   "outputs": [],
   "source": [
    "train_test_split_frac = 0.8\n",
    "random_seed_fix = 47\n",
    "np.random.seed(random_seed_fix)\n",
    "msk = np.random.rand(len(df)) < train_test_split_frac\n",
    "\n",
    "df[\"flag_train\"] = 0\n",
    "df.loc[msk, \"flag_train\"] = 1\n",
    "\n",
    "train_df = df[(df[\"flag_train\"] == 1)].drop([\"flag_train\"], axis=1).copy()\n",
    "test_df = df[(df[\"flag_train\"] == 0)].drop([\"flag_train\"], axis=1).copy()"
   ]
  },
  {
   "cell_type": "code",
   "execution_count": null,
   "id": "221c9104-19af-48d4-b7b7-9a0de3c6752a",
   "metadata": {
    "tags": []
   },
   "outputs": [],
   "source": [
    "len(train_df)"
   ]
  },
  {
   "cell_type": "code",
   "execution_count": null,
   "id": "7c530868-16e9-4c8f-937e-cc84f70b7596",
   "metadata": {
    "tags": []
   },
   "outputs": [],
   "source": [
    "len(test_df)"
   ]
  },
  {
   "cell_type": "markdown",
   "id": "1d32ae7e-89a2-428d-8d2b-3118b1c4894f",
   "metadata": {},
   "source": [
    "## Scikit-learn Pipelines "
   ]
  },
  {
   "cell_type": "markdown",
   "id": "19094d65-f9bf-49a9-bda4-691918080b98",
   "metadata": {},
   "source": [
    "### Component#1: Data Imputation\n",
    "\n",
    "https://scikit-learn.org/stable/modules/generated/sklearn.impute.SimpleImputer.html"
   ]
  },
  {
   "cell_type": "code",
   "execution_count": null,
   "id": "10cf1143-cd08-4087-8c0e-46bc012f91b1",
   "metadata": {
    "tags": []
   },
   "outputs": [],
   "source": [
    "# TODO: initialize a data imputer that uses the median\n",
    "### Your code goes here\n",
    "imputer = None"
   ]
  },
  {
   "cell_type": "markdown",
   "id": "aec4239a-3ea1-41a1-bf9b-ceaf25d03086",
   "metadata": {},
   "source": [
    "### Component#2: Data Scalling\n",
    "\n",
    "https://scikit-learn.org/stable/modules/generated/sklearn.preprocessing.MinMaxScaler.html"
   ]
  },
  {
   "cell_type": "code",
   "execution_count": null,
   "id": "60e8eb7b-0a78-4abb-917d-80a4f6030944",
   "metadata": {
    "tags": []
   },
   "outputs": [],
   "source": [
    "# TODO: initialize a data scaler\n",
    "### Your code goes here\n",
    "scaler = None"
   ]
  },
  {
   "cell_type": "markdown",
   "id": "15df03f8-56fc-45b9-9479-44f95797b73b",
   "metadata": {},
   "source": [
    "### Component#3: Calssifier\n",
    "\n",
    "https://scikit-learn.org/stable/supervised_learning.html#supervised-learning"
   ]
  },
  {
   "cell_type": "code",
   "execution_count": null,
   "id": "0de40f13-34e4-46a6-8fa6-e684ff9e0eb2",
   "metadata": {
    "tags": []
   },
   "outputs": [],
   "source": [
    "# TODO: initialize a classifier\n",
    "### Your code goes here\n",
    "classifier = None"
   ]
  },
  {
   "cell_type": "markdown",
   "id": "a4977599-0e66-4128-bd0b-eb2c58498eea",
   "metadata": {},
   "source": [
    "### Constructing and training the pipeline\n",
    "\n",
    "https://scikit-learn.org/stable/modules/generated/sklearn.pipeline.Pipeline.html\n",
    "\n"
   ]
  },
  {
   "cell_type": "code",
   "execution_count": null,
   "id": "4a2f539e-f68c-4119-b150-cb4220872e52",
   "metadata": {
    "tags": []
   },
   "outputs": [],
   "source": [
    "def train_pipeline(df):\n",
    "    # TODO: Crate a list of tuples that includes the components you initialized above\n",
    "    # Hint: Check out Scikit-learn's pipeline documentation\n",
    "    ### Your code goes here\n",
    "    estimators = None\n",
    "    \n",
    "    # TODO: Create the Scikit-learn's pipeline\n",
    "    ### Your code goes here\n",
    "    pipeline = None\n",
    "    feature_columns = df.columns.values[df.columns.values != \"class\"]\n",
    "    pipeline.fit(df[feature_columns], df[\"class\"])\n",
    "\n",
    "    return pipeline, feature_columns\n",
    "\n",
    "pipeline, feature_columns = train_pipeline(train_df)"
   ]
  },
  {
   "cell_type": "markdown",
   "id": "feb83b77-5779-4d13-9405-e359329d8722",
   "metadata": {},
   "source": [
    "### Saving the pipeline"
   ]
  },
  {
   "cell_type": "code",
   "execution_count": null,
   "id": "9215162a-a717-4084-98f3-b351ac4fdeae",
   "metadata": {
    "tags": []
   },
   "outputs": [],
   "source": [
    "def save_pipeline(folder_path, pipeline, feature_columns):\n",
    "    # Dump .... \n",
    "    # save the pipeline\n",
    "    pipeline_name = \"pipeline.pkl\" \n",
    "    pipeline_path = Path(folder_path, pipeline_name)\n",
    "    \n",
    "    ## TODO: Write an one-line code that saves the pipeline as a pickle file\n",
    "    # Hint: search in the joblib package about the function joblib.dump()\n",
    "    ### Your code goes here\n",
    "    pass\n",
    "\n",
    "    # save the feature_columns\n",
    "    cols_name = \"pipeline_cols.pkl\"\n",
    "    cols_path = Path(folder_path, cols_name)\n",
    "    ## TODO: Write an one-line code that saves the feature columns as a pickle file\n",
    "    # Hint: search in the joblib package about the function joblib.dump()\n",
    "    ### Your code goes here\n",
    "    pass\n",
    "    \n",
    "output_path = Path(\"pipeline-output\")\n",
    "output_path.mkdir(parents=True, exist_ok=True)\n",
    "\n",
    "save_pipeline(output_path, pipeline, feature_columns)"
   ]
  },
  {
   "cell_type": "markdown",
   "id": "fb178598-19b9-4201-9c2d-e1ff0e7ad259",
   "metadata": {},
   "source": [
    "### Loading the pipeline"
   ]
  },
  {
   "cell_type": "code",
   "execution_count": null,
   "id": "52e333b8-c254-4065-9bc7-0f50f110bca1",
   "metadata": {
    "tags": []
   },
   "outputs": [],
   "source": [
    "def load_pipeline(folder_path):\n",
    "    # load the pipeline\n",
    "    model_name = \"pipeline.pkl\"\n",
    "    model_path = Path(folder_path, model_name)\n",
    "    ## TODO: Write an one-line code that load the pipeline from a pickle file\n",
    "    # Hint: search in the joblib package about the function joblib.load()\n",
    "    ### Your code goes here\n",
    "    pass\n",
    "\n",
    "    cols_name = \"pipeline_cols.pkl\"\n",
    "    cols_path = Path(folder_path, cols_name)\n",
    "    ## TODO: Write an one-line code that load the feature columns from a pickle file\n",
    "    # Hint: search in the joblib package about the function joblib.load()\n",
    "    ### Your code goes here\n",
    "    pass\n",
    "\n",
    "    return pipeline, feature_columns\n",
    "\n",
    "# Load the model, the scaler, the imputer and the names of the columns from files:\n",
    "pipeline, feature_columns = load_pipeline(output_path)"
   ]
  },
  {
   "cell_type": "markdown",
   "id": "9744fb16-df51-47b5-8ed3-2ef2006bafae",
   "metadata": {},
   "source": [
    "### Do predictions using the trained pipeline"
   ]
  },
  {
   "cell_type": "code",
   "execution_count": null,
   "id": "e434d391-abb5-4b19-b295-f5c9951ac911",
   "metadata": {
    "tags": []
   },
   "outputs": [],
   "source": [
    "def predict_pipeline(test_df, pipeline, feature_columns):\n",
    "    # TODO: Compute predictions using the trained pipeline\n",
    "    # Write a line that predicts the y values for the test data using the pipeline\n",
    "    # Hint: Look for method that predicts and use the feature_columns saved to restrict the used features.\n",
    "    y_hat = None\n",
    "\n",
    "    return y_hat\n",
    "\n",
    "# Use the loaded model and other logic to get predictions for test-data in `test_df`:\n",
    "pipeline_y_hat = predict_pipeline(test_df, pipeline, feature_columns)\n",
    "pipeline_y_hat"
   ]
  },
  {
   "cell_type": "markdown",
   "id": "36bb8ef2-51da-4e12-86da-eac0acf767ca",
   "metadata": {},
   "source": [
    "## ONNX (Extra)\n",
    "\n",
    "That was fun, but probably not that useful to any of you. However we added it to highlight two things. Firstly, the fact that you can move away from Python to deliver the model, while still developing it in Python. And secondly, or probably most imporantly, that the code and the weights are inextricably linked!\n",
    "\n",
    "So while that was one lesser used method, let's go through the most predominant method for making model artifacts from Python to any platform you want. This is ONNX - Open Neural Network eXchange, and as the name suggests it was developed as an open standard for sharing neural networks. However, it now supports traditional ML models, like the ones we have been making in this course.\n",
    "\n",
    "We will need to use the `skl2onnx` library. There are two ways to convert the model. A first method `convert_sklearn` which is a comprehensive way of converting. A second `to_onnx` which is calls `convert_sklearn`, but with simplified parameters and allows the option to infer the information from the training data. We won't show `to_onnx`, you can do that yourself.\n",
    "\n",
    "To start with we will use `convert_sklearn`, and as such we need to think about the datatype that we will be inputting. Lets have a look at what goes into the pipeline:"
   ]
  },
  {
   "cell_type": "code",
   "execution_count": null,
   "id": "c0596613-29d1-4cc6-8d62-d54a42f02634",
   "metadata": {},
   "outputs": [],
   "source": [
    "! pip install skl2onnx onnxruntime pydot"
   ]
  },
  {
   "cell_type": "code",
   "execution_count": null,
   "id": "0726be86-1771-457a-8272-b06b4a9b668e",
   "metadata": {
    "collapsed": false,
    "jupyter": {
     "outputs_hidden": false
    }
   },
   "outputs": [],
   "source": [
    "onnx_df = train_df.copy()\n",
    "\n",
    "onnx_df[onnx_df.columns] = onnx_df[onnx_df.columns].apply(pd.to_numeric, errors='coerce')\n",
    "\n",
    "onnx_feature_columns = onnx_df.columns.values[onnx_df.columns.values != \"class\"]\n",
    "\n",
    "onnx_df.iloc[0].values"
   ]
  },
  {
   "cell_type": "markdown",
   "id": "49039f4c-b0e7-4edd-b457-27cb6ad0e207",
   "metadata": {},
   "source": [
    "We can check the type using numpy's `dtype`:"
   ]
  },
  {
   "cell_type": "code",
   "execution_count": null,
   "id": "4345fd46-7591-4bee-9e93-9056dd1f3ecc",
   "metadata": {
    "collapsed": false,
    "jupyter": {
     "outputs_hidden": false
    }
   },
   "outputs": [],
   "source": [
    "onnx_df.iloc[0].values.dtype"
   ]
  },
  {
   "cell_type": "code",
   "execution_count": null,
   "id": "9a57e5af-bd6b-4e06-9079-f3d8f3b5f585",
   "metadata": {
    "collapsed": false,
    "jupyter": {
     "outputs_hidden": false
    }
   },
   "outputs": [],
   "source": [
    "print(onnx_df.iloc[0].shape)"
   ]
  },
  {
   "cell_type": "code",
   "execution_count": null,
   "id": "3990d9b7-061b-42a6-bfb5-b3c232bb9b65",
   "metadata": {
    "tags": []
   },
   "outputs": [],
   "source": [
    "onnx_df"
   ]
  },
  {
   "cell_type": "markdown",
   "id": "6558ad25-915f-4453-9dd2-b4520a361e42",
   "metadata": {},
   "source": [
    "And will get it to be a `float64` type. Okay! We know enough to start up. Lets import the libraries we need."
   ]
  },
  {
   "cell_type": "code",
   "execution_count": null,
   "id": "d5c4af10-26e8-44ad-ab8a-bbc33097e92a",
   "metadata": {
    "tags": []
   },
   "outputs": [],
   "source": [
    "from skl2onnx import convert_sklearn\n",
    "from skl2onnx.common.data_types import FloatTensorType"
   ]
  },
  {
   "cell_type": "markdown",
   "id": "27397307-e51a-459b-904f-75a37b535f79",
   "metadata": {},
   "source": [
    "The `initial_types` variable might take some getting used to. Assume that the specified scikit-learn model takes an input where the first 10 elements are floats and the last 100 elements are integers. For `convert_sklearn` we need to specify initial types. These mean importing `FloatTensorType` and `Int64TensorType` for the two different types:\n",
    "\n",
    "```Python\n",
    "from skl2onnx.common.data_types import FloatTensorType, Int64TensorType\n",
    "```\n",
    "\n",
    "We can then define the `initial_type` as a python list, where each element is a tuple of a variable name and a type \n",
    "\n",
    "```Python\n",
    "initial_type = [('float_input', FloatTensorType([None, 10])),\n",
    "                ('int64_input', Int64TensorType([None, 100]))]\n",
    "```\n",
    "\n",
    "The `[None]` in `[None, 10]` indicates the batch size here is unknown. For our model it is super easy. The type is `Float` and they are all of that type, so its size is 170 (171 columns including the class).\n",
    "\n",
    "Lets convert the model now then:"
   ]
  },
  {
   "cell_type": "code",
   "execution_count": null,
   "id": "39676d50-001f-4f24-982e-373ac21d890f",
   "metadata": {
    "collapsed": false,
    "jupyter": {
     "outputs_hidden": false
    }
   },
   "outputs": [],
   "source": [
    "initial_type = [('float_input', FloatTensorType([None, 2]))]\n",
    "\n",
    "# Convert the model pipeline to ONNX. \n",
    "# The `pipeline` object is the same as before - so make sure you've run that code earlier in the notebook.\n",
    "onnx = convert_sklearn(pipeline, initial_types=initial_type)"
   ]
  },
  {
   "cell_type": "code",
   "execution_count": null,
   "id": "ae44c817-8c70-40d8-805d-5f78de1b54c0",
   "metadata": {
    "tags": []
   },
   "outputs": [],
   "source": [
    "onnx.graph.node"
   ]
  },
  {
   "cell_type": "code",
   "execution_count": null,
   "id": "22f97918-abc9-448e-a8c2-b94804ac8987",
   "metadata": {
    "tags": []
   },
   "outputs": [],
   "source": [
    "# Print only the first few characters, since the output is really long..\n",
    "print(str(onnx)[:500])"
   ]
  },
  {
   "cell_type": "markdown",
   "id": "ac3bd986-95d4-42f4-8c71-8b5e5073bdae",
   "metadata": {},
   "source": [
    "Have a look above and see the model format. Its kind of readible. You can also plot it as a graph!"
   ]
  },
  {
   "cell_type": "code",
   "execution_count": null,
   "id": "abc6c4eb-4f2d-4dee-a943-1fedc3f8d08d",
   "metadata": {
    "collapsed": false,
    "jupyter": {
     "outputs_hidden": false
    }
   },
   "outputs": [],
   "source": [
    "from onnx.tools.net_drawer import GetPydotGraph, GetOpNodeProducer\n",
    "import os\n",
    "import matplotlib.pyplot as plt\n",
    "\n",
    "%matplotlib inline"
   ]
  },
  {
   "cell_type": "code",
   "execution_count": null,
   "id": "9ed17d04-340e-4212-9266-1b4c6fa9f67b",
   "metadata": {
    "collapsed": false,
    "jupyter": {
     "outputs_hidden": false
    }
   },
   "outputs": [],
   "source": [
    "pydot_graph = GetPydotGraph(onnx.graph,\n",
    "                            name=onnx.graph.name,\n",
    "                            rankdir=\"TB\",\n",
    "                            node_producer=GetOpNodeProducer(\n",
    "                                \"docstring\", color=\"yellow\",\n",
    "                                fillcolor=\"yellow\", style=\"filled\"))\n",
    "\n",
    "pydot_graph.write_dot(\"pipeline_onnx.dot\")\n",
    "\n",
    "os.system('dot -O -Gdpi=300 -Tpng pipeline_onnx.dot')"
   ]
  },
  {
   "cell_type": "code",
   "execution_count": null,
   "id": "e180723d-fe5c-4734-b8b4-fde362ca5886",
   "metadata": {
    "collapsed": false,
    "jupyter": {
     "outputs_hidden": false
    }
   },
   "outputs": [],
   "source": [
    "image = plt.imread(\"pipeline_onnx.dot.png\")\n",
    "fig, ax = plt.subplots(figsize=(40, 20))\n",
    "ax.imshow(image)\n",
    "ax.axis('off')\n",
    "plt.show()"
   ]
  },
  {
   "cell_type": "markdown",
   "id": "050aafd0-6e35-4641-9352-ead0726a3746",
   "metadata": {},
   "source": [
    "So that was a soft introduction into saving the pipeline/model in the ONNX-format. Now we just use the `.SerializeToString()` method to write the ONNX object to file. Lets write that up in a function:"
   ]
  },
  {
   "cell_type": "code",
   "execution_count": null,
   "id": "083ad434-30ea-4816-986c-f96d9bbbc2a8",
   "metadata": {
    "collapsed": false,
    "jupyter": {
     "outputs_hidden": false
    }
   },
   "outputs": [],
   "source": [
    "def save_onnx(folder_path, pipeline, feature_columns):\n",
    "    # convert to onnx\n",
    "    initial_type = [('float_input', FloatTensorType([None, 2]))]\n",
    "    onnx = convert_sklearn(pipeline, initial_types=initial_type)\n",
    "\n",
    "    # save the pipeline\n",
    "    pipeline_name = \"pipeline.onnx\"\n",
    "    folder_path = Path(folder_path)\n",
    "    folder_path.mkdir(parents=True, exist_ok=True)\n",
    "    pipeline_path = Path(folder_path, pipeline_name)\n",
    "\n",
    "    with open(pipeline_path, \"wb\") as f:\n",
    "        f.write(onnx.SerializeToString())\n",
    "\n",
    "    # save the feature_columns\n",
    "    cols_name = \"pipeline_cols.joblib\"\n",
    "    cols_path = Path(folder_path, cols_name)\n",
    "    joblib.dump(feature_columns, cols_path)"
   ]
  },
  {
   "cell_type": "code",
   "execution_count": null,
   "id": "b2961ab0-0bb7-411a-af83-3b90c6a40ca6",
   "metadata": {
    "collapsed": false,
    "jupyter": {
     "outputs_hidden": false
    }
   },
   "outputs": [],
   "source": [
    "save_onnx(\"onnx-output\", pipeline, feature_columns)"
   ]
  },
  {
   "cell_type": "markdown",
   "id": "76810983-d5e2-4d15-b5c0-c114315e83db",
   "metadata": {},
   "source": [
    "Check out the results in the \"onnx-output\" folder!"
   ]
  },
  {
   "cell_type": "markdown",
   "id": "f2a1a187-ffeb-4117-be8a-3ad2da4b32fd",
   "metadata": {},
   "source": [
    "Next up we need to examine how to consume ONNX and make predictions. This is where ONNX comes into its own. There are a tonne of ways of doing this for a multitude of platforms and programs. We will look at a server-based inference with a sample REST server, using `onnxruntime`.\n",
    "\n",
    "Lets define a load function that will load the runtime session and also the feature columns."
   ]
  },
  {
   "cell_type": "code",
   "execution_count": null,
   "id": "b3fda8d8-78ca-4a93-9df9-1ca48c364ae3",
   "metadata": {
    "collapsed": false,
    "jupyter": {
     "outputs_hidden": false
    }
   },
   "outputs": [],
   "source": [
    "import onnxruntime as rt"
   ]
  },
  {
   "cell_type": "code",
   "execution_count": null,
   "id": "8aeabb17-802d-450f-ba71-b0be7684dbdf",
   "metadata": {
    "collapsed": false,
    "jupyter": {
     "outputs_hidden": false
    }
   },
   "outputs": [],
   "source": [
    "def load_onnx(folder_path):\n",
    "    # load the session\n",
    "    pipeline_name = \"pipeline.onnx\"\n",
    "    pipeline_path = Path(folder_path, pipeline_name)\n",
    "    sess = rt.InferenceSession(str(pipeline_path))\n",
    "\n",
    "    # load the feature_columns\n",
    "    cols_name = \"pipeline_cols.joblib\"\n",
    "    cols_path = Path(folder_path, cols_name)\n",
    "    feature_columns = joblib.load(cols_path)\n",
    "\n",
    "    return sess, feature_columns"
   ]
  },
  {
   "cell_type": "code",
   "execution_count": null,
   "id": "c95f7061-d8fe-4800-8a6f-6ac9fb8cfb03",
   "metadata": {
    "collapsed": false,
    "jupyter": {
     "outputs_hidden": false
    }
   },
   "outputs": [],
   "source": [
    "# Load the ONNX model and the feature-columns using the function we just wrote:\n",
    "sess, feature_columns = load_onnx(\"onnx-output\")"
   ]
  },
  {
   "cell_type": "markdown",
   "id": "d7a6b0f5-2eef-434c-b0d9-d9bf829a0f04",
   "metadata": {},
   "source": [
    "We can look at the input and output names, types expected and shapes."
   ]
  },
  {
   "cell_type": "code",
   "execution_count": null,
   "id": "a6d01660-096e-4052-9386-aa9ee5998bf2",
   "metadata": {
    "collapsed": false,
    "jupyter": {
     "outputs_hidden": false
    }
   },
   "outputs": [],
   "source": [
    "print(\"In\", [(i.name, i.type, i.shape) for i in sess.get_inputs()])\n",
    "print(\"Out\", [(i.name, i.type, i.shape) for i in sess.get_outputs()])"
   ]
  },
  {
   "cell_type": "markdown",
   "id": "76fad5b5-9e77-46bd-b836-997aaa5c796c",
   "metadata": {},
   "source": [
    "Here we see that we have a input called `float_input` (remember we defined this above), and its a tensor type `float`. Its expected size is any number of samples in the batch, but exactly two columns.\n",
    "\n",
    "The output is called `output_label` (we could also get a probability too) which is the same as what we saw on the graph of the model. Its an tensor of `int64` output, but in a list.\n",
    "\n",
    "Lets write a function that does the predict, when given an dataframe as input, along with the session and columns."
   ]
  },
  {
   "cell_type": "code",
   "execution_count": null,
   "id": "aa97c655-af1d-43ce-a7eb-4fbf2c83a935",
   "metadata": {
    "collapsed": false,
    "jupyter": {
     "outputs_hidden": false
    }
   },
   "outputs": [],
   "source": [
    "def predict_pipeline(test_df, sess, feature_columns):\n",
    "\n",
    "    sample_to_score = test_df[feature_columns].values.astype(\"float32\")\n",
    "    y_hat = sess.run(['output_label'], {'float_input': sample_to_score})\n",
    "\n",
    "    return y_hat"
   ]
  },
  {
   "cell_type": "markdown",
   "id": "69c522af-98e2-4902-8432-726d761bfa2f",
   "metadata": {},
   "source": [
    "We can make a prediciton of the test dataframe, and see what the output looks like"
   ]
  },
  {
   "cell_type": "code",
   "execution_count": null,
   "id": "8bff0401-e7ef-408f-8836-83e81c3f06d0",
   "metadata": {
    "collapsed": false,
    "jupyter": {
     "outputs_hidden": false
    }
   },
   "outputs": [],
   "source": [
    "onnx_y_hat = predict_pipeline(test_df, sess, feature_columns)\n",
    "onnx_y_hat"
   ]
  },
  {
   "cell_type": "markdown",
   "id": "97f1714f-d30e-49ed-aef1-689fdafba5c6",
   "metadata": {},
   "source": [
    "## APIs"
   ]
  },
  {
   "cell_type": "code",
   "execution_count": null,
   "id": "f16cdb6d-65c2-427f-9965-7483b731e5a6",
   "metadata": {
    "tags": []
   },
   "outputs": [],
   "source": [
    "from fastapi import FastAPI\n",
    "from typing import Optional\n",
    "import glob\n",
    "import os.path\n",
    "import numpy as np\n",
    "import pandas as pd\n",
    "import pickle\n",
    "import toml\n",
    "from sklearn.preprocessing import OneHotEncoder\n",
    "from pydantic import BaseModel,confloat\n",
    "\n",
    "from pathlib import Path\n",
    "from typing import List, Dict, Tuple\n",
    "\n",
    "import pandas as pd\n",
    "import numpy as np\n",
    "\n",
    "from sklearn.preprocessing import MinMaxScaler\n",
    "from sklearn.impute import SimpleImputer\n",
    "from sklearn.ensemble import RandomForestClassifier\n",
    "\n",
    "import joblib\n",
    "\n",
    "from sklearn.pipeline import Pipeline\n",
    "\n",
    "def load_pipeline(folder_path):\n",
    "    model_name = \"pipeline.pkl\"\n",
    "    model_path = Path(folder_path, model_name)\n",
    "    model = joblib.load(model_path)\n",
    "\n",
    "    cols_name = \"pipeline_cols.pkl\"\n",
    "    cols_path = Path(folder_path, cols_name)\n",
    "    feature_columns = joblib.load(cols_path)\n",
    "\n",
    "    return model, feature_columns\n",
    "\n",
    "app = FastAPI()\n",
    "\n",
    "class Car(BaseModel):\n",
    "    year: Optional[float]=2015\n",
    "    mileage: Optional[float]=77000\n",
    "\n",
    "    class Config:\n",
    "        schema_extra = {\n",
    "            \"record\": {'year':2015,\n",
    "                       'mileage':77000,\n",
    "                      }\n",
    "        }\n",
    "        \n",
    "@app.on_event(\"startup\")\n",
    "def load_model():\n",
    "    global pipeline\n",
    "    global feature_columns\n",
    "\n",
    "    output_path = Path(\"pipeline-output\")\n",
    "    pipeline, feature_columns = load_pipeline(output_path)\n",
    "    \n",
    "@app.get('/')\n",
    "def index():\n",
    "    return {\"status\": \"pass\"}\n",
    "\n",
    "\n",
    "@app.post('/predict')\n",
    "def get_price_classificatoon(data: Car):\n",
    "    recieved = data\n",
    "    print(data)\n",
    "    year = recieved.year\n",
    "    mileage = recieved.mileage\n",
    "    X = np.array([year, mileage]).reshape(1, -1)\n",
    "    pred_class = pipeline.predict(X)\n",
    "    pred_proba = pipeline.predict_proba(X)\n",
    "    if(pred_class==0):\n",
    "        return {\"Class\":\"Car Price <50k SAR\",\"Probability\":round(float(pred_proba[0][0]),3)}\n",
    "    else:\n",
    "        return {\"Class\":\"Car Price >=50k SAR\",\"Probability\":round(float(pred_proba[0][1]),3)}"
   ]
  },
  {
   "cell_type": "code",
   "execution_count": null,
   "id": "411bc016-8c44-4d53-95cc-91826031f18c",
   "metadata": {},
   "outputs": [],
   "source": [
    "!pip install fastapi nest-asyncio pyngrok uvicorn"
   ]
  },
  {
   "cell_type": "code",
   "execution_count": null,
   "id": "37454dc8-ed02-43a6-bee2-07ef63cc4e57",
   "metadata": {},
   "outputs": [],
   "source": [
    "import nest_asyncio\n",
    "from pyngrok import ngrok\n",
    "import uvicorn\n",
    "\n",
    "ngrok_tunnel = ngrok.connect(8000)\n",
    "print('Public URL:', ngrok_tunnel.public_url)\n",
    "nest_asyncio.apply()\n",
    "uvicorn.run(app, port=8000)"
   ]
  },
  {
   "cell_type": "code",
   "execution_count": null,
   "id": "8c84a451-86cc-4dd8-bb3c-9c92e75da185",
   "metadata": {},
   "outputs": [],
   "source": [
    "! curl -X 'POST' \\\n",
    "'http://4cb9-35-226-250-83.ngrok.io/predict' \\\n",
    "-H 'accept: application/json' \\\n",
    "-H 'Content-Type: application/json' \\\n",
    "-d '{\"year\": 2009, \"mileage\": 300000}'"
   ]
  },
  {
   "cell_type": "code",
   "execution_count": null,
   "id": "c28a8921-4f7d-448a-bb0a-3695d8fc7a99",
   "metadata": {},
   "outputs": [],
   "source": [
    "! curl -X 'POST' \\\n",
    "'http://4cb9-35-226-250-83.ngrok.io/predict' \\\n",
    "-H 'accept: application/json' \\\n",
    "-H 'Content-Type: application/json' \\\n",
    "-d '{\"year\": 1980, \"mileage\": 200000}'"
   ]
  },
  {
   "cell_type": "code",
   "execution_count": null,
   "id": "49b594a4-b08a-4347-96e4-e3da41d86fc6",
   "metadata": {},
   "outputs": [],
   "source": [
    "! curl -X 'POST' \\\n",
    "'http://4cb9-35-226-250-83.ngrok.io/predict' \\\n",
    "-H 'accept: application/json' \\\n",
    "-H 'Content-Type: application/json' \\\n",
    "-d '{\"year\": 1980, \"mileage\": dkmd}'"
   ]
  },
  {
   "cell_type": "code",
   "execution_count": null,
   "id": "01307250-b692-49bf-a3a5-4503c0cd509a",
   "metadata": {},
   "outputs": [],
   "source": [
    "! curl -X 'POST' \\\n",
    "'http://4cb9-35-226-250-83.ngrok.io/predict' \\\n",
    "-H 'accept: application/json' \\\n",
    "-H 'Content-Type: application/json' \\\n",
    "-d '{\"year\": 2008}'"
   ]
  },
  {
   "cell_type": "code",
   "execution_count": null,
   "id": "f5f389ba-2a5e-4da3-9815-976798e3fa67",
   "metadata": {},
   "outputs": [],
   "source": [
    "! curl -X 'POST' \\\n",
    "'http://4cb9-35-226-250-83.ngrok.io/predict' \\\n",
    "-H 'accept: application/json' \\\n",
    "-H 'Content-Type: application/json' \\\n",
    "-d '{\"year\": 2008, \"mileage\": 770000}'"
   ]
  },
  {
   "cell_type": "code",
   "execution_count": null,
   "id": "f88f06d9-9726-4cd4-9921-bc5aff0a930b",
   "metadata": {},
   "outputs": [],
   "source": []
  },
  {
   "cell_type": "markdown",
   "id": "1d075b89-030d-4947-a64c-7ffad162f6c9",
   "metadata": {},
   "source": [
    "## Hyperparameters Tuning "
   ]
  },
  {
   "cell_type": "code",
   "execution_count": 21,
   "id": "0d577110-604c-4f75-a708-5242b90fdf13",
   "metadata": {
    "tags": []
   },
   "outputs": [],
   "source": [
    "from sklearn.preprocessing import StandardScaler\n",
    "import matplotlib.pyplot as plt"
   ]
  },
  {
   "cell_type": "code",
   "execution_count": 17,
   "id": "49e9a60b-2924-4b99-847b-da0f474af751",
   "metadata": {
    "tags": []
   },
   "outputs": [],
   "source": [
    "url = 'https://drive.google.com/file/d/1QYn4jMO9paecwCiaaPEcmk8O8qbbO8YI/view?usp=share_link'\n",
    "url='https://drive.google.com/uc?id=' + url.split('/')[-2]\n",
    "df_ford = pd.read_csv(url, usecols=['Age', 'Mileage', 'Color', 'Price', '>=70k'])\n",
    "df_ford.head()\n",
    "\n",
    "df_ohe = df_ford.copy(deep=True)\n",
    "df_ohe = pd.get_dummies(df_ohe)"
   ]
  },
  {
   "cell_type": "code",
   "execution_count": 18,
   "id": "fa00c267-8aab-467e-89ed-f3ea74401c97",
   "metadata": {
    "tags": []
   },
   "outputs": [
    {
     "data": {
      "text/html": [
       "<div>\n",
       "<style scoped>\n",
       "    .dataframe tbody tr th:only-of-type {\n",
       "        vertical-align: middle;\n",
       "    }\n",
       "\n",
       "    .dataframe tbody tr th {\n",
       "        vertical-align: top;\n",
       "    }\n",
       "\n",
       "    .dataframe thead th {\n",
       "        text-align: right;\n",
       "    }\n",
       "</style>\n",
       "<table border=\"1\" class=\"dataframe\">\n",
       "  <thead>\n",
       "    <tr style=\"text-align: right;\">\n",
       "      <th></th>\n",
       "      <th>Mileage</th>\n",
       "      <th>Price</th>\n",
       "      <th>Age</th>\n",
       "      <th>&gt;=70k</th>\n",
       "      <th>Color_Another Color</th>\n",
       "      <th>Color_Black</th>\n",
       "      <th>Color_Blue</th>\n",
       "      <th>Color_Bronze</th>\n",
       "      <th>Color_Brown</th>\n",
       "      <th>Color_Golden</th>\n",
       "      <th>Color_Green</th>\n",
       "      <th>Color_Grey</th>\n",
       "      <th>Color_Navy</th>\n",
       "      <th>Color_Oily</th>\n",
       "      <th>Color_Orange</th>\n",
       "      <th>Color_Red</th>\n",
       "      <th>Color_Silver</th>\n",
       "      <th>Color_White</th>\n",
       "      <th>Color_Yellow</th>\n",
       "    </tr>\n",
       "  </thead>\n",
       "  <tbody>\n",
       "    <tr>\n",
       "      <th>0</th>\n",
       "      <td>2.115786</td>\n",
       "      <td>51200.0</td>\n",
       "      <td>0.624402</td>\n",
       "      <td>False</td>\n",
       "      <td>0</td>\n",
       "      <td>1</td>\n",
       "      <td>0</td>\n",
       "      <td>0</td>\n",
       "      <td>0</td>\n",
       "      <td>0</td>\n",
       "      <td>0</td>\n",
       "      <td>0</td>\n",
       "      <td>0</td>\n",
       "      <td>0</td>\n",
       "      <td>0</td>\n",
       "      <td>0</td>\n",
       "      <td>0</td>\n",
       "      <td>0</td>\n",
       "      <td>0</td>\n",
       "    </tr>\n",
       "    <tr>\n",
       "      <th>1</th>\n",
       "      <td>-0.587739</td>\n",
       "      <td>92450.0</td>\n",
       "      <td>-0.518283</td>\n",
       "      <td>True</td>\n",
       "      <td>0</td>\n",
       "      <td>0</td>\n",
       "      <td>0</td>\n",
       "      <td>0</td>\n",
       "      <td>0</td>\n",
       "      <td>0</td>\n",
       "      <td>0</td>\n",
       "      <td>0</td>\n",
       "      <td>0</td>\n",
       "      <td>0</td>\n",
       "      <td>0</td>\n",
       "      <td>0</td>\n",
       "      <td>0</td>\n",
       "      <td>1</td>\n",
       "      <td>0</td>\n",
       "    </tr>\n",
       "    <tr>\n",
       "      <th>2</th>\n",
       "      <td>-0.364139</td>\n",
       "      <td>82900.0</td>\n",
       "      <td>0.053927</td>\n",
       "      <td>True</td>\n",
       "      <td>0</td>\n",
       "      <td>0</td>\n",
       "      <td>0</td>\n",
       "      <td>0</td>\n",
       "      <td>0</td>\n",
       "      <td>0</td>\n",
       "      <td>0</td>\n",
       "      <td>0</td>\n",
       "      <td>0</td>\n",
       "      <td>0</td>\n",
       "      <td>0</td>\n",
       "      <td>0</td>\n",
       "      <td>0</td>\n",
       "      <td>1</td>\n",
       "      <td>0</td>\n",
       "    </tr>\n",
       "    <tr>\n",
       "      <th>3</th>\n",
       "      <td>-0.475939</td>\n",
       "      <td>73400.0</td>\n",
       "      <td>-1.060484</td>\n",
       "      <td>True</td>\n",
       "      <td>0</td>\n",
       "      <td>0</td>\n",
       "      <td>0</td>\n",
       "      <td>0</td>\n",
       "      <td>0</td>\n",
       "      <td>0</td>\n",
       "      <td>0</td>\n",
       "      <td>0</td>\n",
       "      <td>0</td>\n",
       "      <td>0</td>\n",
       "      <td>0</td>\n",
       "      <td>1</td>\n",
       "      <td>0</td>\n",
       "      <td>0</td>\n",
       "      <td>0</td>\n",
       "    </tr>\n",
       "    <tr>\n",
       "      <th>4</th>\n",
       "      <td>-1.075593</td>\n",
       "      <td>69425.0</td>\n",
       "      <td>-0.789827</td>\n",
       "      <td>False</td>\n",
       "      <td>0</td>\n",
       "      <td>0</td>\n",
       "      <td>0</td>\n",
       "      <td>0</td>\n",
       "      <td>0</td>\n",
       "      <td>0</td>\n",
       "      <td>0</td>\n",
       "      <td>0</td>\n",
       "      <td>0</td>\n",
       "      <td>0</td>\n",
       "      <td>0</td>\n",
       "      <td>0</td>\n",
       "      <td>0</td>\n",
       "      <td>1</td>\n",
       "      <td>0</td>\n",
       "    </tr>\n",
       "    <tr>\n",
       "      <th>...</th>\n",
       "      <td>...</td>\n",
       "      <td>...</td>\n",
       "      <td>...</td>\n",
       "      <td>...</td>\n",
       "      <td>...</td>\n",
       "      <td>...</td>\n",
       "      <td>...</td>\n",
       "      <td>...</td>\n",
       "      <td>...</td>\n",
       "      <td>...</td>\n",
       "      <td>...</td>\n",
       "      <td>...</td>\n",
       "      <td>...</td>\n",
       "      <td>...</td>\n",
       "      <td>...</td>\n",
       "      <td>...</td>\n",
       "      <td>...</td>\n",
       "      <td>...</td>\n",
       "      <td>...</td>\n",
       "    </tr>\n",
       "    <tr>\n",
       "      <th>503</th>\n",
       "      <td>1.170569</td>\n",
       "      <td>39450.0</td>\n",
       "      <td>0.233999</td>\n",
       "      <td>False</td>\n",
       "      <td>0</td>\n",
       "      <td>1</td>\n",
       "      <td>0</td>\n",
       "      <td>0</td>\n",
       "      <td>0</td>\n",
       "      <td>0</td>\n",
       "      <td>0</td>\n",
       "      <td>0</td>\n",
       "      <td>0</td>\n",
       "      <td>0</td>\n",
       "      <td>0</td>\n",
       "      <td>0</td>\n",
       "      <td>0</td>\n",
       "      <td>0</td>\n",
       "      <td>0</td>\n",
       "    </tr>\n",
       "    <tr>\n",
       "      <th>504</th>\n",
       "      <td>-1.418717</td>\n",
       "      <td>50850.0</td>\n",
       "      <td>0.815326</td>\n",
       "      <td>False</td>\n",
       "      <td>0</td>\n",
       "      <td>1</td>\n",
       "      <td>0</td>\n",
       "      <td>0</td>\n",
       "      <td>0</td>\n",
       "      <td>0</td>\n",
       "      <td>0</td>\n",
       "      <td>0</td>\n",
       "      <td>0</td>\n",
       "      <td>0</td>\n",
       "      <td>0</td>\n",
       "      <td>0</td>\n",
       "      <td>0</td>\n",
       "      <td>0</td>\n",
       "      <td>0</td>\n",
       "    </tr>\n",
       "    <tr>\n",
       "      <th>505</th>\n",
       "      <td>2.593477</td>\n",
       "      <td>40000.0</td>\n",
       "      <td>0.850250</td>\n",
       "      <td>False</td>\n",
       "      <td>0</td>\n",
       "      <td>0</td>\n",
       "      <td>0</td>\n",
       "      <td>0</td>\n",
       "      <td>1</td>\n",
       "      <td>0</td>\n",
       "      <td>0</td>\n",
       "      <td>0</td>\n",
       "      <td>0</td>\n",
       "      <td>0</td>\n",
       "      <td>0</td>\n",
       "      <td>0</td>\n",
       "      <td>0</td>\n",
       "      <td>0</td>\n",
       "      <td>0</td>\n",
       "    </tr>\n",
       "    <tr>\n",
       "      <th>506</th>\n",
       "      <td>0.896151</td>\n",
       "      <td>67150.0</td>\n",
       "      <td>-0.482170</td>\n",
       "      <td>False</td>\n",
       "      <td>0</td>\n",
       "      <td>0</td>\n",
       "      <td>0</td>\n",
       "      <td>0</td>\n",
       "      <td>0</td>\n",
       "      <td>0</td>\n",
       "      <td>1</td>\n",
       "      <td>0</td>\n",
       "      <td>0</td>\n",
       "      <td>0</td>\n",
       "      <td>0</td>\n",
       "      <td>0</td>\n",
       "      <td>0</td>\n",
       "      <td>0</td>\n",
       "      <td>0</td>\n",
       "    </tr>\n",
       "    <tr>\n",
       "      <th>507</th>\n",
       "      <td>1.394169</td>\n",
       "      <td>47200.0</td>\n",
       "      <td>-0.133945</td>\n",
       "      <td>False</td>\n",
       "      <td>0</td>\n",
       "      <td>1</td>\n",
       "      <td>0</td>\n",
       "      <td>0</td>\n",
       "      <td>0</td>\n",
       "      <td>0</td>\n",
       "      <td>0</td>\n",
       "      <td>0</td>\n",
       "      <td>0</td>\n",
       "      <td>0</td>\n",
       "      <td>0</td>\n",
       "      <td>0</td>\n",
       "      <td>0</td>\n",
       "      <td>0</td>\n",
       "      <td>0</td>\n",
       "    </tr>\n",
       "  </tbody>\n",
       "</table>\n",
       "<p>508 rows × 19 columns</p>\n",
       "</div>"
      ],
      "text/plain": [
       "      Mileage    Price       Age  >=70k  Color_Another Color  Color_Black  \\\n",
       "0    2.115786  51200.0  0.624402  False                    0            1   \n",
       "1   -0.587739  92450.0 -0.518283   True                    0            0   \n",
       "2   -0.364139  82900.0  0.053927   True                    0            0   \n",
       "3   -0.475939  73400.0 -1.060484   True                    0            0   \n",
       "4   -1.075593  69425.0 -0.789827  False                    0            0   \n",
       "..        ...      ...       ...    ...                  ...          ...   \n",
       "503  1.170569  39450.0  0.233999  False                    0            1   \n",
       "504 -1.418717  50850.0  0.815326  False                    0            1   \n",
       "505  2.593477  40000.0  0.850250  False                    0            0   \n",
       "506  0.896151  67150.0 -0.482170  False                    0            0   \n",
       "507  1.394169  47200.0 -0.133945  False                    0            1   \n",
       "\n",
       "     Color_Blue  Color_Bronze  Color_Brown  Color_Golden  Color_Green  \\\n",
       "0             0             0            0             0            0   \n",
       "1             0             0            0             0            0   \n",
       "2             0             0            0             0            0   \n",
       "3             0             0            0             0            0   \n",
       "4             0             0            0             0            0   \n",
       "..          ...           ...          ...           ...          ...   \n",
       "503           0             0            0             0            0   \n",
       "504           0             0            0             0            0   \n",
       "505           0             0            1             0            0   \n",
       "506           0             0            0             0            1   \n",
       "507           0             0            0             0            0   \n",
       "\n",
       "     Color_Grey  Color_Navy  Color_Oily  Color_Orange  Color_Red  \\\n",
       "0             0           0           0             0          0   \n",
       "1             0           0           0             0          0   \n",
       "2             0           0           0             0          0   \n",
       "3             0           0           0             0          1   \n",
       "4             0           0           0             0          0   \n",
       "..          ...         ...         ...           ...        ...   \n",
       "503           0           0           0             0          0   \n",
       "504           0           0           0             0          0   \n",
       "505           0           0           0             0          0   \n",
       "506           0           0           0             0          0   \n",
       "507           0           0           0             0          0   \n",
       "\n",
       "     Color_Silver  Color_White  Color_Yellow  \n",
       "0               0            0             0  \n",
       "1               0            1             0  \n",
       "2               0            1             0  \n",
       "3               0            0             0  \n",
       "4               0            1             0  \n",
       "..            ...          ...           ...  \n",
       "503             0            0             0  \n",
       "504             0            0             0  \n",
       "505             0            0             0  \n",
       "506             0            0             0  \n",
       "507             0            0             0  \n",
       "\n",
       "[508 rows x 19 columns]"
      ]
     },
     "execution_count": 18,
     "metadata": {},
     "output_type": "execute_result"
    }
   ],
   "source": [
    "scaler = StandardScaler()\n",
    "columns_to_scale = ['Age', 'Mileage']\n",
    "df_ohe_scaled = df_ohe.copy()\n",
    "df_ohe_scaled[columns_to_scale] = scaler.fit_transform(df_ohe.dropna()[columns_to_scale])\n",
    "\n",
    "df_ohe_scaled"
   ]
  },
  {
   "cell_type": "code",
   "execution_count": 44,
   "id": "44d00214-a1a0-4fbe-bb80-cebb6538be3d",
   "metadata": {
    "tags": []
   },
   "outputs": [
    {
     "name": "stdout",
     "output_type": "stream",
     "text": [
      "Train Dataset Performance\n",
      "\n"
     ]
    },
    {
     "data": {
      "image/png": "[encoded data removed]",
      "text/plain": [
       "<Figure size 640x480 with 2 Axes>"
      ]
     },
     "metadata": {},
     "output_type": "display_data"
    },
    {
     "name": "stdout",
     "output_type": "stream",
     "text": [
      "\n",
      "              precision    recall  f1-score   support\n",
      "\n",
      "       >=70k       0.90      0.98      0.94       219\n",
      "        <70k       0.97      0.85      0.91       162\n",
      "\n",
      "    accuracy                           0.93       381\n",
      "   macro avg       0.94      0.92      0.92       381\n",
      "weighted avg       0.93      0.93      0.93       381\n",
      "\n",
      "Test Dataset Performance\n",
      "\n"
     ]
    },
    {
     "data": {
      "image/png": "[encoded data removed]",
      "text/plain": [
       "<Figure size 640x480 with 2 Axes>"
      ]
     },
     "metadata": {},
     "output_type": "display_data"
    },
    {
     "name": "stdout",
     "output_type": "stream",
     "text": [
      "\n",
      "              precision    recall  f1-score   support\n",
      "\n",
      "       >=70k       0.79      0.93      0.86        76\n",
      "        <70k       0.86      0.63      0.73        51\n",
      "\n",
      "    accuracy                           0.81       127\n",
      "   macro avg       0.83      0.78      0.79       127\n",
      "weighted avg       0.82      0.81      0.80       127\n",
      "\n"
     ]
    }
   ],
   "source": [
    "from sklearn.linear_model import LinearRegression\n",
    "from sklearn.model_selection import train_test_split\n",
    "from sklearn.ensemble import RandomForestClassifier\n",
    "from sklearn.ensemble import GradientBoostingClassifier\n",
    "from sklearn.metrics import confusion_matrix, ConfusionMatrixDisplay, classification_report\n",
    "\n",
    "df_ohe_scaled_classif = df_ohe_scaled.copy()\n",
    "df_ohe_scaled_classif[\">=70k\"] = df_ohe_scaled_classif.Price.apply(lambda x: x > 70000)\n",
    "df_ohe_scaled_classif.drop(columns=['Price'], inplace=True)\n",
    "\n",
    "X = df_ohe_scaled_classif.drop(columns=['>=70k']).values\n",
    "y = df_ohe_scaled_classif['>=70k'].values\n",
    "\n",
    "X_train, X_test, y_train, y_test = train_test_split(X, y, random_state=0)\n",
    "\n",
    "rf = RandomForestClassifier(n_estimators=4, max_depth=50)\n",
    "rf.fit(X_train, y_train)\n",
    "y_pred = rf.predict(X_test)\n",
    "y_train_pred =  rf.predict(X_train)\n",
    "\n",
    "print('Train Dataset Performance')\n",
    "print()\n",
    "cm = confusion_matrix(y_train, y_train_pred, labels=rf.classes_)\n",
    "disp = ConfusionMatrixDisplay(confusion_matrix=cm, display_labels=rf.classes_)\n",
    "disp.plot()\n",
    "plt.show()\n",
    "print()\n",
    "print(classification_report(y_train, y_train_pred, target_names=['>=70k', '<70k']))\n",
    "\n",
    "print('Test Dataset Performance')\n",
    "print()\n",
    "cm = confusion_matrix(y_test, y_pred, labels=rf.classes_)\n",
    "disp = ConfusionMatrixDisplay(confusion_matrix=cm, display_labels=rf.classes_)\n",
    "disp.plot()\n",
    "plt.show()\n",
    "print()\n",
    "print(classification_report(y_test, y_pred, target_names=['>=70k', '<70k']))"
   ]
  },
  {
   "cell_type": "code",
   "execution_count": 31,
   "id": "59f3c51f-9e8c-4604-8176-81aa8cf837ea",
   "metadata": {
    "tags": []
   },
   "outputs": [
    {
     "data": {
      "text/plain": [
       "['mean_fit_time',\n",
       " 'mean_score_time',\n",
       " 'mean_test_score',\n",
       " 'param_max_depth',\n",
       " 'param_n_estimators',\n",
       " 'params',\n",
       " 'rank_test_score',\n",
       " 'split0_test_score',\n",
       " 'split1_test_score',\n",
       " 'split2_test_score',\n",
       " 'split3_test_score',\n",
       " 'split4_test_score',\n",
       " 'std_fit_time',\n",
       " 'std_score_time',\n",
       " 'std_test_score']"
      ]
     },
     "execution_count": 31,
     "metadata": {},
     "output_type": "execute_result"
    }
   ],
   "source": [
    "from sklearn import svm, datasets\n",
    "from sklearn.model_selection import GridSearchCV\n",
    "\n",
    "parameters = {'n_estimators':range(1, 10), 'max_depth':range(1, 10)}\n",
    "\n",
    "rf = RandomForestClassifier()\n",
    "clf = GridSearchCV(rf, parameters)\n",
    "\n",
    "clf.fit(X, y)\n",
    "GridSearchCV(estimator=clf,\n",
    "             param_grid=parameters)\n",
    "\n",
    "sorted(clf.cv_results_.keys())"
   ]
  },
  {
   "cell_type": "code",
   "execution_count": 32,
   "id": "48fd173a-1e6f-4861-8ed5-709641107d86",
   "metadata": {
    "collapsed": true,
    "jupyter": {
     "outputs_hidden": true
    },
    "tags": []
   },
   "outputs": [
    {
     "data": {
      "text/plain": [
       "{'mean_fit_time': array([0.00241642, 0.00358319, 0.00532942, 0.00603895, 0.00637712,\n",
       "        0.00608721, 0.00679698, 0.00821514, 0.00898604, 0.00131125,\n",
       "        0.00224638, 0.00319428, 0.00411687, 0.00506239, 0.0059762 ,\n",
       "        0.00703754, 0.00773392, 0.00909815, 0.00130081, 0.00225601,\n",
       "        0.00316443, 0.00418525, 0.00517349, 0.00610142, 0.00695572,\n",
       "        0.0077498 , 0.00917792, 0.00136929, 0.00233541, 0.00343323,\n",
       "        0.00433002, 0.0053339 , 0.00634727, 0.00747118, 0.00861306,\n",
       "        0.00941944, 0.00133424, 0.00234509, 0.00331578, 0.00427165,\n",
       "        0.00516315, 0.00611315, 0.00705624, 0.00837741, 0.00926065,\n",
       "        0.00148497, 0.00254941, 0.00340047, 0.00435352, 0.00535083,\n",
       "        0.00753064, 0.00866976, 0.00846543, 0.00938339, 0.00131164,\n",
       "        0.00227814, 0.00324082, 0.00418077, 0.00517116, 0.00619988,\n",
       "        0.00768681, 0.0083889 , 0.00936904, 0.00137091, 0.00236554,\n",
       "        0.00333266, 0.00433412, 0.00533457, 0.00660915, 0.0073082 ,\n",
       "        0.00846734, 0.00975804, 0.00145593, 0.00247827, 0.00343986,\n",
       "        0.00458651, 0.00567255, 0.006497  , 0.00760036, 0.00893116,\n",
       "        0.00975928]),\n",
       " 'std_fit_time': array([3.76361603e-04, 1.46098657e-04, 8.66898863e-04, 4.10898506e-04,\n",
       "        3.34369306e-04, 1.58975077e-04, 1.52711520e-05, 4.86422527e-04,\n",
       "        3.48480392e-04, 7.15001379e-06, 7.85696843e-06, 6.58286434e-05,\n",
       "        8.92411920e-06, 4.61708890e-05, 7.68881250e-05, 4.73720152e-04,\n",
       "        9.08588900e-05, 9.12202802e-04, 1.47565500e-05, 2.70693193e-05,\n",
       "        1.59926093e-05, 3.27217318e-05, 3.69708427e-05, 1.53682182e-05,\n",
       "        1.57113365e-04, 6.96129993e-05, 7.05600532e-04, 4.48879315e-05,\n",
       "        2.05276043e-05, 1.58942493e-04, 4.43565192e-05, 9.15752075e-05,\n",
       "        1.12405660e-04, 1.03501633e-04, 3.64893023e-04, 2.10603540e-04,\n",
       "        1.76309854e-05, 5.69170617e-05, 2.74819585e-05, 3.67537841e-05,\n",
       "        6.10082165e-05, 5.70586221e-05, 1.89070593e-05, 3.15011114e-04,\n",
       "        3.31322743e-04, 2.43613887e-04, 3.95979799e-04, 6.24391995e-05,\n",
       "        2.52561697e-05, 5.78668955e-05, 1.02221664e-03, 6.04290627e-04,\n",
       "        1.14057973e-04, 1.89439271e-04, 3.93347593e-05, 3.64184360e-05,\n",
       "        3.08620856e-05, 5.64087677e-05, 4.99008662e-05, 1.76824077e-04,\n",
       "        1.03034675e-03, 1.03327058e-04, 6.62173170e-05, 3.96925048e-05,\n",
       "        5.57037650e-05, 5.55083103e-05, 5.02464200e-05, 5.70804950e-05,\n",
       "        3.69769351e-04, 5.91628678e-05, 9.32939669e-05, 4.47348164e-04,\n",
       "        2.14426200e-05, 5.50061373e-05, 5.31003513e-05, 7.42171264e-05,\n",
       "        1.68436650e-04, 4.11628417e-05, 1.34479779e-04, 7.19374876e-05,\n",
       "        1.98233119e-04]),\n",
       " 'mean_score_time': array([0.00076656, 0.00081248, 0.00106297, 0.00099478, 0.00093417,\n",
       "        0.00092402, 0.00090523, 0.00104117, 0.00107994, 0.00043154,\n",
       "        0.00052199, 0.00060091, 0.00068355, 0.00075936, 0.00083594,\n",
       "        0.00092006, 0.00096836, 0.001053  , 0.000425  , 0.00051212,\n",
       "        0.0006319 , 0.00068259, 0.00076957, 0.00084848, 0.00090079,\n",
       "        0.00099406, 0.00107126, 0.00044007, 0.00053878, 0.00062127,\n",
       "        0.00069737, 0.00081263, 0.00095005, 0.00103135, 0.00110097,\n",
       "        0.00114512, 0.00043297, 0.00052009, 0.00060701, 0.00068989,\n",
       "        0.00075283, 0.00082603, 0.00090542, 0.00112805, 0.00109596,\n",
       "        0.00049105, 0.00054941, 0.00061727, 0.00069761, 0.00081477,\n",
       "        0.00093327, 0.00114532, 0.00103769, 0.00109782, 0.00041432,\n",
       "        0.00050845, 0.0005867 , 0.00065594, 0.00076575, 0.00081587,\n",
       "        0.00095515, 0.00101476, 0.00109634, 0.00043788, 0.00051403,\n",
       "        0.00059667, 0.00071778, 0.0007587 , 0.00102687, 0.00092783,\n",
       "        0.00103035, 0.00118341, 0.00047026, 0.00053563, 0.00061431,\n",
       "        0.00074372, 0.00081258, 0.00086641, 0.00097122, 0.00110402,\n",
       "        0.00114269]),\n",
       " 'std_score_time': array([8.24988093e-05, 5.31042049e-05, 2.07477026e-04, 5.04814057e-05,\n",
       "        7.96100164e-05, 1.19750663e-04, 2.28881836e-06, 4.95178801e-05,\n",
       "        2.06732969e-05, 8.39558452e-07, 4.31952356e-06, 3.95401238e-06,\n",
       "        3.71810697e-06, 3.10127498e-06, 4.01620325e-06, 4.93879929e-05,\n",
       "        9.25064087e-06, 2.28805331e-05, 6.84390073e-07, 1.99475295e-06,\n",
       "        4.80472535e-05, 8.53258758e-06, 4.96323121e-06, 3.64834962e-06,\n",
       "        2.22910024e-05, 7.16093844e-05, 2.94449937e-05, 6.64157308e-07,\n",
       "        1.64328352e-05, 6.14990546e-06, 5.92699189e-06, 6.88202735e-05,\n",
       "        7.24126171e-05, 8.24609044e-05, 5.54049896e-05, 5.80549974e-05,\n",
       "        8.52992240e-07, 1.62824355e-06, 2.85704654e-06, 2.19862783e-06,\n",
       "        7.46002552e-06, 2.78694900e-06, 5.31967364e-06, 2.66062512e-04,\n",
       "        2.85156594e-05, 1.04954946e-04, 2.20526747e-05, 5.96904138e-06,\n",
       "        1.21570099e-06, 7.11347073e-05, 2.53175835e-05, 1.84240610e-04,\n",
       "        1.14138522e-05, 3.20421088e-05, 1.56994606e-06, 1.39319709e-05,\n",
       "        1.00038117e-05, 1.48050067e-06, 5.61758697e-05, 2.00611915e-06,\n",
       "        4.88355285e-05, 5.85830885e-06, 1.76072403e-05, 1.49567331e-05,\n",
       "        1.09776158e-06, 2.04317906e-06, 7.71093898e-05, 3.65146441e-06,\n",
       "        3.55673153e-04, 3.32284000e-06, 4.37184528e-06, 1.06769004e-04,\n",
       "        3.23617544e-06, 1.77966973e-05, 5.90315928e-06, 2.50625901e-05,\n",
       "        3.32733265e-05, 3.38856468e-06, 2.78656553e-05, 2.29915629e-05,\n",
       "        3.67107015e-05]),\n",
       " 'param_max_depth': masked_array(data=[1, 1, 1, 1, 1, 1, 1, 1, 1, 2, 2, 2, 2, 2, 2, 2, 2, 2,\n",
       "                    3, 3, 3, 3, 3, 3, 3, 3, 3, 4, 4, 4, 4, 4, 4, 4, 4, 4,\n",
       "                    5, 5, 5, 5, 5, 5, 5, 5, 5, 6, 6, 6, 6, 6, 6, 6, 6, 6,\n",
       "                    7, 7, 7, 7, 7, 7, 7, 7, 7, 8, 8, 8, 8, 8, 8, 8, 8, 8,\n",
       "                    9, 9, 9, 9, 9, 9, 9, 9, 9],\n",
       "              mask=[False, False, False, False, False, False, False, False,\n",
       "                    False, False, False, False, False, False, False, False,\n",
       "                    False, False, False, False, False, False, False, False,\n",
       "                    False, False, False, False, False, False, False, False,\n",
       "                    False, False, False, False, False, False, False, False,\n",
       "                    False, False, False, False, False, False, False, False,\n",
       "                    False, False, False, False, False, False, False, False,\n",
       "                    False, False, False, False, False, False, False, False,\n",
       "                    False, False, False, False, False, False, False, False,\n",
       "                    False, False, False, False, False, False, False, False,\n",
       "                    False],\n",
       "        fill_value='?',\n",
       "             dtype=object),\n",
       " 'param_n_estimators': masked_array(data=[1, 2, 3, 4, 5, 6, 7, 8, 9, 1, 2, 3, 4, 5, 6, 7, 8, 9,\n",
       "                    1, 2, 3, 4, 5, 6, 7, 8, 9, 1, 2, 3, 4, 5, 6, 7, 8, 9,\n",
       "                    1, 2, 3, 4, 5, 6, 7, 8, 9, 1, 2, 3, 4, 5, 6, 7, 8, 9,\n",
       "                    1, 2, 3, 4, 5, 6, 7, 8, 9, 1, 2, 3, 4, 5, 6, 7, 8, 9,\n",
       "                    1, 2, 3, 4, 5, 6, 7, 8, 9],\n",
       "              mask=[False, False, False, False, False, False, False, False,\n",
       "                    False, False, False, False, False, False, False, False,\n",
       "                    False, False, False, False, False, False, False, False,\n",
       "                    False, False, False, False, False, False, False, False,\n",
       "                    False, False, False, False, False, False, False, False,\n",
       "                    False, False, False, False, False, False, False, False,\n",
       "                    False, False, False, False, False, False, False, False,\n",
       "                    False, False, False, False, False, False, False, False,\n",
       "                    False, False, False, False, False, False, False, False,\n",
       "                    False, False, False, False, False, False, False, False,\n",
       "                    False],\n",
       "        fill_value='?',\n",
       "             dtype=object),\n",
       " 'params': [{'max_depth': 1, 'n_estimators': 1},\n",
       "  {'max_depth': 1, 'n_estimators': 2},\n",
       "  {'max_depth': 1, 'n_estimators': 3},\n",
       "  {'max_depth': 1, 'n_estimators': 4},\n",
       "  {'max_depth': 1, 'n_estimators': 5},\n",
       "  {'max_depth': 1, 'n_estimators': 6},\n",
       "  {'max_depth': 1, 'n_estimators': 7},\n",
       "  {'max_depth': 1, 'n_estimators': 8},\n",
       "  {'max_depth': 1, 'n_estimators': 9},\n",
       "  {'max_depth': 2, 'n_estimators': 1},\n",
       "  {'max_depth': 2, 'n_estimators': 2},\n",
       "  {'max_depth': 2, 'n_estimators': 3},\n",
       "  {'max_depth': 2, 'n_estimators': 4},\n",
       "  {'max_depth': 2, 'n_estimators': 5},\n",
       "  {'max_depth': 2, 'n_estimators': 6},\n",
       "  {'max_depth': 2, 'n_estimators': 7},\n",
       "  {'max_depth': 2, 'n_estimators': 8},\n",
       "  {'max_depth': 2, 'n_estimators': 9},\n",
       "  {'max_depth': 3, 'n_estimators': 1},\n",
       "  {'max_depth': 3, 'n_estimators': 2},\n",
       "  {'max_depth': 3, 'n_estimators': 3},\n",
       "  {'max_depth': 3, 'n_estimators': 4},\n",
       "  {'max_depth': 3, 'n_estimators': 5},\n",
       "  {'max_depth': 3, 'n_estimators': 6},\n",
       "  {'max_depth': 3, 'n_estimators': 7},\n",
       "  {'max_depth': 3, 'n_estimators': 8},\n",
       "  {'max_depth': 3, 'n_estimators': 9},\n",
       "  {'max_depth': 4, 'n_estimators': 1},\n",
       "  {'max_depth': 4, 'n_estimators': 2},\n",
       "  {'max_depth': 4, 'n_estimators': 3},\n",
       "  {'max_depth': 4, 'n_estimators': 4},\n",
       "  {'max_depth': 4, 'n_estimators': 5},\n",
       "  {'max_depth': 4, 'n_estimators': 6},\n",
       "  {'max_depth': 4, 'n_estimators': 7},\n",
       "  {'max_depth': 4, 'n_estimators': 8},\n",
       "  {'max_depth': 4, 'n_estimators': 9},\n",
       "  {'max_depth': 5, 'n_estimators': 1},\n",
       "  {'max_depth': 5, 'n_estimators': 2},\n",
       "  {'max_depth': 5, 'n_estimators': 3},\n",
       "  {'max_depth': 5, 'n_estimators': 4},\n",
       "  {'max_depth': 5, 'n_estimators': 5},\n",
       "  {'max_depth': 5, 'n_estimators': 6},\n",
       "  {'max_depth': 5, 'n_estimators': 7},\n",
       "  {'max_depth': 5, 'n_estimators': 8},\n",
       "  {'max_depth': 5, 'n_estimators': 9},\n",
       "  {'max_depth': 6, 'n_estimators': 1},\n",
       "  {'max_depth': 6, 'n_estimators': 2},\n",
       "  {'max_depth': 6, 'n_estimators': 3},\n",
       "  {'max_depth': 6, 'n_estimators': 4},\n",
       "  {'max_depth': 6, 'n_estimators': 5},\n",
       "  {'max_depth': 6, 'n_estimators': 6},\n",
       "  {'max_depth': 6, 'n_estimators': 7},\n",
       "  {'max_depth': 6, 'n_estimators': 8},\n",
       "  {'max_depth': 6, 'n_estimators': 9},\n",
       "  {'max_depth': 7, 'n_estimators': 1},\n",
       "  {'max_depth': 7, 'n_estimators': 2},\n",
       "  {'max_depth': 7, 'n_estimators': 3},\n",
       "  {'max_depth': 7, 'n_estimators': 4},\n",
       "  {'max_depth': 7, 'n_estimators': 5},\n",
       "  {'max_depth': 7, 'n_estimators': 6},\n",
       "  {'max_depth': 7, 'n_estimators': 7},\n",
       "  {'max_depth': 7, 'n_estimators': 8},\n",
       "  {'max_depth': 7, 'n_estimators': 9},\n",
       "  {'max_depth': 8, 'n_estimators': 1},\n",
       "  {'max_depth': 8, 'n_estimators': 2},\n",
       "  {'max_depth': 8, 'n_estimators': 3},\n",
       "  {'max_depth': 8, 'n_estimators': 4},\n",
       "  {'max_depth': 8, 'n_estimators': 5},\n",
       "  {'max_depth': 8, 'n_estimators': 6},\n",
       "  {'max_depth': 8, 'n_estimators': 7},\n",
       "  {'max_depth': 8, 'n_estimators': 8},\n",
       "  {'max_depth': 8, 'n_estimators': 9},\n",
       "  {'max_depth': 9, 'n_estimators': 1},\n",
       "  {'max_depth': 9, 'n_estimators': 2},\n",
       "  {'max_depth': 9, 'n_estimators': 3},\n",
       "  {'max_depth': 9, 'n_estimators': 4},\n",
       "  {'max_depth': 9, 'n_estimators': 5},\n",
       "  {'max_depth': 9, 'n_estimators': 6},\n",
       "  {'max_depth': 9, 'n_estimators': 7},\n",
       "  {'max_depth': 9, 'n_estimators': 8},\n",
       "  {'max_depth': 9, 'n_estimators': 9}],\n",
       " 'split0_test_score': array([0.59803922, 0.7254902 , 0.60784314, 0.7254902 , 0.82352941,\n",
       "        0.84313725, 0.80392157, 0.84313725, 0.82352941, 0.71568627,\n",
       "        0.79411765, 0.79411765, 0.82352941, 0.7745098 , 0.81372549,\n",
       "        0.79411765, 0.78431373, 0.84313725, 0.79411765, 0.84313725,\n",
       "        0.80392157, 0.83333333, 0.79411765, 0.84313725, 0.84313725,\n",
       "        0.78431373, 0.82352941, 0.7254902 , 0.80392157, 0.82352941,\n",
       "        0.85294118, 0.79411765, 0.82352941, 0.83333333, 0.82352941,\n",
       "        0.8627451 , 0.60784314, 0.7254902 , 0.80392157, 0.78431373,\n",
       "        0.81372549, 0.84313725, 0.81372549, 0.83333333, 0.83333333,\n",
       "        0.79411765, 0.78431373, 0.84313725, 0.82352941, 0.83333333,\n",
       "        0.81372549, 0.83333333, 0.79411765, 0.84313725, 0.79411765,\n",
       "        0.79411765, 0.85294118, 0.81372549, 0.78431373, 0.83333333,\n",
       "        0.82352941, 0.83333333, 0.81372549, 0.80392157, 0.78431373,\n",
       "        0.84313725, 0.83333333, 0.82352941, 0.79411765, 0.81372549,\n",
       "        0.83333333, 0.80392157, 0.81372549, 0.7254902 , 0.83333333,\n",
       "        0.82352941, 0.82352941, 0.82352941, 0.83333333, 0.81372549,\n",
       "        0.83333333]),\n",
       " 'split1_test_score': array([0.57843137, 0.80392157, 0.85294118, 0.59803922, 0.83333333,\n",
       "        0.83333333, 0.79411765, 0.83333333, 0.78431373, 0.68627451,\n",
       "        0.81372549, 0.76470588, 0.79411765, 0.81372549, 0.83333333,\n",
       "        0.82352941, 0.81372549, 0.84313725, 0.80392157, 0.82352941,\n",
       "        0.82352941, 0.83333333, 0.83333333, 0.83333333, 0.84313725,\n",
       "        0.84313725, 0.83333333, 0.80392157, 0.85294118, 0.85294118,\n",
       "        0.87254902, 0.87254902, 0.82352941, 0.87254902, 0.84313725,\n",
       "        0.85294118, 0.7254902 , 0.82352941, 0.82352941, 0.84313725,\n",
       "        0.84313725, 0.88235294, 0.87254902, 0.88235294, 0.87254902,\n",
       "        0.79411765, 0.83333333, 0.83333333, 0.85294118, 0.8627451 ,\n",
       "        0.88235294, 0.87254902, 0.87254902, 0.8627451 , 0.84313725,\n",
       "        0.83333333, 0.83333333, 0.84313725, 0.88235294, 0.8627451 ,\n",
       "        0.85294118, 0.84313725, 0.85294118, 0.85294118, 0.78431373,\n",
       "        0.82352941, 0.8627451 , 0.83333333, 0.84313725, 0.85294118,\n",
       "        0.8627451 , 0.84313725, 0.88235294, 0.79411765, 0.81372549,\n",
       "        0.85294118, 0.82352941, 0.88235294, 0.82352941, 0.85294118,\n",
       "        0.85294118]),\n",
       " 'split2_test_score': array([0.79411765, 0.52941176, 0.60784314, 0.75490196, 0.83333333,\n",
       "        0.59803922, 0.78431373, 0.78431373, 0.83333333, 0.79411765,\n",
       "        0.80392157, 0.82352941, 0.80392157, 0.80392157, 0.61764706,\n",
       "        0.85294118, 0.74509804, 0.82352941, 0.81372549, 0.76470588,\n",
       "        0.76470588, 0.80392157, 0.84313725, 0.84313725, 0.84313725,\n",
       "        0.84313725, 0.83333333, 0.83333333, 0.75490196, 0.84313725,\n",
       "        0.82352941, 0.82352941, 0.83333333, 0.83333333, 0.81372549,\n",
       "        0.82352941, 0.81372549, 0.82352941, 0.78431373, 0.83333333,\n",
       "        0.85294118, 0.8627451 , 0.87254902, 0.83333333, 0.81372549,\n",
       "        0.80392157, 0.81372549, 0.84313725, 0.82352941, 0.8627451 ,\n",
       "        0.79411765, 0.85294118, 0.84313725, 0.85294118, 0.76470588,\n",
       "        0.85294118, 0.85294118, 0.82352941, 0.84313725, 0.82352941,\n",
       "        0.83333333, 0.82352941, 0.81372549, 0.7745098 , 0.83333333,\n",
       "        0.81372549, 0.83333333, 0.83333333, 0.87254902, 0.83333333,\n",
       "        0.83333333, 0.87254902, 0.82352941, 0.80392157, 0.84313725,\n",
       "        0.81372549, 0.83333333, 0.81372549, 0.79411765, 0.79411765,\n",
       "        0.83333333]),\n",
       " 'split3_test_score': array([0.77227723, 0.58415842, 0.8019802 , 0.58415842, 0.76237624,\n",
       "        0.66336634, 0.57425743, 0.58415842, 0.76237624, 0.64356436,\n",
       "        0.75247525, 0.77227723, 0.71287129, 0.78217822, 0.78217822,\n",
       "        0.74257426, 0.78217822, 0.82178218, 0.57425743, 0.77227723,\n",
       "        0.7029703 , 0.78217822, 0.82178218, 0.8019802 , 0.83168317,\n",
       "        0.78217822, 0.77227723, 0.79207921, 0.77227723, 0.81188119,\n",
       "        0.79207921, 0.83168317, 0.8019802 , 0.81188119, 0.79207921,\n",
       "        0.82178218, 0.78217822, 0.81188119, 0.82178218, 0.78217822,\n",
       "        0.84158416, 0.83168317, 0.82178218, 0.8019802 , 0.79207921,\n",
       "        0.76237624, 0.77227723, 0.75247525, 0.77227723, 0.8019802 ,\n",
       "        0.78217822, 0.79207921, 0.81188119, 0.81188119, 0.82178218,\n",
       "        0.79207921, 0.79207921, 0.79207921, 0.82178218, 0.85148515,\n",
       "        0.81188119, 0.81188119, 0.81188119, 0.76237624, 0.81188119,\n",
       "        0.78217822, 0.79207921, 0.83168317, 0.8019802 , 0.85148515,\n",
       "        0.81188119, 0.81188119, 0.82178218, 0.74257426, 0.8019802 ,\n",
       "        0.82178218, 0.78217822, 0.78217822, 0.8019802 , 0.78217822,\n",
       "        0.81188119]),\n",
       " 'split4_test_score': array([0.58415842, 0.67326733, 0.76237624, 0.68316832, 0.74257426,\n",
       "        0.7029703 , 0.56435644, 0.58415842, 0.83168317, 0.85148515,\n",
       "        0.69306931, 0.68316832, 0.83168317, 0.86138614, 0.84158416,\n",
       "        0.86138614, 0.86138614, 0.79207921, 0.76237624, 0.73267327,\n",
       "        0.81188119, 0.86138614, 0.73267327, 0.79207921, 0.88118812,\n",
       "        0.86138614, 0.86138614, 0.83168317, 0.88118812, 0.84158416,\n",
       "        0.86138614, 0.85148515, 0.89108911, 0.91089109, 0.8019802 ,\n",
       "        0.81188119, 0.77227723, 0.8019802 , 0.8019802 , 0.87128713,\n",
       "        0.82178218, 0.89108911, 0.87128713, 0.87128713, 0.87128713,\n",
       "        0.73267327, 0.89108911, 0.87128713, 0.84158416, 0.82178218,\n",
       "        0.84158416, 0.9009901 , 0.88118812, 0.88118812, 0.76237624,\n",
       "        0.84158416, 0.89108911, 0.91089109, 0.89108911, 0.9009901 ,\n",
       "        0.87128713, 0.86138614, 0.87128713, 0.73267327, 0.81188119,\n",
       "        0.83168317, 0.84158416, 0.82178218, 0.87128713, 0.85148515,\n",
       "        0.87128713, 0.85148515, 0.86138614, 0.84158416, 0.81188119,\n",
       "        0.83168317, 0.84158416, 0.88118812, 0.84158416, 0.79207921,\n",
       "        0.83168317]),\n",
       " 'mean_test_score': array([0.66540478, 0.66324985, 0.72659678, 0.66915162, 0.79902931,\n",
       "        0.72816929, 0.70419336, 0.72582023, 0.80704718, 0.73822559,\n",
       "        0.77146185, 0.7675597 , 0.79322462, 0.80714424, 0.77769365,\n",
       "        0.81490973, 0.79734032, 0.82473306, 0.74967967, 0.78726461,\n",
       "        0.78140167, 0.82283052, 0.80500874, 0.82273345, 0.84845661,\n",
       "        0.82283052, 0.82477189, 0.79730149, 0.81304601, 0.83461464,\n",
       "        0.84049699, 0.83467288, 0.83469229, 0.85239759, 0.81489031,\n",
       "        0.83457581, 0.74030285, 0.79728208, 0.80710542, 0.82284993,\n",
       "        0.83463405, 0.86220151, 0.85037857, 0.84445739, 0.83659484,\n",
       "        0.77744127, 0.81894778, 0.82867404, 0.82277228, 0.83651718,\n",
       "        0.82279169, 0.85037857, 0.84057465, 0.85037857, 0.79722384,\n",
       "        0.8228111 , 0.8444768 , 0.83667249, 0.84453504, 0.85441662,\n",
       "        0.83859445, 0.83465347, 0.83271209, 0.78528441, 0.80514463,\n",
       "        0.81885071, 0.83261503, 0.82873228, 0.83661425, 0.84059406,\n",
       "        0.84251602, 0.83659484, 0.84055523, 0.78153757, 0.82081149,\n",
       "        0.82873228, 0.82083091, 0.83659484, 0.81890895, 0.80700835,\n",
       "        0.83263444]),\n",
       " 'std_test_score': array([0.09663559, 0.09790897, 0.10112427, 0.06782985, 0.03868955,\n",
       "        0.09596391, 0.11035314, 0.11737119, 0.02857223, 0.07499245,\n",
       "        0.04440499, 0.04688334, 0.04235403, 0.03060781, 0.08259672,\n",
       "        0.04323304, 0.03872771, 0.0187289 , 0.0893901 , 0.0403748 ,\n",
       "        0.04391155, 0.02726651, 0.03972015, 0.02151915, 0.01695634,\n",
       "        0.03300732, 0.02913566, 0.03926411, 0.04766771, 0.01481056,\n",
       "        0.02915725, 0.02643897, 0.03000583, 0.03520239, 0.01766861,\n",
       "        0.01965473, 0.07201636, 0.03678893, 0.01442928, 0.03466083,\n",
       "        0.01454715, 0.0225197 , 0.02676351, 0.02900934, 0.03165926,\n",
       "        0.02641416, 0.04199106, 0.04015522, 0.02762226, 0.02364685,\n",
       "        0.03592924, 0.03673957, 0.03364506, 0.02299222, 0.03159929,\n",
       "        0.02505486, 0.03220461, 0.04059079, 0.03935411, 0.02700211,\n",
       "        0.02117958, 0.01691552, 0.02470691, 0.04082546, 0.01872548,\n",
       "        0.02072457, 0.02294537, 0.00502834, 0.03329127, 0.01525989,\n",
       "        0.02165238, 0.0254383 , 0.02661998, 0.0422477 , 0.01509845,\n",
       "        0.01338175, 0.02047243, 0.03933763, 0.01813708, 0.02514172,\n",
       "        0.01299956]),\n",
       " 'rank_test_score': array([80, 81, 76, 79, 58, 75, 78, 77, 54, 74, 70, 71, 63, 52, 68, 49, 59,\n",
       "        36, 72, 64, 67, 38, 57, 43,  7, 38, 35, 60, 51, 27, 15, 24, 23,  3,\n",
       "        50, 28, 73, 61, 53, 37, 26,  1,  6, 10, 19, 69, 46, 34, 42, 22, 41,\n",
       "         4, 13,  4, 62, 40,  9, 17,  8,  2, 16, 25, 29, 65, 56, 48, 31, 32,\n",
       "        18, 12, 11, 19, 14, 66, 45, 32, 44, 19, 47, 55, 30], dtype=int32)}"
      ]
     },
     "execution_count": 32,
     "metadata": {},
     "output_type": "execute_result"
    }
   ],
   "source": [
    "clf.cv_results_"
   ]
  },
  {
   "cell_type": "code",
   "execution_count": 34,
   "id": "43c6011a-2f64-4896-81fc-8c15e4a5b13e",
   "metadata": {
    "tags": []
   },
   "outputs": [
    {
     "data": {
      "text/plain": [
       "41"
      ]
     },
     "execution_count": 34,
     "metadata": {},
     "output_type": "execute_result"
    }
   ],
   "source": [
    "np.argmax(clf.cv_results_['mean_test_score'])"
   ]
  },
  {
   "cell_type": "code",
   "execution_count": 42,
   "id": "8febefe8-eb15-4a53-a874-19f39181a5cd",
   "metadata": {
    "tags": []
   },
   "outputs": [
    {
     "data": {
      "text/plain": [
       "array([0.66540478, 0.66324985, 0.72659678, 0.66915162, 0.79902931,\n",
       "       0.72816929, 0.70419336, 0.72582023, 0.80704718, 0.73822559,\n",
       "       0.77146185, 0.7675597 , 0.79322462, 0.80714424, 0.77769365,\n",
       "       0.81490973, 0.79734032, 0.82473306, 0.74967967, 0.78726461,\n",
       "       0.78140167, 0.82283052, 0.80500874, 0.82273345, 0.84845661,\n",
       "       0.82283052, 0.82477189, 0.79730149, 0.81304601, 0.83461464,\n",
       "       0.84049699, 0.83467288, 0.83469229, 0.85239759, 0.81489031,\n",
       "       0.83457581, 0.74030285, 0.79728208, 0.80710542, 0.82284993,\n",
       "       0.83463405, 0.86220151, 0.85037857, 0.84445739, 0.83659484,\n",
       "       0.77744127, 0.81894778, 0.82867404, 0.82277228, 0.83651718,\n",
       "       0.82279169, 0.85037857, 0.84057465, 0.85037857, 0.79722384,\n",
       "       0.8228111 , 0.8444768 , 0.83667249, 0.84453504, 0.85441662,\n",
       "       0.83859445, 0.83465347, 0.83271209, 0.78528441, 0.80514463,\n",
       "       0.81885071, 0.83261503, 0.82873228, 0.83661425, 0.84059406,\n",
       "       0.84251602, 0.83659484, 0.84055523, 0.78153757, 0.82081149,\n",
       "       0.82873228, 0.82083091, 0.83659484, 0.81890895, 0.80700835,\n",
       "       0.83263444])"
      ]
     },
     "execution_count": 42,
     "metadata": {},
     "output_type": "execute_result"
    }
   ],
   "source": [
    "clf.cv_results_['mean_test_score']"
   ]
  },
  {
   "cell_type": "code",
   "execution_count": 38,
   "id": "6b962d52-1ea3-4a18-9800-8022fb8a0218",
   "metadata": {
    "tags": []
   },
   "outputs": [
    {
     "data": {
      "text/plain": [
       "{'max_depth': 5, 'n_estimators': 6}"
      ]
     },
     "execution_count": 38,
     "metadata": {},
     "output_type": "execute_result"
    }
   ],
   "source": [
    "clf.cv_results_['params'][np.argmax(clf.cv_results_['mean_test_score'])]"
   ]
  },
  {
   "cell_type": "code",
   "execution_count": 40,
   "id": "ba4a64cf-47c7-4ff6-ac40-c7673f0fd6f4",
   "metadata": {
    "tags": []
   },
   "outputs": [
    {
     "data": {
      "text/plain": [
       "0.862201514269074"
      ]
     },
     "execution_count": 40,
     "metadata": {},
     "output_type": "execute_result"
    }
   ],
   "source": [
    "clf.cv_results_['mean_test_score'][np.argmax(clf.cv_results_['mean_test_score'])]"
   ]
  },
  {
   "cell_type": "code",
   "execution_count": 39,
   "id": "fe2a9553-303f-4c80-9b9c-792d33ef7696",
   "metadata": {
    "tags": []
   },
   "outputs": [
    {
     "name": "stdout",
     "output_type": "stream",
     "text": [
      "Train Dataset Performance\n",
      "\n"
     ]
    },
    {
     "data": {
      "image/png": "[encoded data removed]",
      "text/plain": [
       "<Figure size 640x480 with 2 Axes>"
      ]
     },
     "metadata": {},
     "output_type": "display_data"
    },
    {
     "name": "stdout",
     "output_type": "stream",
     "text": [
      "\n",
      "              precision    recall  f1-score   support\n",
      "\n",
      "       >=70k       0.92      0.86      0.89       219\n",
      "        <70k       0.83      0.90      0.86       162\n",
      "\n",
      "    accuracy                           0.88       381\n",
      "   macro avg       0.87      0.88      0.87       381\n",
      "weighted avg       0.88      0.88      0.88       381\n",
      "\n",
      "Test Dataset Performance\n",
      "\n"
     ]
    },
    {
     "data": {
      "image/png": "[encoded data removed]",
      "text/plain": [
       "<Figure size 640x480 with 2 Axes>"
      ]
     },
     "metadata": {},
     "output_type": "display_data"
    },
    {
     "name": "stdout",
     "output_type": "stream",
     "text": [
      "\n",
      "              precision    recall  f1-score   support\n",
      "\n",
      "       >=70k       0.90      0.86      0.88        76\n",
      "        <70k       0.80      0.86      0.83        51\n",
      "\n",
      "    accuracy                           0.86       127\n",
      "   macro avg       0.85      0.86      0.85       127\n",
      "weighted avg       0.86      0.86      0.86       127\n",
      "\n"
     ]
    }
   ],
   "source": [
    "from sklearn.linear_model import LinearRegression\n",
    "from sklearn.model_selection import train_test_split\n",
    "from sklearn.ensemble import RandomForestClassifier\n",
    "from sklearn.ensemble import GradientBoostingClassifier\n",
    "from sklearn.metrics import confusion_matrix, ConfusionMatrixDisplay, classification_report\n",
    "\n",
    "df_ohe_scaled_classif = df_ohe_scaled.copy()\n",
    "df_ohe_scaled_classif[\">=70k\"] = df_ohe_scaled_classif.Price.apply(lambda x: x > 70000)\n",
    "df_ohe_scaled_classif.drop(columns=['Price'], inplace=True)\n",
    "\n",
    "X = df_ohe_scaled_classif.drop(columns=['>=70k']).values\n",
    "y = df_ohe_scaled_classif['>=70k'].values\n",
    "\n",
    "X_train, X_test, y_train, y_test = train_test_split(X, y, random_state=0)\n",
    "\n",
    "rf = RandomForestClassifier(n_estimators=6, max_depth=5)\n",
    "rf.fit(X_train, y_train)\n",
    "y_pred = rf.predict(X_test)\n",
    "y_train_pred =  rf.predict(X_train)\n",
    "\n",
    "print('Train Dataset Performance')\n",
    "print()\n",
    "cm = confusion_matrix(y_train, y_train_pred, labels=rf.classes_)\n",
    "disp = ConfusionMatrixDisplay(confusion_matrix=cm, display_labels=rf.classes_)\n",
    "disp.plot()\n",
    "plt.show()\n",
    "print()\n",
    "print(classification_report(y_train, y_train_pred, target_names=['>=70k', '<70k']))\n",
    "\n",
    "print('Test Dataset Performance')\n",
    "print()\n",
    "cm = confusion_matrix(y_test, y_pred, labels=rf.classes_)\n",
    "disp = ConfusionMatrixDisplay(confusion_matrix=cm, display_labels=rf.classes_)\n",
    "disp.plot()\n",
    "plt.show()\n",
    "print()\n",
    "print(classification_report(y_test, y_pred, target_names=['>=70k', '<70k']))"
   ]
  },
  {
   "cell_type": "code",
   "execution_count": null,
   "id": "9d38afe8-7c8c-4ae7-84a6-9e06ff2ffac6",
   "metadata": {},
   "outputs": [],
   "source": []
  }
 ],
 "metadata": {
  "kernelspec": {
   "display_name": "Python 3 (ipykernel)",
   "language": "python",
   "name": "python3"
  },
  "language_info": {
   "codemirror_mode": {
    "name": "ipython",
    "version": 3
   },
   "file_extension": ".py",
   "mimetype": "text/x-python",
   "name": "python",
   "nbconvert_exporter": "python",
   "pygments_lexer": "ipython3",
   "version": "3.8.16"
  }
 },
 "nbformat": 4,
 "nbformat_minor": 5
}
